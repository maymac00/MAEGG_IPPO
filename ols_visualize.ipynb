{
 "cells": [
  {
   "cell_type": "code",
   "execution_count": 213,
   "id": "initial_id",
   "metadata": {
    "collapsed": true,
    "ExecuteTime": {
     "end_time": "2024-04-18T13:54:13.889200603Z",
     "start_time": "2024-04-18T13:54:13.869449119Z"
    }
   },
   "outputs": [],
   "source": [
    "import numpy as np"
   ]
  },
  {
   "cell_type": "code",
   "outputs": [
    {
     "data": {
      "text/plain": "'large_policies = {\\n    we: {eff: {db: np.zeros((5,2)) for db in db_keys} for eff in eff_keys} for we in we_keys\\n}\\n\\nlarge_policies[10][0][0] = np.array([[-493.255, 0. ], [-491.795, 0. ], [-484.36, 0. ], [-482.56, 0. ], [-490.73, 0. ]])\\nlarge_policies[10][0][1] = np.array([[-493.255,0.],[-491.795,0.],[-484.36,0.  ],[-482.56,0.  ],[-490.73,0.  ]])\\nlarge_policies[10][0][10] =  np.array([[-493.515,0.],[-494.93,0.  ],[-494.14,0.  ],[-494.685,0.],[-494.33,0.  ]])\\nlarge_policies[10][0][100] =  np.array([[-493.515,0.],[-494.93,0.  ],[-494.14,0.  ],[-494.685,0.],[-494.33,0.  ]])\\nlarge_policies[10][0.2][0] =  np.array([[-159.21,0.  ],[-495.405,0.],[-487.79,0.  ],[-487.555,0.],[-495.415,0.]])\\nlarge_policies[10][0.2][1] =  np.array([[-135.99  , 31.2263], [-379.166,  0. ], [-473.507,  0. ], [-371.311,  0. ], [-431.127,  0. ]])\\nlarge_policies[10][0.2][10] =  np.array([[-141.003 ,   34.7508], [-379.329,    0.   ], [-393.191 ,    0.7707], [-396.253 ,    0.5138], [-394.567 ,    0.5306]])\\nlarge_policies[10][0.2][100] =  np.array([[-148.09,40.852],[-410.19,0.  ],[-419.235,0.],[-387.675,0.],[-417.115,0.]])\\nlarge_policies[10][0.6][0] =  np.array([[-205.586,  0. ], [-285.879,  0. ], [-278.435,  0. ], [-495.237,  0. ], [-495.861,  0. ]])\\nlarge_policies[10][0.6][1] =  np.array([[-151.564 ,    5.3354],[-105.249 ,    9.2631], [-146.008 ,    6.4743], [-2.51422e+02,  1.33000e-02], [-2.40726e+02,  3.43000e-02]])\\nlarge_policies[10][0.6][10] =  np.array([[-152.914 ,   10.3453], [-154.314 ,   10.7275], [-175.09  ,    8.2922], [-2.76137e+02, -1.00000e-03], [-297.847,    0.   ]])\\nlarge_policies[10][0.6][100] =  np.array([[-161.36,27.86],[-173.88,25.97],[-172.64,25.466],[-242.74,0.],[-319.92, 0.  ]])\\nlarge_policies[10][1][0] =  np.array([])\\nlarge_policies[10][1][1] =  np.array([])\\nlarge_policies[10][1][10] =  np.array([])\\nlarge_policies[10][1][100] =  np.array([])\\nlarge_policies[10][1][100] =  np.array([])\\nlarge_policies[0][0.2][0] =  np.array([[-68.607,  -5.984], [-495.719,    0.   ], [-4.95445e+02, -1.10000e-02], [-4.9547e+02, -1.0000e-03], [-495.773,    0.   ]])\\nlarge_policies[0][0.2][1] =  np.array([[-68.607,  -5.984], [-495.719,    0.   ], [-4.95445e+02, -1.10000e-02], [-4.9547e+02, -1.0000e-03], [-495.773,    0.   ]])\\nlarge_policies[0][0.2][10] =  np.array([[-68.607,  -5.984], [-495.719,    0.   ], [-4.95445e+02, -1.10000e-02], [-4.9547e+02, -1.0000e-03], [-495.773,    0.   ]])\\nlarge_policies[0][0.2][100] =  np.array([[-68.607,  -5.984], [-495.719,    0.   ], [-4.95445e+02, -1.10000e-02], [-4.9547e+02, -1.0000e-03], [-495.773,    0.   ]])\\nlarge_policies[0][0.6][0] =  np.array([[-1.05702e+02, -8.80000e-02], [-117.767,   -2.734], [-136.136,   -0.833], [-498.195,    0.   ], [-498.261,    0.   ]])\\nlarge_policies[0][0.6][1] =  np.array([[-1.05702e+02, -8.80000e-02], [-117.767,   -2.734], [-136.136,   -0.833], [-498.195,    0.   ], [-498.261,    0.   ]])\\nlarge_policies[0][0.6][10] =  np.array([[-1.05702e+02, -8.80000e-02], [-117.767,   -2.734], [-136.136,   -0.833], [-498.195,    0.   ], [-498.261,    0.   ]])\\nlarge_policies[0][0.6][100] =  np.array([[-1.05702e+02, -8.80000e-02], [-117.767,   -2.734], [-136.136,   -0.833], [-498.195,    0.   ], [-498.261,    0.   ]])\\n\\n# Any policy with we = 0 is the same as the policy with we = 10 and db = 0\\nfor eff in eff_keys:\\n    for db in db_keys:\\n        # if empty, copy the policy with we = 10 and db = 0\\n        if len(large_policies[0][eff][db]) == 0 or (large_policies[0][eff][db] == np.zeros((5,2))).all():\\n            large_policies[0][eff][db] = large_policies[10][eff][0]'"
     },
     "execution_count": 214,
     "metadata": {},
     "output_type": "execute_result"
    }
   ],
   "source": [
    "import numpy as np\n",
    "import matplotlib.pyplot as plt\n",
    "import matplotlib\n",
    "# %matplotlib tk\n",
    "we_keys = [0, 10, -1]\n",
    "eff_keys = [0, 0.2, 0.6, 1]\n",
    "db_keys = [0, 1, 10, 100]\n",
    "\n",
    "# Create a dictionary dict with all the policies like dict[we][db][eff] = policy\n",
    "\"\"\"large_policies = {\n",
    "    we: {eff: {db: np.zeros((5,2)) for db in db_keys} for eff in eff_keys} for we in we_keys\n",
    "}\n",
    "\n",
    "large_policies[10][0][0] = np.array([[-493.255, 0. ], [-491.795, 0. ], [-484.36, 0. ], [-482.56, 0. ], [-490.73, 0. ]])\n",
    "large_policies[10][0][1] = np.array([[-493.255,0.],[-491.795,0.],[-484.36,0.  ],[-482.56,0.  ],[-490.73,0.  ]])\n",
    "large_policies[10][0][10] =  np.array([[-493.515,0.],[-494.93,0.  ],[-494.14,0.  ],[-494.685,0.],[-494.33,0.  ]])\n",
    "large_policies[10][0][100] =  np.array([[-493.515,0.],[-494.93,0.  ],[-494.14,0.  ],[-494.685,0.],[-494.33,0.  ]])\n",
    "large_policies[10][0.2][0] =  np.array([[-159.21,0.  ],[-495.405,0.],[-487.79,0.  ],[-487.555,0.],[-495.415,0.]])\n",
    "large_policies[10][0.2][1] =  np.array([[-135.99  , 31.2263], [-379.166,  0. ], [-473.507,  0. ], [-371.311,  0. ], [-431.127,  0. ]])\n",
    "large_policies[10][0.2][10] =  np.array([[-141.003 ,   34.7508], [-379.329,    0.   ], [-393.191 ,    0.7707], [-396.253 ,    0.5138], [-394.567 ,    0.5306]])\n",
    "large_policies[10][0.2][100] =  np.array([[-148.09,40.852],[-410.19,0.  ],[-419.235,0.],[-387.675,0.],[-417.115,0.]])\n",
    "large_policies[10][0.6][0] =  np.array([[-205.586,  0. ], [-285.879,  0. ], [-278.435,  0. ], [-495.237,  0. ], [-495.861,  0. ]])\n",
    "large_policies[10][0.6][1] =  np.array([[-151.564 ,    5.3354],[-105.249 ,    9.2631], [-146.008 ,    6.4743], [-2.51422e+02,  1.33000e-02], [-2.40726e+02,  3.43000e-02]])\n",
    "large_policies[10][0.6][10] =  np.array([[-152.914 ,   10.3453], [-154.314 ,   10.7275], [-175.09  ,    8.2922], [-2.76137e+02, -1.00000e-03], [-297.847,    0.   ]])\n",
    "large_policies[10][0.6][100] =  np.array([[-161.36,27.86],[-173.88,25.97],[-172.64,25.466],[-242.74,0.],[-319.92, 0.  ]])\n",
    "large_policies[10][1][0] =  np.array([])\n",
    "large_policies[10][1][1] =  np.array([])\n",
    "large_policies[10][1][10] =  np.array([])\n",
    "large_policies[10][1][100] =  np.array([])\n",
    "large_policies[10][1][100] =  np.array([])\n",
    "large_policies[0][0.2][0] =  np.array([[-68.607,  -5.984], [-495.719,    0.   ], [-4.95445e+02, -1.10000e-02], [-4.9547e+02, -1.0000e-03], [-495.773,    0.   ]])\n",
    "large_policies[0][0.2][1] =  np.array([[-68.607,  -5.984], [-495.719,    0.   ], [-4.95445e+02, -1.10000e-02], [-4.9547e+02, -1.0000e-03], [-495.773,    0.   ]])\n",
    "large_policies[0][0.2][10] =  np.array([[-68.607,  -5.984], [-495.719,    0.   ], [-4.95445e+02, -1.10000e-02], [-4.9547e+02, -1.0000e-03], [-495.773,    0.   ]])\n",
    "large_policies[0][0.2][100] =  np.array([[-68.607,  -5.984], [-495.719,    0.   ], [-4.95445e+02, -1.10000e-02], [-4.9547e+02, -1.0000e-03], [-495.773,    0.   ]])\n",
    "large_policies[0][0.6][0] =  np.array([[-1.05702e+02, -8.80000e-02], [-117.767,   -2.734], [-136.136,   -0.833], [-498.195,    0.   ], [-498.261,    0.   ]])\n",
    "large_policies[0][0.6][1] =  np.array([[-1.05702e+02, -8.80000e-02], [-117.767,   -2.734], [-136.136,   -0.833], [-498.195,    0.   ], [-498.261,    0.   ]])\n",
    "large_policies[0][0.6][10] =  np.array([[-1.05702e+02, -8.80000e-02], [-117.767,   -2.734], [-136.136,   -0.833], [-498.195,    0.   ], [-498.261,    0.   ]])\n",
    "large_policies[0][0.6][100] =  np.array([[-1.05702e+02, -8.80000e-02], [-117.767,   -2.734], [-136.136,   -0.833], [-498.195,    0.   ], [-498.261,    0.   ]])\n",
    "\n",
    "# Any policy with we = 0 is the same as the policy with we = 10 and db = 0\n",
    "for eff in eff_keys:\n",
    "    for db in db_keys:\n",
    "        # if empty, copy the policy with we = 10 and db = 0\n",
    "        if len(large_policies[0][eff][db]) == 0 or (large_policies[0][eff][db] == np.zeros((5,2))).all():\n",
    "            large_policies[0][eff][db] = large_policies[10][eff][0]\"\"\"\n",
    "\n"
   ],
   "metadata": {
    "collapsed": false,
    "ExecuteTime": {
     "end_time": "2024-04-18T13:54:13.938148018Z",
     "start_time": "2024-04-18T13:54:13.897333299Z"
    }
   },
   "id": "cfa30624cc284ec7",
   "execution_count": 214
  },
  {
   "cell_type": "code",
   "outputs": [],
   "source": [],
   "metadata": {
    "collapsed": false,
    "ExecuteTime": {
     "end_time": "2024-04-18T13:54:13.958569165Z",
     "start_time": "2024-04-18T13:54:13.938103859Z"
    }
   },
   "id": "62ba699cc5fe609a",
   "execution_count": 214
  },
  {
   "cell_type": "code",
   "outputs": [
    {
     "name": "stdout",
     "output_type": "stream",
     "text": [
      "<class 'pandas.core.frame.DataFrame'>\n",
      "RangeIndex: 17 entries, 0 to 16\n",
      "Data columns (total 32 columns):\n",
      " #   Column                      Non-Null Count  Dtype  \n",
      "---  ------                      --------------  -----  \n",
      " 0   db                          17 non-null     float64\n",
      " 1   eff_rate                    17 non-null     float64\n",
      " 2   we                          17 non-null     float64\n",
      " 3   dir                         17 non-null     int64  \n",
      " 4   mean_reward                 17 non-null     float64\n",
      " 5   mean_reward_agent_0         17 non-null     float64\n",
      " 6   mean_reward_agent_1         17 non-null     float64\n",
      " 7   mean_reward_agent_2         17 non-null     float64\n",
      " 8   mean_reward_agent_3         17 non-null     float64\n",
      " 9   mean_reward_agent_4         17 non-null     float64\n",
      " 10  mean_mo_reward_agent_v0_0   17 non-null     float64\n",
      " 11  mean_mo_reward_agent_v0_1   17 non-null     float64\n",
      " 12  mean_mo_reward_agent_v0_2   17 non-null     float64\n",
      " 13  mean_mo_reward_agent_v0_3   17 non-null     float64\n",
      " 14  mean_mo_reward_agent_v0_4   17 non-null     float64\n",
      " 15  mean_mo_reward_agent_ve_0   17 non-null     float64\n",
      " 16  mean_mo_reward_agent_ve_1   17 non-null     float64\n",
      " 17  mean_mo_reward_agent_ve_2   17 non-null     float64\n",
      " 18  mean_mo_reward_agent_ve_3   17 non-null     float64\n",
      " 19  mean_mo_reward_agent_ve_4   17 non-null     float64\n",
      " 20  time_to_survival_agent_0    17 non-null     float64\n",
      " 21  time_to_survival_agent_1    17 non-null     float64\n",
      " 22  time_to_survival_agent_2    17 non-null     float64\n",
      " 23  time_to_survival_agent_3    17 non-null     float64\n",
      " 24  time_to_survival_agent_4    17 non-null     float64\n",
      " 25  time_to_survival_agent_sd0  17 non-null     float64\n",
      " 26  time_to_survival_agent_sd1  17 non-null     float64\n",
      " 27  time_to_survival_agent_sd2  17 non-null     float64\n",
      " 28  time_to_survival_agent_sd3  17 non-null     float64\n",
      " 29  time_to_survival_agent_sd4  17 non-null     float64\n",
      " 30  gini                        17 non-null     float64\n",
      " 31  hoover                      17 non-null     float64\n",
      "dtypes: float64(31), int64(1)\n",
      "memory usage: 4.4 KB\n"
     ]
    }
   ],
   "source": [
    "import pandas as pd\n",
    "\n",
    "# Dataframe from csv\n",
    "df = pd.read_csv(\"EGG_DATA/report.csv\")\n",
    "df[\"dir\"] = df[\"dir\"].apply(lambda x: int(x))\n",
    "# Time to survival -1 to inf\n",
    "for i in range(5):\n",
    "    df[f\"time_to_survival_agent_{i}\"] = df[f\"time_to_survival_agent_{i}\"].apply(lambda x: np.infty if x == -1 else x)\n",
    "    df[f\"time_to_survival_agent_sd{i}\"] = df[f\"time_to_survival_agent_sd{i}\"].apply(lambda x: np.infty if x == -1 else x)\n",
    "\n",
    "df.info()"
   ],
   "metadata": {
    "collapsed": false,
    "ExecuteTime": {
     "end_time": "2024-04-18T13:54:13.987809466Z",
     "start_time": "2024-04-18T13:54:13.958805484Z"
    }
   },
   "id": "4ad2509e7ce2a09f",
   "execution_count": 215
  },
  {
   "cell_type": "code",
   "outputs": [
    {
     "data": {
      "text/plain": "    eff_rate     db    we  dir\n0        0.2    0.0  10.0    0\n1        0.2    0.0   0.0    0\n2        0.6    0.0  10.0    4\n3        0.6    0.0   0.0    2\n4        1.0    0.0  10.0    1\n5        0.0    1.0  10.0    0\n6        0.2    1.0  10.0    3\n7        0.6    1.0  10.0    1\n8        1.0    1.0  10.0    0\n9        0.0   10.0  10.0    0\n10       0.2   10.0  10.0    7\n11       0.6   10.0  10.0    2\n12       1.0   10.0  10.0    0\n13       0.0  100.0  10.0    0\n14       0.2  100.0  10.0    4\n15       0.6  100.0  10.0    4\n16       1.0  100.0  10.0    0",
      "text/html": "<div>\n<style scoped>\n    .dataframe tbody tr th:only-of-type {\n        vertical-align: middle;\n    }\n\n    .dataframe tbody tr th {\n        vertical-align: top;\n    }\n\n    .dataframe thead th {\n        text-align: right;\n    }\n</style>\n<table border=\"1\" class=\"dataframe\">\n  <thead>\n    <tr style=\"text-align: right;\">\n      <th></th>\n      <th>eff_rate</th>\n      <th>db</th>\n      <th>we</th>\n      <th>dir</th>\n    </tr>\n  </thead>\n  <tbody>\n    <tr>\n      <th>0</th>\n      <td>0.2</td>\n      <td>0.0</td>\n      <td>10.0</td>\n      <td>0</td>\n    </tr>\n    <tr>\n      <th>1</th>\n      <td>0.2</td>\n      <td>0.0</td>\n      <td>0.0</td>\n      <td>0</td>\n    </tr>\n    <tr>\n      <th>2</th>\n      <td>0.6</td>\n      <td>0.0</td>\n      <td>10.0</td>\n      <td>4</td>\n    </tr>\n    <tr>\n      <th>3</th>\n      <td>0.6</td>\n      <td>0.0</td>\n      <td>0.0</td>\n      <td>2</td>\n    </tr>\n    <tr>\n      <th>4</th>\n      <td>1.0</td>\n      <td>0.0</td>\n      <td>10.0</td>\n      <td>1</td>\n    </tr>\n    <tr>\n      <th>5</th>\n      <td>0.0</td>\n      <td>1.0</td>\n      <td>10.0</td>\n      <td>0</td>\n    </tr>\n    <tr>\n      <th>6</th>\n      <td>0.2</td>\n      <td>1.0</td>\n      <td>10.0</td>\n      <td>3</td>\n    </tr>\n    <tr>\n      <th>7</th>\n      <td>0.6</td>\n      <td>1.0</td>\n      <td>10.0</td>\n      <td>1</td>\n    </tr>\n    <tr>\n      <th>8</th>\n      <td>1.0</td>\n      <td>1.0</td>\n      <td>10.0</td>\n      <td>0</td>\n    </tr>\n    <tr>\n      <th>9</th>\n      <td>0.0</td>\n      <td>10.0</td>\n      <td>10.0</td>\n      <td>0</td>\n    </tr>\n    <tr>\n      <th>10</th>\n      <td>0.2</td>\n      <td>10.0</td>\n      <td>10.0</td>\n      <td>7</td>\n    </tr>\n    <tr>\n      <th>11</th>\n      <td>0.6</td>\n      <td>10.0</td>\n      <td>10.0</td>\n      <td>2</td>\n    </tr>\n    <tr>\n      <th>12</th>\n      <td>1.0</td>\n      <td>10.0</td>\n      <td>10.0</td>\n      <td>0</td>\n    </tr>\n    <tr>\n      <th>13</th>\n      <td>0.0</td>\n      <td>100.0</td>\n      <td>10.0</td>\n      <td>0</td>\n    </tr>\n    <tr>\n      <th>14</th>\n      <td>0.2</td>\n      <td>100.0</td>\n      <td>10.0</td>\n      <td>4</td>\n    </tr>\n    <tr>\n      <th>15</th>\n      <td>0.6</td>\n      <td>100.0</td>\n      <td>10.0</td>\n      <td>4</td>\n    </tr>\n    <tr>\n      <th>16</th>\n      <td>1.0</td>\n      <td>100.0</td>\n      <td>10.0</td>\n      <td>0</td>\n    </tr>\n  </tbody>\n</table>\n</div>"
     },
     "execution_count": 216,
     "metadata": {},
     "output_type": "execute_result"
    }
   ],
   "source": [
    "# Pretty print table with eff, db, we and dir\n",
    "df[[\"eff_rate\", \"db\", \"we\", \"dir\"]]"
   ],
   "metadata": {
    "collapsed": false,
    "ExecuteTime": {
     "end_time": "2024-04-18T13:54:14.025778666Z",
     "start_time": "2024-04-18T13:54:13.987667329Z"
    }
   },
   "id": "fabf8797da977c2b",
   "execution_count": 216
  },
  {
   "cell_type": "code",
   "outputs": [
    {
     "data": {
      "text/plain": "array([[-136.  ,   31.23],\n       [-379.25,    0.  ],\n       [-473.5 ,    0.  ],\n       [-371.25,    0.  ],\n       [-431.25,    0.  ]])"
     },
     "execution_count": 217,
     "metadata": {},
     "output_type": "execute_result"
    }
   ],
   "source": [
    "df_numpy = df.to_numpy()\n",
    "\n",
    "# Reference policies: we = 10\n",
    "ref_policies_values = {\n",
    "    eff: {db: np.zeros((5,2)) for db in db_keys} for eff in eff_keys\n",
    "}\n",
    "ref_policies_np = df_numpy[df_numpy[:, 2] == 10]\n",
    "\n",
    "for i in range(len(ref_policies_np)):\n",
    "    eff = ref_policies_np[i][1]\n",
    "    db = ref_policies_np[i][0]\n",
    "    ref_policies_values[eff][db] = np.hstack([ref_policies_np[i][10:15].reshape((5,1)), ref_policies_np[i][15:20].reshape((5,1)) ])\n",
    "\n",
    "ref_policies_values[0.6][1] = np.array([[-1.3750e+02,  7.3400e+00],[-1.3025e+02,  5.2600e+00],[-1.3400e+02,  7.1700e+00],[-2.5138e+02,  1.0000e-02],[-2.4075e+02,  3.0000e-02]])   \n",
    "\n",
    "ref_policies_values[0.2][1]"
   ],
   "metadata": {
    "collapsed": false,
    "ExecuteTime": {
     "end_time": "2024-04-18T13:54:14.026997952Z",
     "start_time": "2024-04-18T13:54:13.987849638Z"
    }
   },
   "id": "ac74feec0f5694ba",
   "execution_count": 217
  },
  {
   "cell_type": "code",
   "outputs": [
    {
     "data": {
      "text/plain": "array([[-1.3750e+02,  7.3400e+00],\n       [-1.3025e+02,  5.2600e+00],\n       [-1.3400e+02,  7.1700e+00],\n       [-2.5138e+02,  1.0000e-02],\n       [-2.4075e+02,  3.0000e-02]])"
     },
     "execution_count": 218,
     "metadata": {},
     "output_type": "execute_result"
    }
   ],
   "source": [
    "ref_policies_values[0.6][1]"
   ],
   "metadata": {
    "collapsed": false,
    "ExecuteTime": {
     "end_time": "2024-04-18T13:54:14.038614634Z",
     "start_time": "2024-04-18T13:54:14.024880755Z"
    }
   },
   "id": "a8dba748ce57270a",
   "execution_count": 218
  },
  {
   "cell_type": "code",
   "outputs": [
    {
     "data": {
      "text/plain": "array([[-1.0044e+02, -3.0000e-02],\n       [-1.1306e+02, -6.1000e-01],\n       [-1.4475e+02, -1.7200e+00],\n       [-4.9800e+02,  0.0000e+00],\n       [-4.9825e+02,  0.0000e+00]])"
     },
     "execution_count": 219,
     "metadata": {},
     "output_type": "execute_result"
    }
   ],
   "source": [
    "unet_policies_values = {\n",
    "    eff: np.zeros((5,2)) for eff in eff_keys\n",
    "}\n",
    "\n",
    "unet_policies_np = df_numpy[df_numpy[:, 2] == 0]\n",
    "for i in range(len(unet_policies_np)):\n",
    "    eff = unet_policies_np[i][1]\n",
    "    unet_policies_values[eff] = np.hstack([unet_policies_np[i][10:15].reshape((5,1)), unet_policies_np[i][15:20].reshape((5,1)) ])\n",
    "unet_policies_values[0] = ref_policies_values[0][0]\n",
    "unet_policies_values[1] = ref_policies_values[1][0]\n",
    "unet_policies_values[0.6]"
   ],
   "metadata": {
    "collapsed": false,
    "ExecuteTime": {
     "end_time": "2024-04-18T13:54:14.041867857Z",
     "start_time": "2024-04-18T13:54:14.038263287Z"
    }
   },
   "id": "1ff35c9371aac531",
   "execution_count": 219
  },
  {
   "cell_type": "code",
   "outputs": [],
   "source": [
    "# Function to get the intersection of two lines represented as f(we) = v0 + we*ve for a two given fixed sets of (v0, ve)\n",
    "def get_intersection(v01, ve1, v02, ve2):\n",
    "    if ve1 == ve2:\n",
    "        return 0\n",
    "    we = (v01 - v02) / (ve2 - ve1)\n",
    "    return we\n",
    "# get_intersection(mo_value_w10[2][0], mo_value_w10[2][1], mo_value_w0[2][0], mo_value_w0[2][1])"
   ],
   "metadata": {
    "collapsed": false,
    "ExecuteTime": {
     "end_time": "2024-04-18T13:54:14.092018110Z",
     "start_time": "2024-04-18T13:54:14.041287672Z"
    }
   },
   "id": "2c57669031cb4133",
   "execution_count": 220
  },
  {
   "cell_type": "code",
   "outputs": [
    {
     "name": "stdout",
     "output_type": "stream",
     "text": [
      "3.4599891126837234\n",
      "2.2370773416245626\n",
      "0.2943100065402224\n",
      "-112.49999999999999\n",
      "-126.2766990291262\n"
     ]
    },
    {
     "data": {
      "text/plain": "<Figure size 2500x500 with 5 Axes>",
      "image/png": "[encoded data removed]"
     },
     "metadata": {},
     "output_type": "display_data"
    }
   ],
   "source": [
    "# Plot values as function of weight w that scales the reward\n",
    "fig, axs = plt.subplots(1, 5, figsize=(25, 5)) \n",
    "step = 0.1\n",
    "# for ag in mo_value_w10:\n",
    "max_weight = 10\n",
    "# Subplot for each agent\n",
    "x = np.arange(0, max_weight, step)\n",
    "w = np.array([np.ones(int(max_weight/step)), np.arange(0, max_weight, step)])\n",
    "\n",
    "setting = {\"eff\": 0.6, \"db\": 100}\n",
    "for ag in range(5):\n",
    "    axs[ag].set_title(\"MO Value Function\")\n",
    "    ref = ref_policies_values[setting[\"eff\"]][setting[\"db\"]]\n",
    "    unet = unet_policies_values[setting[\"eff\"]]\n",
    "    axs[ag].plot(x, np.dot(unet[ag], w), c=\"blue\")\n",
    "    axs[ag].plot(x, np.dot(ref[ag], w), c=\"green\")\n",
    "    \n",
    "wes = []\n",
    "for ag in range(5):\n",
    "    # Print intersecctions\n",
    "    p1 = unet_policies_values[setting[\"eff\"]][ag]\n",
    "    p2 = ref_policies_values[setting[\"eff\"]][setting[\"db\"]][ag]\n",
    "    inter = get_intersection(p1[0], p1[1], p2[0], p2[1])\n",
    "    print(inter)\n",
    "    wes.append(inter)\n",
    "plt.show()"
   ],
   "metadata": {
    "collapsed": false,
    "ExecuteTime": {
     "end_time": "2024-04-18T13:54:14.541380732Z",
     "start_time": "2024-04-18T13:54:14.092231359Z"
    }
   },
   "id": "8985ba4013bb41c4",
   "execution_count": 221
  },
  {
   "cell_type": "code",
   "outputs": [
    {
     "data": {
      "text/plain": "     0         1         10        100\n0.0 -inf      -inf      -inf      -inf\n0.2 -inf  1.808922  1.629001  1.884186\n0.6 -inf  3.978472  1.107292  2.848533\n1.0 -inf      -inf  8.145594  4.619191",
      "text/html": "<div>\n<style scoped>\n    .dataframe tbody tr th:only-of-type {\n        vertical-align: middle;\n    }\n\n    .dataframe tbody tr th {\n        vertical-align: top;\n    }\n\n    .dataframe thead th {\n        text-align: right;\n    }\n</style>\n<table border=\"1\" class=\"dataframe\">\n  <thead>\n    <tr style=\"text-align: right;\">\n      <th></th>\n      <th>0</th>\n      <th>1</th>\n      <th>10</th>\n      <th>100</th>\n    </tr>\n  </thead>\n  <tbody>\n    <tr>\n      <th>0.0</th>\n      <td>-inf</td>\n      <td>-inf</td>\n      <td>-inf</td>\n      <td>-inf</td>\n    </tr>\n    <tr>\n      <th>0.2</th>\n      <td>-inf</td>\n      <td>1.808922</td>\n      <td>1.629001</td>\n      <td>1.884186</td>\n    </tr>\n    <tr>\n      <th>0.6</th>\n      <td>-inf</td>\n      <td>3.978472</td>\n      <td>1.107292</td>\n      <td>2.848533</td>\n    </tr>\n    <tr>\n      <th>1.0</th>\n      <td>-inf</td>\n      <td>-inf</td>\n      <td>8.145594</td>\n      <td>4.619191</td>\n    </tr>\n  </tbody>\n</table>\n</div>"
     },
     "execution_count": 222,
     "metadata": {},
     "output_type": "execute_result"
    }
   ],
   "source": [
    "def compute_wes_prima(eff, db):\n",
    "    def aggregation_function(wes, method=\"median\"):\n",
    "        # cut to interval 1-10 else return -inf\n",
    "        wes = [w for w in wes if w >= 1 and w <= 10]\n",
    "        if len(wes) == 0:\n",
    "            return -np.infty\n",
    "        if method == \"median\":\n",
    "            return np.median(wes)\n",
    "        if method == \"mean\":\n",
    "            return np.mean(wes)\n",
    "        if method == \"max\":\n",
    "            return np.max(wes)\n",
    "        if method == \"min\":\n",
    "            return np.min(wes)\n",
    "    wes_prima = []\n",
    "    for ag in range(5):\n",
    "        # Print intersecctions\n",
    "        p1 = unet_policies_values[eff][ag]\n",
    "        p2 = ref_policies_values[eff][db][ag]\n",
    "        inter = get_intersection(p1[0], p1[1], p2[0], p2[1])\n",
    "        wes_prima.append(inter)\n",
    "    return aggregation_function(wes_prima, method=\"median\")\n",
    "\n",
    "# Create table of WES' for each eff (from 0.2, 0.6, 1) and db (from 0, 1, 10, 100) \n",
    "wes_prima = {\n",
    "    db: {eff: compute_wes_prima(eff, db) for eff in eff_keys} for db in db_keys\n",
    "}\n",
    "# pretty print as dataframe\n",
    "pd.DataFrame(wes_prima)"
   ],
   "metadata": {
    "collapsed": false,
    "ExecuteTime": {
     "end_time": "2024-04-18T13:54:14.556378107Z",
     "start_time": "2024-04-18T13:54:14.544571665Z"
    }
   },
   "id": "99e1f8695929a0ff",
   "execution_count": 222
  },
  {
   "cell_type": "code",
   "outputs": [
    {
     "data": {
      "text/plain": "['0.72 ± 27.27',\n '-0.18 ± 18.53',\n '0.42 ± 25.86',\n '1.28 ± 32.44',\n '0.44 ± 26.28']"
     },
     "execution_count": 223,
     "metadata": {},
     "output_type": "execute_result"
    }
   ],
   "source": [
    "time2survival_np = ref_policies_np[:, 20:25]\n",
    "time2survival_std_np = ref_policies_np[:, 25:30]\n",
    "# Create a string with the mean and std of the time to survival for each agent\n",
    "mean_std_time2survival = {(eff, db): [] for eff in eff_keys for db in db_keys}\n",
    "for i in range(len(time2survival_np)):\n",
    "    eff = ref_policies_np[i][1]\n",
    "    db = ref_policies_np[i][0]\n",
    "    for ag in range(5):\n",
    "        mean_std_time2survival[eff, db].append(f\"{time2survival_np[i][ag]:.2f} ± {time2survival_std_np[i][ag]:.2f}\")\n",
    "# pretty print as dataframe\n",
    "mean_std_time2survival[0, 10]"
   ],
   "metadata": {
    "collapsed": false,
    "ExecuteTime": {
     "end_time": "2024-04-18T13:54:14.557904733Z",
     "start_time": "2024-04-18T13:54:14.551926246Z"
    }
   },
   "id": "196d9f4057f68132",
   "execution_count": 223
  },
  {
   "cell_type": "code",
   "outputs": [
    {
     "data": {
      "text/plain": "         0       1         10        100\n0.0       []  [0.95]    [0.95]  [0.9375]\n0.2    [0.6]  [0.95]     [1.0]  [0.9875]\n0.6  [0.825]  [0.95]    [0.95]     [1.0]\n1.0  [0.975]  [0.95]  [0.9875]     [1.0]",
      "text/html": "<div>\n<style scoped>\n    .dataframe tbody tr th:only-of-type {\n        vertical-align: middle;\n    }\n\n    .dataframe tbody tr th {\n        vertical-align: top;\n    }\n\n    .dataframe thead th {\n        text-align: right;\n    }\n</style>\n<table border=\"1\" class=\"dataframe\">\n  <thead>\n    <tr style=\"text-align: right;\">\n      <th></th>\n      <th>0</th>\n      <th>1</th>\n      <th>10</th>\n      <th>100</th>\n    </tr>\n  </thead>\n  <tbody>\n    <tr>\n      <th>0.0</th>\n      <td>[]</td>\n      <td>[0.95]</td>\n      <td>[0.95]</td>\n      <td>[0.9375]</td>\n    </tr>\n    <tr>\n      <th>0.2</th>\n      <td>[0.6]</td>\n      <td>[0.95]</td>\n      <td>[1.0]</td>\n      <td>[0.9875]</td>\n    </tr>\n    <tr>\n      <th>0.6</th>\n      <td>[0.825]</td>\n      <td>[0.95]</td>\n      <td>[0.95]</td>\n      <td>[1.0]</td>\n    </tr>\n    <tr>\n      <th>1.0</th>\n      <td>[0.975]</td>\n      <td>[0.95]</td>\n      <td>[0.9875]</td>\n      <td>[1.0]</td>\n    </tr>\n  </tbody>\n</table>\n</div>"
     },
     "execution_count": 233,
     "metadata": {},
     "output_type": "execute_result"
    }
   ],
   "source": [
    "# Print table of the gini\n",
    "max_gini_value = 1 - 1/5\n",
    "gini = {\n",
    "    db: {eff: df[(df['we'] == 10) & (df['eff_rate'] == eff) & (df['db'] == db)][\"gini\"].to_numpy()/max_gini_value for eff in eff_keys} for db in db_keys\n",
    "}\n",
    "pd.DataFrame(gini)"
   ],
   "metadata": {
    "collapsed": false,
    "ExecuteTime": {
     "end_time": "2024-04-18T14:27:41.278685375Z",
     "start_time": "2024-04-18T14:27:41.233102216Z"
    }
   },
   "id": "4e555a49e2074b7b",
   "execution_count": 233
  },
  {
   "cell_type": "code",
   "outputs": [
    {
     "data": {
      "text/plain": "array([[array([], dtype=float64), array([0.18]), array([0.18]),\n        array([0.2])],\n       [array([0.48]), array([0.15]), array([0.02]), array([0.05])],\n       [array([0.35]), array([0.2]), array([0.19]), array([0.])],\n       [array([0.11]), array([0.18]), array([0.1]), array([0.])]],\n      dtype=object)"
     },
     "execution_count": 236,
     "metadata": {},
     "output_type": "execute_result"
    }
   ],
   "source": [
    "# Print table of the hoover\n",
    "max_hoover_value = 1\n",
    "hoover = {\n",
    "    db: {eff: df[(df['we'] == 10) & (df['eff_rate'] == eff) & (df['db'] == db)][\"hoover\"].to_numpy() for eff in eff_keys} for db in db_keys\n",
    "}\n",
    "pd.DataFrame(hoover).to_numpy()"
   ],
   "metadata": {
    "collapsed": false,
    "ExecuteTime": {
     "end_time": "2024-04-18T14:30:11.611846670Z",
     "start_time": "2024-04-18T14:30:11.599210898Z"
    }
   },
   "id": "8e6eab00714c4a11",
   "execution_count": 236
  },
  {
   "cell_type": "code",
   "outputs": [
    {
     "name": "stdout",
     "output_type": "stream",
     "text": [
      "\\begin{tabular}{rlrrr}\n",
      "\\hline\n",
      "     & 0      &    1 &   10 &   100 \\\\\n",
      "\\hline\n",
      " 0   & []     & 0.18 & 0.18 &  0.2  \\\\\n",
      " 0.2 & [0.48] & 0.15 & 0.02 &  0.05 \\\\\n",
      " 0.6 & [0.35] & 0.2  & 0.19 &  0    \\\\\n",
      " 1   & [0.11] & 0.18 & 0.1  &  0    \\\\\n",
      "\\hline\n",
      "\\end{tabular}\n"
     ]
    }
   ],
   "source": [
    "import numpy as np\n",
    "from tabulate import tabulate\n",
    "\n",
    "gini = np.array([[np.array([], dtype=np.float64), np.array([0.18]), np.array([0.18]),\n",
    "        np.array([0.2])],\n",
    "       [np.array([0.48]), np.array([0.15]), np.array([0.02]), np.array([0.05])],\n",
    "       [np.array([0.35]), np.array([0.2]), np.array([0.19]), np.array([0.])],\n",
    "       [np.array([0.11]), np.array([0.18]), np.array([0.1]), np.array([0.])]],\n",
    "      dtype=object)\n",
    "\n",
    "def numpy_to_latex(array):    \n",
    "    latex_table = tabulate(array, tablefmt=\"latex_raw\", headers=db_keys, showindex=eff_keys)\n",
    "    return latex_table\n",
    "\n",
    "print(numpy_to_latex(gini))"
   ],
   "metadata": {
    "collapsed": false,
    "ExecuteTime": {
     "end_time": "2024-04-18T14:33:43.138854700Z",
     "start_time": "2024-04-18T14:33:43.051580933Z"
    }
   },
   "id": "864da4fe2aef19b6",
   "execution_count": 238
  }
 ],
 "metadata": {
  "kernelspec": {
   "display_name": "Python 3",
   "language": "python",
   "name": "python3"
  },
  "language_info": {
   "codemirror_mode": {
    "name": "ipython",
    "version": 2
   },
   "file_extension": ".py",
   "mimetype": "text/x-python",
   "name": "python",
   "nbconvert_exporter": "python",
   "pygments_lexer": "ipython2",
   "version": "2.7.6"
  }
 },
 "nbformat": 4,
 "nbformat_minor": 5
}
