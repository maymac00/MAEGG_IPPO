{
 "cells": [
  {
   "cell_type": "code",
   "outputs": [],
   "source": [
    "import numpy as np\n",
    "import matplotlib.pyplot as plt\n",
    "import matplotlib\n",
    "# %matplotlib tk\n",
    "we_keys = [0, 10]\n",
    "eff_keys = [0, 0.2, 0.6, 1]\n",
    "db_keys = [0, 1, 10, 100]\n"
   ],
   "metadata": {
    "collapsed": false,
    "ExecuteTime": {
     "end_time": "2024-04-22T07:50:50.942505269Z",
     "start_time": "2024-04-22T07:50:50.802509429Z"
    }
   },
   "id": "cfa30624cc284ec7",
   "execution_count": 47
  },
  {
   "cell_type": "code",
   "outputs": [
    {
     "name": "stdout",
     "output_type": "stream",
     "text": [
      "<class 'pandas.core.frame.DataFrame'>\n",
      "RangeIndex: 18 entries, 0 to 17\n",
      "Data columns (total 44 columns):\n",
      " #   Column                      Non-Null Count  Dtype  \n",
      "---  ------                      --------------  -----  \n",
      " 0   db                          18 non-null     float64\n",
      " 1   eff_rate                    18 non-null     float64\n",
      " 2   we                          18 non-null     float64\n",
      " 3   dir                         18 non-null     int64  \n",
      " 4   mean_reward                 18 non-null     float64\n",
      " 5   mean_reward_agent_0         18 non-null     float64\n",
      " 6   mean_reward_agent_1         18 non-null     float64\n",
      " 7   mean_reward_agent_2         18 non-null     float64\n",
      " 8   mean_reward_agent_3         18 non-null     float64\n",
      " 9   mean_reward_agent_4         18 non-null     float64\n",
      " 10  mean_mo_reward_agent_v0_0   18 non-null     float64\n",
      " 11  mean_mo_reward_agent_v0_1   18 non-null     float64\n",
      " 12  mean_mo_reward_agent_v0_2   18 non-null     float64\n",
      " 13  mean_mo_reward_agent_v0_3   18 non-null     float64\n",
      " 14  mean_mo_reward_agent_v0_4   18 non-null     float64\n",
      " 15  mean_mo_reward_agent_ve_0   18 non-null     float64\n",
      " 16  mean_mo_reward_agent_ve_1   18 non-null     float64\n",
      " 17  mean_mo_reward_agent_ve_2   18 non-null     float64\n",
      " 18  mean_mo_reward_agent_ve_3   18 non-null     float64\n",
      " 19  mean_mo_reward_agent_ve_4   18 non-null     float64\n",
      " 20  time_to_survival_agent_0    18 non-null     float64\n",
      " 21  time_to_survival_agent_1    15 non-null     float64\n",
      " 22  time_to_survival_agent_2    17 non-null     float64\n",
      " 23  time_to_survival_agent_3    14 non-null     float64\n",
      " 24  time_to_survival_agent_4    15 non-null     float64\n",
      " 25  time_to_survival_agent_sd0  18 non-null     float64\n",
      " 26  time_to_survival_agent_sd1  15 non-null     float64\n",
      " 27  time_to_survival_agent_sd2  17 non-null     float64\n",
      " 28  time_to_survival_agent_sd3  14 non-null     float64\n",
      " 29  time_to_survival_agent_sd4  15 non-null     float64\n",
      " 30  rate_of_survival0           18 non-null     float64\n",
      " 31  rate_of_survival1           18 non-null     float64\n",
      " 32  rate_of_survival2           18 non-null     float64\n",
      " 33  rate_of_survival3           18 non-null     float64\n",
      " 34  rate_of_survival4           18 non-null     float64\n",
      " 35  gini                        18 non-null     float64\n",
      " 36  hoover                      18 non-null     float64\n",
      " 37  n_survivors                 18 non-null     float64\n",
      " 38  did_not_donate              18 non-null     float64\n",
      " 39  greedy                      18 non-null     float64\n",
      " 40  picked_apple                18 non-null     float64\n",
      " 41  donated                     18 non-null     float64\n",
      " 42  took_donation               18 non-null     float64\n",
      " 43  hungry                      18 non-null     float64\n",
      "dtypes: float64(43), int64(1)\n",
      "memory usage: 6.3 KB\n"
     ]
    }
   ],
   "source": [
    "import pandas as pd\n",
    "\n",
    "# Dataframe from csv\n",
    "df = pd.read_csv(\"EGG_DATA/report_2024_04_22_09_45.csv\")\n",
    "df[\"dir\"] = df[\"dir\"].apply(lambda x: int(x))\n",
    "# Time to survival -1 to inf\n",
    "for i in range(5):\n",
    "    df[f\"time_to_survival_agent_{i}\"] = df[f\"time_to_survival_agent_{i}\"].apply(lambda x: np.infty if x == -1 else x)\n",
    "    df[f\"time_to_survival_agent_sd{i}\"] = df[f\"time_to_survival_agent_sd{i}\"].apply(lambda x: np.infty if x == -1 else x)\n",
    "\n",
    "df.info()"
   ],
   "metadata": {
    "collapsed": false,
    "ExecuteTime": {
     "end_time": "2024-04-22T07:50:50.974806815Z",
     "start_time": "2024-04-22T07:50:50.862748346Z"
    }
   },
   "id": "4ad2509e7ce2a09f",
   "execution_count": 48
  },
  {
   "cell_type": "code",
   "outputs": [
    {
     "data": {
      "text/plain": "    time_to_survival_agent_0  time_to_survival_agent_1  \\\n0                     476.50                    458.25   \n1                     179.12                       NaN   \n2                     150.00                       NaN   \n3                     247.50                    268.25   \n4                     161.38                    173.12   \n5                     195.88                    161.38   \n6                     421.25                    438.00   \n7                     165.38                    371.75   \n8                     188.62                    148.38   \n9                     331.75                    314.75   \n10                    365.00                       NaN   \n11                    152.25                    381.00   \n12                    180.12                    177.00   \n13                    198.88                    160.75   \n14                    467.00                    440.00   \n15                    163.12                    362.25   \n16                    179.62                    185.00   \n17                    199.50                    204.25   \n\n    time_to_survival_agent_2  time_to_survival_agent_3  \\\n0                     418.50                    430.25   \n1                     429.50                    428.50   \n2                        NaN                       NaN   \n3                     283.75                       NaN   \n4                     183.75                       NaN   \n5                     225.25                    187.62   \n6                     420.25                    434.00   \n7                     438.75                    366.75   \n8                     191.00                    254.12   \n9                     266.00                    243.00   \n10                    459.00                       NaN   \n11                    384.75                    385.50   \n12                    186.00                    258.75   \n13                    207.88                    207.50   \n14                    425.75                    415.00   \n15                    393.25                    354.50   \n16                    171.12                    255.00   \n17                    183.25                    162.62   \n\n    time_to_survival_agent_4  \n0                     413.75  \n1                     478.00  \n2                        NaN  \n3                        NaN  \n4                        NaN  \n5                     215.00  \n6                     434.25  \n7                     413.00  \n8                     242.00  \n9                     292.50  \n10                    498.00  \n11                    387.00  \n12                    236.50  \n13                    190.25  \n14                    446.00  \n15                    414.50  \n16                    241.62  \n17                    180.62  ",
      "text/html": "<div>\n<style scoped>\n    .dataframe tbody tr th:only-of-type {\n        vertical-align: middle;\n    }\n\n    .dataframe tbody tr th {\n        vertical-align: top;\n    }\n\n    .dataframe thead th {\n        text-align: right;\n    }\n</style>\n<table border=\"1\" class=\"dataframe\">\n  <thead>\n    <tr style=\"text-align: right;\">\n      <th></th>\n      <th>time_to_survival_agent_0</th>\n      <th>time_to_survival_agent_1</th>\n      <th>time_to_survival_agent_2</th>\n      <th>time_to_survival_agent_3</th>\n      <th>time_to_survival_agent_4</th>\n    </tr>\n  </thead>\n  <tbody>\n    <tr>\n      <th>0</th>\n      <td>476.50</td>\n      <td>458.25</td>\n      <td>418.50</td>\n      <td>430.25</td>\n      <td>413.75</td>\n    </tr>\n    <tr>\n      <th>1</th>\n      <td>179.12</td>\n      <td>NaN</td>\n      <td>429.50</td>\n      <td>428.50</td>\n      <td>478.00</td>\n    </tr>\n    <tr>\n      <th>2</th>\n      <td>150.00</td>\n      <td>NaN</td>\n      <td>NaN</td>\n      <td>NaN</td>\n      <td>NaN</td>\n    </tr>\n    <tr>\n      <th>3</th>\n      <td>247.50</td>\n      <td>268.25</td>\n      <td>283.75</td>\n      <td>NaN</td>\n      <td>NaN</td>\n    </tr>\n    <tr>\n      <th>4</th>\n      <td>161.38</td>\n      <td>173.12</td>\n      <td>183.75</td>\n      <td>NaN</td>\n      <td>NaN</td>\n    </tr>\n    <tr>\n      <th>5</th>\n      <td>195.88</td>\n      <td>161.38</td>\n      <td>225.25</td>\n      <td>187.62</td>\n      <td>215.00</td>\n    </tr>\n    <tr>\n      <th>6</th>\n      <td>421.25</td>\n      <td>438.00</td>\n      <td>420.25</td>\n      <td>434.00</td>\n      <td>434.25</td>\n    </tr>\n    <tr>\n      <th>7</th>\n      <td>165.38</td>\n      <td>371.75</td>\n      <td>438.75</td>\n      <td>366.75</td>\n      <td>413.00</td>\n    </tr>\n    <tr>\n      <th>8</th>\n      <td>188.62</td>\n      <td>148.38</td>\n      <td>191.00</td>\n      <td>254.12</td>\n      <td>242.00</td>\n    </tr>\n    <tr>\n      <th>9</th>\n      <td>331.75</td>\n      <td>314.75</td>\n      <td>266.00</td>\n      <td>243.00</td>\n      <td>292.50</td>\n    </tr>\n    <tr>\n      <th>10</th>\n      <td>365.00</td>\n      <td>NaN</td>\n      <td>459.00</td>\n      <td>NaN</td>\n      <td>498.00</td>\n    </tr>\n    <tr>\n      <th>11</th>\n      <td>152.25</td>\n      <td>381.00</td>\n      <td>384.75</td>\n      <td>385.50</td>\n      <td>387.00</td>\n    </tr>\n    <tr>\n      <th>12</th>\n      <td>180.12</td>\n      <td>177.00</td>\n      <td>186.00</td>\n      <td>258.75</td>\n      <td>236.50</td>\n    </tr>\n    <tr>\n      <th>13</th>\n      <td>198.88</td>\n      <td>160.75</td>\n      <td>207.88</td>\n      <td>207.50</td>\n      <td>190.25</td>\n    </tr>\n    <tr>\n      <th>14</th>\n      <td>467.00</td>\n      <td>440.00</td>\n      <td>425.75</td>\n      <td>415.00</td>\n      <td>446.00</td>\n    </tr>\n    <tr>\n      <th>15</th>\n      <td>163.12</td>\n      <td>362.25</td>\n      <td>393.25</td>\n      <td>354.50</td>\n      <td>414.50</td>\n    </tr>\n    <tr>\n      <th>16</th>\n      <td>179.62</td>\n      <td>185.00</td>\n      <td>171.12</td>\n      <td>255.00</td>\n      <td>241.62</td>\n    </tr>\n    <tr>\n      <th>17</th>\n      <td>199.50</td>\n      <td>204.25</td>\n      <td>183.25</td>\n      <td>162.62</td>\n      <td>180.62</td>\n    </tr>\n  </tbody>\n</table>\n</div>"
     },
     "execution_count": 49,
     "metadata": {},
     "output_type": "execute_result"
    }
   ],
   "source": [
    "df[[f\"time_to_survival_agent_{i}\" for i in range(5)]]"
   ],
   "metadata": {
    "collapsed": false,
    "ExecuteTime": {
     "end_time": "2024-04-22T07:50:51.024825539Z",
     "start_time": "2024-04-22T07:50:50.956479987Z"
    }
   },
   "id": "2b1e4f021255ee51",
   "execution_count": 49
  },
  {
   "cell_type": "code",
   "outputs": [
    {
     "data": {
      "text/plain": "    eff_rate     db    we  dir\n0        0.0    0.0  10.0    0\n1        0.2    0.0  10.0    0\n2        0.2    0.0   0.0    0\n3        0.6    0.0  10.0    4\n4        0.6    0.0   0.0    0\n5        1.0    0.0  10.0    1\n6        0.0    1.0  10.0    0\n7        0.2    1.0  10.0    3\n8        0.6    1.0  10.0    1\n9        1.0    1.0  10.0    1\n10       0.0   10.0  10.0    0\n11       0.2   10.0  10.0    7\n12       0.6   10.0  10.0    4\n13       1.0   10.0  10.0    0\n14       0.0  100.0  10.0    0\n15       0.2  100.0  10.0    6\n16       0.6  100.0  10.0    4\n17       1.0  100.0  10.0    0",
      "text/html": "<div>\n<style scoped>\n    .dataframe tbody tr th:only-of-type {\n        vertical-align: middle;\n    }\n\n    .dataframe tbody tr th {\n        vertical-align: top;\n    }\n\n    .dataframe thead th {\n        text-align: right;\n    }\n</style>\n<table border=\"1\" class=\"dataframe\">\n  <thead>\n    <tr style=\"text-align: right;\">\n      <th></th>\n      <th>eff_rate</th>\n      <th>db</th>\n      <th>we</th>\n      <th>dir</th>\n    </tr>\n  </thead>\n  <tbody>\n    <tr>\n      <th>0</th>\n      <td>0.0</td>\n      <td>0.0</td>\n      <td>10.0</td>\n      <td>0</td>\n    </tr>\n    <tr>\n      <th>1</th>\n      <td>0.2</td>\n      <td>0.0</td>\n      <td>10.0</td>\n      <td>0</td>\n    </tr>\n    <tr>\n      <th>2</th>\n      <td>0.2</td>\n      <td>0.0</td>\n      <td>0.0</td>\n      <td>0</td>\n    </tr>\n    <tr>\n      <th>3</th>\n      <td>0.6</td>\n      <td>0.0</td>\n      <td>10.0</td>\n      <td>4</td>\n    </tr>\n    <tr>\n      <th>4</th>\n      <td>0.6</td>\n      <td>0.0</td>\n      <td>0.0</td>\n      <td>0</td>\n    </tr>\n    <tr>\n      <th>5</th>\n      <td>1.0</td>\n      <td>0.0</td>\n      <td>10.0</td>\n      <td>1</td>\n    </tr>\n    <tr>\n      <th>6</th>\n      <td>0.0</td>\n      <td>1.0</td>\n      <td>10.0</td>\n      <td>0</td>\n    </tr>\n    <tr>\n      <th>7</th>\n      <td>0.2</td>\n      <td>1.0</td>\n      <td>10.0</td>\n      <td>3</td>\n    </tr>\n    <tr>\n      <th>8</th>\n      <td>0.6</td>\n      <td>1.0</td>\n      <td>10.0</td>\n      <td>1</td>\n    </tr>\n    <tr>\n      <th>9</th>\n      <td>1.0</td>\n      <td>1.0</td>\n      <td>10.0</td>\n      <td>1</td>\n    </tr>\n    <tr>\n      <th>10</th>\n      <td>0.0</td>\n      <td>10.0</td>\n      <td>10.0</td>\n      <td>0</td>\n    </tr>\n    <tr>\n      <th>11</th>\n      <td>0.2</td>\n      <td>10.0</td>\n      <td>10.0</td>\n      <td>7</td>\n    </tr>\n    <tr>\n      <th>12</th>\n      <td>0.6</td>\n      <td>10.0</td>\n      <td>10.0</td>\n      <td>4</td>\n    </tr>\n    <tr>\n      <th>13</th>\n      <td>1.0</td>\n      <td>10.0</td>\n      <td>10.0</td>\n      <td>0</td>\n    </tr>\n    <tr>\n      <th>14</th>\n      <td>0.0</td>\n      <td>100.0</td>\n      <td>10.0</td>\n      <td>0</td>\n    </tr>\n    <tr>\n      <th>15</th>\n      <td>0.2</td>\n      <td>100.0</td>\n      <td>10.0</td>\n      <td>6</td>\n    </tr>\n    <tr>\n      <th>16</th>\n      <td>0.6</td>\n      <td>100.0</td>\n      <td>10.0</td>\n      <td>4</td>\n    </tr>\n    <tr>\n      <th>17</th>\n      <td>1.0</td>\n      <td>100.0</td>\n      <td>10.0</td>\n      <td>0</td>\n    </tr>\n  </tbody>\n</table>\n</div>"
     },
     "execution_count": 50,
     "metadata": {},
     "output_type": "execute_result"
    }
   ],
   "source": [
    "# Pretty print table with eff, db, we and dir\n",
    "df[[\"eff_rate\", \"db\", \"we\", \"dir\"]]"
   ],
   "metadata": {
    "collapsed": false,
    "ExecuteTime": {
     "end_time": "2024-04-22T07:50:51.039841192Z",
     "start_time": "2024-04-22T07:50:51.020799472Z"
    }
   },
   "id": "fabf8797da977c2b",
   "execution_count": 50
  },
  {
   "cell_type": "code",
   "outputs": [
    {
     "data": {
      "text/plain": "array([[-132.88,   31.8 ],\n       [-372.25,    0.  ],\n       [-473.75,    0.  ],\n       [-367.5 ,    0.  ],\n       [-429.5 ,    0.  ]])"
     },
     "execution_count": 51,
     "metadata": {},
     "output_type": "execute_result"
    }
   ],
   "source": [
    "df_numpy = df.to_numpy()\n",
    "ref_policies_df = df[df[\"we\"] == 10]\n",
    "\n",
    "# Reference policies: we = 10\n",
    "ref_policies_values = {\n",
    "    eff: {db: np.zeros((5,2)) for db in db_keys} for eff in eff_keys\n",
    "}\n",
    "ref_policies_np = df_numpy[df_numpy[:, 2] == 10]\n",
    "\n",
    "for i in range(len(ref_policies_np)):\n",
    "    eff = ref_policies_np[i][1]\n",
    "    db = ref_policies_np[i][0]\n",
    "    ref_policies_values[eff][db] = np.hstack([ref_policies_np[i][10:15].reshape((5,1)), ref_policies_np[i][15:20].reshape((5,1)) ])\n",
    "\n",
    "ref_policies_values[0.6][1] = np.array([[-1.3750e+02,  7.3400e+00],[-1.3025e+02,  5.2600e+00],[-1.3400e+02,  7.1700e+00],[-2.5138e+02,  1.0000e-02],[-2.4075e+02,  3.0000e-02]])   \n",
    "\n",
    "ref_policies_values[0.2][1]"
   ],
   "metadata": {
    "collapsed": false,
    "ExecuteTime": {
     "end_time": "2024-04-22T07:50:51.087248983Z",
     "start_time": "2024-04-22T07:50:51.028491785Z"
    }
   },
   "id": "ac74feec0f5694ba",
   "execution_count": 51
  },
  {
   "cell_type": "code",
   "outputs": [
    {
     "data": {
      "text/plain": "array([[-1.3750e+02,  7.3400e+00],\n       [-1.3025e+02,  5.2600e+00],\n       [-1.3400e+02,  7.1700e+00],\n       [-2.5138e+02,  1.0000e-02],\n       [-2.4075e+02,  3.0000e-02]])"
     },
     "execution_count": 52,
     "metadata": {},
     "output_type": "execute_result"
    }
   ],
   "source": [
    "ref_policies_values[0.6][1]"
   ],
   "metadata": {
    "collapsed": false,
    "ExecuteTime": {
     "end_time": "2024-04-22T07:50:51.137891439Z",
     "start_time": "2024-04-22T07:50:51.087437131Z"
    }
   },
   "id": "a8dba748ce57270a",
   "execution_count": 52
  },
  {
   "cell_type": "code",
   "outputs": [
    {
     "data": {
      "text/plain": "array([[-9.8810e+01, -1.1000e-01],\n       [-1.1938e+02, -2.9500e+00],\n       [-1.3312e+02, -8.8000e-01],\n       [-4.9825e+02,  0.0000e+00],\n       [-4.9825e+02,  0.0000e+00]])"
     },
     "execution_count": 53,
     "metadata": {},
     "output_type": "execute_result"
    }
   ],
   "source": [
    "unet_policies_values = {\n",
    "    eff: np.zeros((5,2)) for eff in eff_keys\n",
    "}\n",
    "\n",
    "unet_policies_np = df_numpy[df_numpy[:, 2] == 0]\n",
    "for i in range(len(unet_policies_np)):\n",
    "    eff = unet_policies_np[i][1]\n",
    "    unet_policies_values[eff] = np.hstack([unet_policies_np[i][10:15].reshape((5,1)), unet_policies_np[i][15:20].reshape((5,1)) ])\n",
    "unet_policies_values[0] = ref_policies_values[0][0]\n",
    "unet_policies_values[1] = ref_policies_values[1][0]\n",
    "unet_policies_values[0.6]"
   ],
   "metadata": {
    "collapsed": false,
    "ExecuteTime": {
     "end_time": "2024-04-22T07:50:51.228126660Z",
     "start_time": "2024-04-22T07:50:51.130808853Z"
    }
   },
   "id": "1ff35c9371aac531",
   "execution_count": 53
  },
  {
   "cell_type": "code",
   "outputs": [],
   "source": [
    "# Function to get the intersection of two lines represented as f(we) = v0 + we*ve for a two given fixed sets of (v0, ve)\n",
    "def get_intersection(v01, ve1, v02, ve2):\n",
    "    if ve1 == ve2:\n",
    "        return 0\n",
    "    we = (v01 - v02) / (ve2 - ve1)\n",
    "    return we\n",
    "# get_intersection(mo_value_w10[2][0], mo_value_w10[2][1], mo_value_w0[2][0], mo_value_w0[2][1])"
   ],
   "metadata": {
    "collapsed": false,
    "ExecuteTime": {
     "end_time": "2024-04-22T07:50:51.233907087Z",
     "start_time": "2024-04-22T07:50:51.140177116Z"
    }
   },
   "id": "2c57669031cb4133",
   "execution_count": 54
  },
  {
   "cell_type": "code",
   "outputs": [
    {
     "name": "stdout",
     "output_type": "stream",
     "text": [
      "4.507478632478633\n",
      "1.1954582319545828\n",
      "1.6304347826086956\n",
      "-1736.6428571428569\n",
      "-1018.2692307692307\n"
     ]
    },
    {
     "data": {
      "text/plain": "<Figure size 2500x500 with 5 Axes>",
      "image/png": "[encoded data removed]"
     },
     "metadata": {},
     "output_type": "display_data"
    }
   ],
   "source": [
    "# Plot values as function of weight w that scales the reward\n",
    "fig, axs = plt.subplots(1, 5, figsize=(25, 5)) \n",
    "step = 0.1\n",
    "# for ag in mo_value_w10:\n",
    "max_weight = 10\n",
    "# Subplot for each agent\n",
    "x = np.arange(0, max_weight, step)\n",
    "w = np.array([np.ones(int(max_weight/step)), np.arange(0, max_weight, step)])\n",
    "\n",
    "setting = {\"eff\": 0.6, \"db\": 10}\n",
    "for ag in range(5):\n",
    "    axs[ag].set_title(\"MO Value Function\")\n",
    "    ref = ref_policies_values[setting[\"eff\"]][setting[\"db\"]]\n",
    "    unet = unet_policies_values[setting[\"eff\"]]\n",
    "    axs[ag].plot(x, np.dot(unet[ag], w), c=\"blue\")\n",
    "    axs[ag].plot(x, np.dot(ref[ag], w), c=\"green\")\n",
    "    \n",
    "wes = []\n",
    "for ag in range(5):\n",
    "    # Print intersecctions\n",
    "    p1 = unet_policies_values[setting[\"eff\"]][ag]\n",
    "    p2 = ref_policies_values[setting[\"eff\"]][setting[\"db\"]][ag]\n",
    "    inter = get_intersection(p1[0], p1[1], p2[0], p2[1])\n",
    "    print(inter)\n",
    "    wes.append(inter)\n",
    "plt.show()"
   ],
   "metadata": {
    "collapsed": false,
    "ExecuteTime": {
     "end_time": "2024-04-22T07:50:51.700824697Z",
     "start_time": "2024-04-22T07:50:51.258027600Z"
    }
   },
   "id": "8985ba4013bb41c4",
   "execution_count": 55
  },
  {
   "cell_type": "code",
   "outputs": [
    {
     "name": "stdout",
     "output_type": "stream",
     "text": [
      "[[-214.75    0.  ]\n",
      " [-272.75    0.  ]\n",
      " [-277.5     0.  ]]\n",
      "[[-137.5     7.34]\n",
      " [-130.25    5.26]\n",
      " [-134.      7.17]]\n",
      "[[-141.      9.25]\n",
      " [-134.12    9.38]\n",
      " [-148.12    8.32]]\n",
      "[[-163.62   18.56]\n",
      " [-169.25   25.19]\n",
      " [-154.88   28.44]]\n"
     ]
    }
   ],
   "source": [
    "print(ref_policies_values[0.6][0][0:3])\n",
    "print(ref_policies_values[0.6][1][0:3])\n",
    "print(ref_policies_values[0.6][10][0:3])\n",
    "print(ref_policies_values[0.6][100][0:3])"
   ],
   "metadata": {
    "collapsed": false,
    "ExecuteTime": {
     "end_time": "2024-04-22T07:50:51.731647836Z",
     "start_time": "2024-04-22T07:50:51.702755910Z"
    }
   },
   "id": "554dccfe6f6a72b3",
   "execution_count": 56
  },
  {
   "cell_type": "code",
   "outputs": [
    {
     "data": {
      "text/plain": "     0         1         10        100\n0.0    0  0.000000  0.000000  0.000000\n0.2    0  1.658904  1.546498  1.693273\n0.6    0  3.258642  1.630435  2.621777\n1.0    0  0.000000  7.564576  4.609557",
      "text/html": "<div>\n<style scoped>\n    .dataframe tbody tr th:only-of-type {\n        vertical-align: middle;\n    }\n\n    .dataframe tbody tr th {\n        vertical-align: top;\n    }\n\n    .dataframe thead th {\n        text-align: right;\n    }\n</style>\n<table border=\"1\" class=\"dataframe\">\n  <thead>\n    <tr style=\"text-align: right;\">\n      <th></th>\n      <th>0</th>\n      <th>1</th>\n      <th>10</th>\n      <th>100</th>\n    </tr>\n  </thead>\n  <tbody>\n    <tr>\n      <th>0.0</th>\n      <td>0</td>\n      <td>0.000000</td>\n      <td>0.000000</td>\n      <td>0.000000</td>\n    </tr>\n    <tr>\n      <th>0.2</th>\n      <td>0</td>\n      <td>1.658904</td>\n      <td>1.546498</td>\n      <td>1.693273</td>\n    </tr>\n    <tr>\n      <th>0.6</th>\n      <td>0</td>\n      <td>3.258642</td>\n      <td>1.630435</td>\n      <td>2.621777</td>\n    </tr>\n    <tr>\n      <th>1.0</th>\n      <td>0</td>\n      <td>0.000000</td>\n      <td>7.564576</td>\n      <td>4.609557</td>\n    </tr>\n  </tbody>\n</table>\n</div>"
     },
     "execution_count": 57,
     "metadata": {},
     "output_type": "execute_result"
    }
   ],
   "source": [
    "def compute_wes_prima(eff, db):\n",
    "    def aggregation_function(wes, method=\"median\"):\n",
    "        # cut to interval 1-10 else return -inf\n",
    "        wes = [w for w in wes if w >= 1 and w <= 10]\n",
    "        if len(wes) == 0:\n",
    "            return 0\n",
    "        if method == \"median\":\n",
    "            return np.median(wes)\n",
    "        if method == \"mean\":\n",
    "            return np.mean(wes)\n",
    "        if method == \"max\":\n",
    "            return np.max(wes)\n",
    "        if method == \"min\":\n",
    "            return np.min(wes)\n",
    "    wes_prima = []\n",
    "    for ag in range(5):\n",
    "        # Print intersecctions\n",
    "        p1 = unet_policies_values[eff][ag]\n",
    "        p2 = ref_policies_values[eff][db][ag]\n",
    "        inter = get_intersection(p1[0], p1[1], p2[0], p2[1])\n",
    "        wes_prima.append(inter)\n",
    "    return aggregation_function(wes_prima, method=\"median\")\n",
    "\n",
    "\n",
    "# Create table of WES' for each eff (from 0.2, 0.6, 1) and db (from 0, 1, 10, 100) \n",
    "wes_prima = {\n",
    "    db: {eff: compute_wes_prima(eff, db) for eff in eff_keys} for db in db_keys\n",
    "}\n",
    "# pretty print as dataframe\n",
    "wes_df = pd.DataFrame(wes_prima)\n",
    "wes_df"
   ],
   "metadata": {
    "collapsed": false,
    "ExecuteTime": {
     "end_time": "2024-04-22T07:50:51.733180886Z",
     "start_time": "2024-04-22T07:50:51.707896835Z"
    }
   },
   "id": "99e1f8695929a0ff",
   "execution_count": 57
  },
  {
   "cell_type": "code",
   "outputs": [
    {
     "data": {
      "text/plain": "['152.25 ± 42.69',\n '381.00 ± 59.31',\n '384.75 ± 54.97',\n '385.50 ± 56.06',\n '387.00 ± 54.19']"
     },
     "execution_count": 58,
     "metadata": {},
     "output_type": "execute_result"
    }
   ],
   "source": [
    "time2survival_np = ref_policies_np[:, 20:25]\n",
    "time2survival_std_np = ref_policies_np[:, 25:30]\n",
    "# Create a string with the mean and std of the time to survival for each agent\n",
    "mean_std_time2survival = {(eff, db): [] for eff in eff_keys for db in db_keys}\n",
    "for i in range(len(time2survival_np)):\n",
    "    eff = ref_policies_np[i][1]\n",
    "    db = ref_policies_np[i][0]\n",
    "    for ag in range(5):\n",
    "        mean_std_time2survival[eff, db].append(f\"{time2survival_np[i][ag]:.2f} ± {time2survival_std_np[i][ag]:.2f}\")\n",
    "        \n",
    "# pretty print as dataframe\n",
    "mean_std_time2survival[0.2, 10]"
   ],
   "metadata": {
    "collapsed": false,
    "ExecuteTime": {
     "end_time": "2024-04-22T07:50:51.865075335Z",
     "start_time": "2024-04-22T07:50:51.719289465Z"
    }
   },
   "id": "196d9f4057f68132",
   "execution_count": 58
  },
  {
   "cell_type": "code",
   "outputs": [
    {
     "data": {
      "text/plain": "   eff     db  eff_group  eff_group_std  uneff_group  uneff_group_std\n0  0.2    0.0     179.12      80.310000          NaN              NaN\n1  0.2    1.0     165.38      46.470000     397.5625          58.3375\n2  0.2   10.0     152.25      42.690000     384.5625          56.1325\n3  0.2  100.0     163.12      63.190000     381.1250          58.8600\n4  0.6    0.0     266.50      83.460000          NaN              NaN\n5  0.6    1.0     176.00      46.966667     248.0600          31.1950\n6  0.6   10.0     181.04      56.216667     247.6250          34.1750\n7  0.6  100.0     178.58      50.793333     248.3100          33.5600",
      "text/html": "<div>\n<style scoped>\n    .dataframe tbody tr th:only-of-type {\n        vertical-align: middle;\n    }\n\n    .dataframe tbody tr th {\n        vertical-align: top;\n    }\n\n    .dataframe thead th {\n        text-align: right;\n    }\n</style>\n<table border=\"1\" class=\"dataframe\">\n  <thead>\n    <tr style=\"text-align: right;\">\n      <th></th>\n      <th>eff</th>\n      <th>db</th>\n      <th>eff_group</th>\n      <th>eff_group_std</th>\n      <th>uneff_group</th>\n      <th>uneff_group_std</th>\n    </tr>\n  </thead>\n  <tbody>\n    <tr>\n      <th>0</th>\n      <td>0.2</td>\n      <td>0.0</td>\n      <td>179.12</td>\n      <td>80.310000</td>\n      <td>NaN</td>\n      <td>NaN</td>\n    </tr>\n    <tr>\n      <th>1</th>\n      <td>0.2</td>\n      <td>1.0</td>\n      <td>165.38</td>\n      <td>46.470000</td>\n      <td>397.5625</td>\n      <td>58.3375</td>\n    </tr>\n    <tr>\n      <th>2</th>\n      <td>0.2</td>\n      <td>10.0</td>\n      <td>152.25</td>\n      <td>42.690000</td>\n      <td>384.5625</td>\n      <td>56.1325</td>\n    </tr>\n    <tr>\n      <th>3</th>\n      <td>0.2</td>\n      <td>100.0</td>\n      <td>163.12</td>\n      <td>63.190000</td>\n      <td>381.1250</td>\n      <td>58.8600</td>\n    </tr>\n    <tr>\n      <th>4</th>\n      <td>0.6</td>\n      <td>0.0</td>\n      <td>266.50</td>\n      <td>83.460000</td>\n      <td>NaN</td>\n      <td>NaN</td>\n    </tr>\n    <tr>\n      <th>5</th>\n      <td>0.6</td>\n      <td>1.0</td>\n      <td>176.00</td>\n      <td>46.966667</td>\n      <td>248.0600</td>\n      <td>31.1950</td>\n    </tr>\n    <tr>\n      <th>6</th>\n      <td>0.6</td>\n      <td>10.0</td>\n      <td>181.04</td>\n      <td>56.216667</td>\n      <td>247.6250</td>\n      <td>34.1750</td>\n    </tr>\n    <tr>\n      <th>7</th>\n      <td>0.6</td>\n      <td>100.0</td>\n      <td>178.58</td>\n      <td>50.793333</td>\n      <td>248.3100</td>\n      <td>33.5600</td>\n    </tr>\n  </tbody>\n</table>\n</div>"
     },
     "execution_count": 80,
     "metadata": {},
     "output_type": "execute_result"
    }
   ],
   "source": [
    "# Print time 2 survive with agent groups of eff \n",
    "grouped_time2survival = []\n",
    "percentage = False\n",
    "for eff in [0.2, 0.6]:\n",
    "    for db in [0, 1, 10, 100]:\n",
    "        row = [eff, db] \n",
    "        agents_t2s = list(time2survival_np[(ref_policies_np[:, 1] == eff) & (ref_policies_np[:, 0] == db)].mean\n",
    "                          (axis=0))\n",
    "        agents_t2s_std = list(time2survival_std_np[(ref_policies_np[:, 1] == eff) & (ref_policies_np[:, 0] == db)].mean(axis=0))\n",
    "        if percentage:\n",
    "            eff_group = np.mean(agents_t2s[:int(5*eff)]) * 100 / 500\n",
    "            uneff_group = np.mean(agents_t2s[int(5*eff):])* 100 / 500\n",
    "        else:\n",
    "            eff_group = np.mean(agents_t2s[:int(5*eff)])\n",
    "            uneff_group = np.mean(agents_t2s[int(5*eff):])\n",
    "            # std \n",
    "        eff_group_std = np.mean(agents_t2s_std[:int(5*eff)])\n",
    "        uneff_group_std = np.mean(agents_t2s_std[int(5*eff):])\n",
    "        row += [eff_group, eff_group_std, uneff_group, uneff_group_std]\n",
    "        grouped_time2survival.append(row)\n",
    "        \n",
    "grouped_time2survival = np.array(grouped_time2survival)\n",
    "grouped_time2survival_df = pd.DataFrame(grouped_time2survival, columns=[\"eff\", \"db\", \"eff_group\", \"eff_group_std\", \"uneff_group\", \"uneff_group_std\"])\n",
    "grouped_time2survival_df"
   ],
   "metadata": {
    "collapsed": false,
    "ExecuteTime": {
     "end_time": "2024-04-22T09:13:42.246125766Z",
     "start_time": "2024-04-22T09:13:42.242135383Z"
    }
   },
   "id": "fdafee4b0afc85ca",
   "execution_count": 80
  },
  {
   "cell_type": "code",
   "outputs": [
    {
     "data": {
      "text/plain": "[51.22, 53.91, 47.25, 32.84, 34.28]"
     },
     "execution_count": 75,
     "metadata": {},
     "output_type": "execute_result"
    }
   ],
   "source": [
    "agents_t2s_std"
   ],
   "metadata": {
    "collapsed": false,
    "ExecuteTime": {
     "end_time": "2024-04-22T09:11:34.894291022Z",
     "start_time": "2024-04-22T09:11:34.827598484Z"
    }
   },
   "id": "369870c28fe49357",
   "execution_count": 75
  },
  {
   "cell_type": "code",
   "outputs": [],
   "source": [
    "#print ratio of survival\n",
    "ratio_survival_np = ref_policies_np[:, 30:35]\n",
    "ratio_survival = np.zeros((4,4,5))\n",
    "\n",
    "for i in range(len(ratio_survival_np)):\n",
    "    #map eff to eff_keys ind\n",
    "    eff = ref_policies_np[i][1]\n",
    "    db = ref_policies_np[i][0]\n",
    "    ratio_survival[eff_keys.index(eff), db_keys.index(db)] = ratio_survival_np[i]\n",
    "    \n",
    "# Print as table with rows of format eff, db, ratio of survival for each agent\n",
    "ratio_survival = ratio_survival.reshape((16,5))\n",
    "survival_rate_df = pd.DataFrame(ratio_survival, columns=[f\"Agent {i}\" for i in range(5)], index=[f\"{int(eff*100)}\\%, {db}\" for eff in eff_keys for db in db_keys])"
   ],
   "metadata": {
    "collapsed": false,
    "ExecuteTime": {
     "end_time": "2024-04-22T07:50:51.869845613Z",
     "start_time": "2024-04-22T07:50:51.764269948Z"
    }
   },
   "id": "c2f44f3d51e2204d",
   "execution_count": 60
  },
  {
   "cell_type": "code",
   "outputs": [
    {
     "data": {
      "text/plain": "          0         1         10        100\n0.0    [0.95]    [0.95]    [0.95]  [0.9375]\n0.2     [0.6]    [0.95]     [1.0]  [0.9875]\n0.6   [0.825]    [0.95]    [0.95]     [1.0]\n1.0  [0.9875]  [0.9625]  [0.9875]     [1.0]",
      "text/html": "<div>\n<style scoped>\n    .dataframe tbody tr th:only-of-type {\n        vertical-align: middle;\n    }\n\n    .dataframe tbody tr th {\n        vertical-align: top;\n    }\n\n    .dataframe thead th {\n        text-align: right;\n    }\n</style>\n<table border=\"1\" class=\"dataframe\">\n  <thead>\n    <tr style=\"text-align: right;\">\n      <th></th>\n      <th>0</th>\n      <th>1</th>\n      <th>10</th>\n      <th>100</th>\n    </tr>\n  </thead>\n  <tbody>\n    <tr>\n      <th>0.0</th>\n      <td>[0.95]</td>\n      <td>[0.95]</td>\n      <td>[0.95]</td>\n      <td>[0.9375]</td>\n    </tr>\n    <tr>\n      <th>0.2</th>\n      <td>[0.6]</td>\n      <td>[0.95]</td>\n      <td>[1.0]</td>\n      <td>[0.9875]</td>\n    </tr>\n    <tr>\n      <th>0.6</th>\n      <td>[0.825]</td>\n      <td>[0.95]</td>\n      <td>[0.95]</td>\n      <td>[1.0]</td>\n    </tr>\n    <tr>\n      <th>1.0</th>\n      <td>[0.9875]</td>\n      <td>[0.9625]</td>\n      <td>[0.9875]</td>\n      <td>[1.0]</td>\n    </tr>\n  </tbody>\n</table>\n</div>"
     },
     "execution_count": 61,
     "metadata": {},
     "output_type": "execute_result"
    }
   ],
   "source": [
    "# Print table of the gini\n",
    "max_gini_value = 1 - 1/5\n",
    "gini = {\n",
    "    db: {eff: df[(df['we'] == 10) & (df['eff_rate'] == eff) & (df['db'] == db)][\"gini\"].to_numpy()/max_gini_value for eff in eff_keys} for db in db_keys\n",
    "}\n",
    "pd.DataFrame(gini)"
   ],
   "metadata": {
    "collapsed": false,
    "ExecuteTime": {
     "end_time": "2024-04-22T07:50:51.883457753Z",
     "start_time": "2024-04-22T07:50:51.764459471Z"
    }
   },
   "id": "4e555a49e2074b7b",
   "execution_count": 61
  },
  {
   "cell_type": "code",
   "outputs": [
    {
     "data": {
      "text/plain": "array([[array([0.17]), array([0.19]), array([0.18]), array([0.2])],\n       [array([0.49]), array([0.15]), array([0.02]), array([0.06])],\n       [array([0.36]), array([0.2]), array([0.19]), array([0.01])],\n       [array([0.11]), array([0.16]), array([0.1]), array([0.])]],\n      dtype=object)"
     },
     "execution_count": 62,
     "metadata": {},
     "output_type": "execute_result"
    }
   ],
   "source": [
    "# Print table of the hoover\n",
    "max_hoover_value = 1\n",
    "hoover = {\n",
    "    db: {eff: df[(df['we'] == 10) & (df['eff_rate'] == eff) & (df['db'] == db)][\"hoover\"].to_numpy() for eff in eff_keys} for db in db_keys\n",
    "}\n",
    "pd.DataFrame(hoover).to_numpy()"
   ],
   "metadata": {
    "collapsed": false,
    "ExecuteTime": {
     "end_time": "2024-04-22T07:50:51.884504442Z",
     "start_time": "2024-04-22T07:50:51.764624484Z"
    }
   },
   "id": "8e6eab00714c4a11",
   "execution_count": 62
  },
  {
   "cell_type": "code",
   "outputs": [
    {
     "name": "stdout",
     "output_type": "stream",
     "text": [
      "\\begin{tabular}{rlrrr}\n",
      "\\hline\n",
      "     & 0      &    1 &   10 &   100 \\\\\n",
      "\\hline\n",
      " 0   & []     & 0.18 & 0.18 &  0.2  \\\\\n",
      " 0.2 & [0.48] & 0.15 & 0.02 &  0.05 \\\\\n",
      " 0.6 & [0.35] & 0.2  & 0.19 &  0    \\\\\n",
      " 1   & [0.11] & 0.18 & 0.1  &  0    \\\\\n",
      "\\hline\n",
      "\\end{tabular}\n"
     ]
    }
   ],
   "source": [
    "import numpy as np\n",
    "from tabulate import tabulate\n",
    "\n",
    "gini = np.array([[np.array([], dtype=np.float64), np.array([0.18]), np.array([0.18]),\n",
    "        np.array([0.2])],\n",
    "       [np.array([0.48]), np.array([0.15]), np.array([0.02]), np.array([0.05])],\n",
    "       [np.array([0.35]), np.array([0.2]), np.array([0.19]), np.array([0.])],\n",
    "       [np.array([0.11]), np.array([0.18]), np.array([0.1]), np.array([0.])]],\n",
    "      dtype=object)\n",
    "\n",
    "def numpy_to_latex(array):    \n",
    "    latex_table = tabulate(array, tablefmt=\"latex_raw\", headers=db_keys, showindex=eff_keys)\n",
    "    return latex_table\n",
    "\n",
    "print(numpy_to_latex(gini))"
   ],
   "metadata": {
    "collapsed": false,
    "ExecuteTime": {
     "end_time": "2024-04-22T07:50:51.920680229Z",
     "start_time": "2024-04-22T07:50:51.780525809Z"
    }
   },
   "id": "864da4fe2aef19b6",
   "execution_count": 63
  },
  {
   "cell_type": "code",
   "outputs": [
    {
     "data": {
      "text/plain": "['Agent 0', 'Agent 1', 'Agent 2', 'Agent 3', 'Agent 4']"
     },
     "execution_count": 64,
     "metadata": {},
     "output_type": "execute_result"
    }
   ],
   "source": [
    "list(survival_rate_df.columns)"
   ],
   "metadata": {
    "collapsed": false,
    "ExecuteTime": {
     "end_time": "2024-04-22T07:50:51.921621789Z",
     "start_time": "2024-04-22T07:50:51.824334401Z"
    }
   },
   "id": "933098b3c95d0a",
   "execution_count": 64
  },
  {
   "cell_type": "code",
   "outputs": [
    {
     "name": "stdout",
     "output_type": "stream",
     "text": [
      "\\begin{tabular}{lrrrrr}\n",
      "\\hline\n",
      "            &   Agent 0 &   Agent 1 &   Agent 2 &   Agent 3 &   Agent 4 \\\\\n",
      "\\hline\n",
      " 0\\%, 0     &      0.01 &      0.04 &      0.01 &      0.01 &      0.03 \\\\\n",
      " 0\\%, 1     &      0.02 &      0.03 &      0.08 &      0.11 &      0.04 \\\\\n",
      " 0\\%, 10    &      0    &      0    &      0.01 &      0    &      0    \\\\\n",
      " 0\\%, 100   &      0    &      0    &      0.22 &      0.06 &      0.02 \\\\\n",
      " 20\\%, 0    &      0.88 &      0    &      0.06 &      0.07 &      0    \\\\\n",
      " 20\\%, 1    &      1    &      0.96 &      0.36 &      0.96 &      0.76 \\\\\n",
      " 20\\%, 10   &      1    &      0.94 &      0.95 &      0.94 &      0.93 \\\\\n",
      " 20\\%, 100  &      0.98 &      0.88 &      0.8  &      0.82 &      0.54 \\\\\n",
      " 60\\%, 0    &      0.97 &      0.84 &      0.89 &      0    &      0    \\\\\n",
      " 60\\%, 1    &      1    &      1    &      1    &      1    &      1    \\\\\n",
      " 60\\%, 10   &      1    &      1    &      1    &      1    &      1    \\\\\n",
      " 60\\%, 100  &      1    &      1    &      1    &      1    &      1    \\\\\n",
      " 100\\%, 0   &      1    &      0.98 &      0.99 &      1    &      1    \\\\\n",
      " 100\\%, 1   &      0.87 &      0.79 &      0.93 &      0.97 &      0.92 \\\\\n",
      " 100\\%, 10  &      1    &      1    &      1    &      1    &      1    \\\\\n",
      " 100\\%, 100 &      1    &      1    &      1    &      1    &      1    \\\\\n",
      "\\hline\n",
      "\\end{tabular}\n"
     ]
    }
   ],
   "source": [
    "tab = tabulate(survival_rate_df.to_numpy(), tablefmt=\"latex_raw\", headers=list(survival_rate_df.columns), showindex=list(survival_rate_df.index))\n",
    "print(tab)"
   ],
   "metadata": {
    "collapsed": false,
    "ExecuteTime": {
     "end_time": "2024-04-22T07:50:51.922556767Z",
     "start_time": "2024-04-22T07:50:51.824554550Z"
    }
   },
   "id": "dcdc919ebe355e21",
   "execution_count": 65
  },
  {
   "cell_type": "code",
   "outputs": [
    {
     "name": "stdout",
     "output_type": "stream",
     "text": [
      "\\begin{tabular}{rllll}\n",
      "\\hline\n",
      "     & 0        & 1        & 10       & 100      \\\\\n",
      "\\hline\n",
      " 0   & [2.]\\%   & [5.4]\\%  & [0.4]\\%  & [6.]\\%   \\\\\n",
      " 0.2 & [20.4]\\% & [81.]\\%  & [95.2]\\% & [80.2]\\% \\\\\n",
      " 0.6 & [54.]\\%  & [100.]\\% & [99.8]\\% & [100.]\\% \\\\\n",
      " 1   & [99.4]\\% & [89.8]\\% & [100.]\\% & [100.]\\% \\\\\n",
      "\\hline\n",
      "\\end{tabular}\n"
     ]
    }
   ],
   "source": [
    "# Print table of n_survivors\n",
    "n_survivors_np = {\n",
    "    db: {eff: f\"{df[(df['we'] == 10) & (df['eff_rate'] == eff) & (df['db'] == db)]['n_survivors'].to_numpy() / 5 * 100}\\%\" for eff in eff_keys} for db in db_keys\n",
    "}\n",
    "pd.DataFrame(n_survivors_np)\n",
    "\n",
    "tab = tabulate(pd.DataFrame(n_survivors_np).to_numpy(), tablefmt=\"latex_raw\", headers=db_keys, showindex=eff_keys)\n",
    "print(tab)"
   ],
   "metadata": {
    "collapsed": false,
    "ExecuteTime": {
     "end_time": "2024-04-22T07:50:51.923859572Z",
     "start_time": "2024-04-22T07:50:51.824748526Z"
    }
   },
   "id": "f3a6d67839e69eb5",
   "execution_count": 66
  },
  {
   "cell_type": "code",
   "outputs": [
    {
     "name": "stdout",
     "output_type": "stream",
     "text": [
      "\\begin{tabular}{rrrr}\n",
      "\\hline\n",
      "   eff &   db &   eff_group &   uneff_group \\\\\n",
      "\\hline\n",
      "   0.2 &    0 &       35.82 &        nan    \\\\\n",
      "   0.2 &    1 &       33.08 &         79.51 \\\\\n",
      "   0.2 &   10 &       30.45 &         76.91 \\\\\n",
      "   0.2 &  100 &       32.62 &         76.22 \\\\\n",
      "   0.6 &    0 &       53.3  &        nan    \\\\\n",
      "   0.6 &    1 &       35.2  &         49.61 \\\\\n",
      "   0.6 &   10 &       36.21 &         49.52 \\\\\n",
      "   0.6 &  100 &       35.72 &         49.66 \\\\\n",
      "\\hline\n",
      "\\end{tabular}\n"
     ]
    }
   ],
   "source": [
    "# Print grouped time to survival as latex table\n",
    "tab = tabulate(grouped_time2survival_df.to_numpy().round(2), tablefmt=\"latex_raw\", headers=grouped_time2survival_df.columns, showindex=False)\n",
    "print(tab)"
   ],
   "metadata": {
    "collapsed": false,
    "ExecuteTime": {
     "end_time": "2024-04-22T07:50:51.924888893Z",
     "start_time": "2024-04-22T07:50:51.824927125Z"
    }
   },
   "id": "cec594e29df7901c",
   "execution_count": 67
  },
  {
   "cell_type": "code",
   "outputs": [
    {
     "name": "stdout",
     "output_type": "stream",
     "text": [
      "\\begin{tabular}{rrrrr}\n",
      "\\hline\n",
      "     &   0 &    1 &   10 &   100 \\\\\n",
      "\\hline\n",
      " 0   &   0 & 0    & 0    &  0    \\\\\n",
      " 0.2 &   0 & 1.66 & 1.55 &  1.69 \\\\\n",
      " 0.6 &   0 & 3.26 & 1.63 &  2.62 \\\\\n",
      " 1   &   0 & 0    & 7.56 &  4.61 \\\\\n",
      "\\hline\n",
      "\\end{tabular}\n"
     ]
    }
   ],
   "source": [
    "# Print wes\n",
    "tab = tabulate(wes_df.to_numpy().round(2), tablefmt=\"latex_raw\", headers=wes_df.columns, showindex=eff_keys)\n",
    "print(tab)"
   ],
   "metadata": {
    "collapsed": false,
    "ExecuteTime": {
     "end_time": "2024-04-22T07:50:51.941942035Z",
     "start_time": "2024-04-22T07:50:51.825162073Z"
    }
   },
   "id": "e28266d4b4cfaa34",
   "execution_count": 68
  },
  {
   "cell_type": "code",
   "outputs": [
    {
     "name": "stdout",
     "output_type": "stream",
     "text": [
      "0\\% & 0.00\\% & 0.00\\% & 0.44\\% & 0.00\\% & 0.00\\% & 0.00\\% & 0.58\\% & 0.00\\% \\\\\n",
      "20\\% & 0.00\\% & 0.24\\% & 0.72\\% & 0.00\\% & 0.32\\% & 0.00\\% & 6.73\\% & 0.00\\% \\\\\n",
      "60\\% & 0.00\\% & 0.16\\% & 0.13\\% & 0.00\\% & 0.43\\% & 0.00\\% & 0.09\\% & 0.00\\% \\\\\n",
      "100\\% & 0.00\\% & 0.00\\% & 35.02\\% & 0.00\\% & 0.48\\% & 0.00\\% & 0.08\\% & 0.00\\% \\\\\n"
     ]
    }
   ],
   "source": [
    "events = [\"did_not_donate\", \"greedy\"]\n",
    "# Build table with number of actions for each event separated by reference policies\n",
    "unethical_actions = np.zeros((4, 4, 2))\n",
    "for i in range(len(df_numpy)):\n",
    "    eff = df_numpy[i][1]\n",
    "    db = df_numpy[i][0]\n",
    "    for j, event in enumerate(events):\n",
    "        unethical_actions[eff_keys.index(eff), db_keys.index(db), j] = df_numpy[i][j+38]\n",
    "unethical_actions = unethical_actions * 100 / 500  \n",
    "unethical_actions = np.round(unethical_actions, 2)\n",
    "# Print latex rows as eff, (did_not_donate, greedy) for each db\n",
    "for i in range(4):\n",
    "    s = f\"{int(eff_keys[i]*100)}\\% & \"\n",
    "    for j in range(4):\n",
    "        s += \"{:.2f}\\% & {:.2f}\\% & \".format(unethical_actions[i, j, 0], unethical_actions[i, j, 1])\n",
    "    print(s[:-2] + \"\\\\\\\\\")\n"
   ],
   "metadata": {
    "collapsed": false,
    "ExecuteTime": {
     "end_time": "2024-04-22T07:50:51.942899991Z",
     "start_time": "2024-04-22T07:50:51.825342396Z"
    }
   },
   "id": "a23d980724876e5d",
   "execution_count": 69
  }
 ],
 "metadata": {
  "kernelspec": {
   "display_name": "Python 3",
   "language": "python",
   "name": "python3"
  },
  "language_info": {
   "codemirror_mode": {
    "name": "ipython",
    "version": 2
   },
   "file_extension": ".py",
   "mimetype": "text/x-python",
   "name": "python",
   "nbconvert_exporter": "python",
   "pygments_lexer": "ipython2",
   "version": "2.7.6"
  }
 },
 "nbformat": 4,
 "nbformat_minor": 5
}
