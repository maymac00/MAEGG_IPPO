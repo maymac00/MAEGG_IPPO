{
 "cells": [
  {
   "cell_type": "code",
   "outputs": [],
   "source": [
    "import numpy as np\n",
    "import matplotlib.pyplot as plt\n",
    "import matplotlib\n",
    "# %matplotlib tk\n",
    "we_keys = [0, 10, -1]\n",
    "eff_keys = [0, 0.2, 0.6, 1]\n",
    "db_keys = [0, 1, 10, 100]\n"
   ],
   "metadata": {
    "collapsed": false,
    "ExecuteTime": {
     "end_time": "2024-04-21T17:22:56.323424Z",
     "start_time": "2024-04-21T17:22:56.315483Z"
    }
   },
   "id": "cfa30624cc284ec7",
   "execution_count": 288
  },
  {
   "cell_type": "code",
   "outputs": [
    {
     "ename": "FileNotFoundError",
     "evalue": "[Errno 2] No such file or directory: 'EGG_DATA/report_2024_04_21_18_06.csv'",
     "output_type": "error",
     "traceback": [
      "\u001B[1;31m---------------------------------------------------------------------------\u001B[0m",
      "\u001B[1;31mFileNotFoundError\u001B[0m                         Traceback (most recent call last)",
      "Cell \u001B[1;32mIn[289], line 4\u001B[0m\n\u001B[0;32m      1\u001B[0m \u001B[38;5;28;01mimport\u001B[39;00m \u001B[38;5;21;01mpandas\u001B[39;00m \u001B[38;5;28;01mas\u001B[39;00m \u001B[38;5;21;01mpd\u001B[39;00m\n\u001B[0;32m      3\u001B[0m \u001B[38;5;66;03m# Dataframe from csv\u001B[39;00m\n\u001B[1;32m----> 4\u001B[0m df \u001B[38;5;241m=\u001B[39m pd\u001B[38;5;241m.\u001B[39mread_csv(\u001B[38;5;124m\"\u001B[39m\u001B[38;5;124mEGG_DATA/report_2024_04_21_18_06.csv\u001B[39m\u001B[38;5;124m\"\u001B[39m)\n\u001B[0;32m      5\u001B[0m df[\u001B[38;5;124m\"\u001B[39m\u001B[38;5;124mdir\u001B[39m\u001B[38;5;124m\"\u001B[39m] \u001B[38;5;241m=\u001B[39m df[\u001B[38;5;124m\"\u001B[39m\u001B[38;5;124mdir\u001B[39m\u001B[38;5;124m\"\u001B[39m]\u001B[38;5;241m.\u001B[39mapply(\u001B[38;5;28;01mlambda\u001B[39;00m x: \u001B[38;5;28mint\u001B[39m(x))\n\u001B[0;32m      6\u001B[0m \u001B[38;5;66;03m# Time to survival -1 to inf\u001B[39;00m\n",
      "File \u001B[1;32m~\\anaconda3\\envs\\MAEGG_IPPO\\Lib\\site-packages\\pandas\\io\\parsers\\readers.py:1026\u001B[0m, in \u001B[0;36mread_csv\u001B[1;34m(filepath_or_buffer, sep, delimiter, header, names, index_col, usecols, dtype, engine, converters, true_values, false_values, skipinitialspace, skiprows, skipfooter, nrows, na_values, keep_default_na, na_filter, verbose, skip_blank_lines, parse_dates, infer_datetime_format, keep_date_col, date_parser, date_format, dayfirst, cache_dates, iterator, chunksize, compression, thousands, decimal, lineterminator, quotechar, quoting, doublequote, escapechar, comment, encoding, encoding_errors, dialect, on_bad_lines, delim_whitespace, low_memory, memory_map, float_precision, storage_options, dtype_backend)\u001B[0m\n\u001B[0;32m   1013\u001B[0m kwds_defaults \u001B[38;5;241m=\u001B[39m _refine_defaults_read(\n\u001B[0;32m   1014\u001B[0m     dialect,\n\u001B[0;32m   1015\u001B[0m     delimiter,\n\u001B[1;32m   (...)\u001B[0m\n\u001B[0;32m   1022\u001B[0m     dtype_backend\u001B[38;5;241m=\u001B[39mdtype_backend,\n\u001B[0;32m   1023\u001B[0m )\n\u001B[0;32m   1024\u001B[0m kwds\u001B[38;5;241m.\u001B[39mupdate(kwds_defaults)\n\u001B[1;32m-> 1026\u001B[0m \u001B[38;5;28;01mreturn\u001B[39;00m _read(filepath_or_buffer, kwds)\n",
      "File \u001B[1;32m~\\anaconda3\\envs\\MAEGG_IPPO\\Lib\\site-packages\\pandas\\io\\parsers\\readers.py:620\u001B[0m, in \u001B[0;36m_read\u001B[1;34m(filepath_or_buffer, kwds)\u001B[0m\n\u001B[0;32m    617\u001B[0m _validate_names(kwds\u001B[38;5;241m.\u001B[39mget(\u001B[38;5;124m\"\u001B[39m\u001B[38;5;124mnames\u001B[39m\u001B[38;5;124m\"\u001B[39m, \u001B[38;5;28;01mNone\u001B[39;00m))\n\u001B[0;32m    619\u001B[0m \u001B[38;5;66;03m# Create the parser.\u001B[39;00m\n\u001B[1;32m--> 620\u001B[0m parser \u001B[38;5;241m=\u001B[39m TextFileReader(filepath_or_buffer, \u001B[38;5;241m*\u001B[39m\u001B[38;5;241m*\u001B[39mkwds)\n\u001B[0;32m    622\u001B[0m \u001B[38;5;28;01mif\u001B[39;00m chunksize \u001B[38;5;129;01mor\u001B[39;00m iterator:\n\u001B[0;32m    623\u001B[0m     \u001B[38;5;28;01mreturn\u001B[39;00m parser\n",
      "File \u001B[1;32m~\\anaconda3\\envs\\MAEGG_IPPO\\Lib\\site-packages\\pandas\\io\\parsers\\readers.py:1620\u001B[0m, in \u001B[0;36mTextFileReader.__init__\u001B[1;34m(self, f, engine, **kwds)\u001B[0m\n\u001B[0;32m   1617\u001B[0m     \u001B[38;5;28mself\u001B[39m\u001B[38;5;241m.\u001B[39moptions[\u001B[38;5;124m\"\u001B[39m\u001B[38;5;124mhas_index_names\u001B[39m\u001B[38;5;124m\"\u001B[39m] \u001B[38;5;241m=\u001B[39m kwds[\u001B[38;5;124m\"\u001B[39m\u001B[38;5;124mhas_index_names\u001B[39m\u001B[38;5;124m\"\u001B[39m]\n\u001B[0;32m   1619\u001B[0m \u001B[38;5;28mself\u001B[39m\u001B[38;5;241m.\u001B[39mhandles: IOHandles \u001B[38;5;241m|\u001B[39m \u001B[38;5;28;01mNone\u001B[39;00m \u001B[38;5;241m=\u001B[39m \u001B[38;5;28;01mNone\u001B[39;00m\n\u001B[1;32m-> 1620\u001B[0m \u001B[38;5;28mself\u001B[39m\u001B[38;5;241m.\u001B[39m_engine \u001B[38;5;241m=\u001B[39m \u001B[38;5;28mself\u001B[39m\u001B[38;5;241m.\u001B[39m_make_engine(f, \u001B[38;5;28mself\u001B[39m\u001B[38;5;241m.\u001B[39mengine)\n",
      "File \u001B[1;32m~\\anaconda3\\envs\\MAEGG_IPPO\\Lib\\site-packages\\pandas\\io\\parsers\\readers.py:1880\u001B[0m, in \u001B[0;36mTextFileReader._make_engine\u001B[1;34m(self, f, engine)\u001B[0m\n\u001B[0;32m   1878\u001B[0m     \u001B[38;5;28;01mif\u001B[39;00m \u001B[38;5;124m\"\u001B[39m\u001B[38;5;124mb\u001B[39m\u001B[38;5;124m\"\u001B[39m \u001B[38;5;129;01mnot\u001B[39;00m \u001B[38;5;129;01min\u001B[39;00m mode:\n\u001B[0;32m   1879\u001B[0m         mode \u001B[38;5;241m+\u001B[39m\u001B[38;5;241m=\u001B[39m \u001B[38;5;124m\"\u001B[39m\u001B[38;5;124mb\u001B[39m\u001B[38;5;124m\"\u001B[39m\n\u001B[1;32m-> 1880\u001B[0m \u001B[38;5;28mself\u001B[39m\u001B[38;5;241m.\u001B[39mhandles \u001B[38;5;241m=\u001B[39m get_handle(\n\u001B[0;32m   1881\u001B[0m     f,\n\u001B[0;32m   1882\u001B[0m     mode,\n\u001B[0;32m   1883\u001B[0m     encoding\u001B[38;5;241m=\u001B[39m\u001B[38;5;28mself\u001B[39m\u001B[38;5;241m.\u001B[39moptions\u001B[38;5;241m.\u001B[39mget(\u001B[38;5;124m\"\u001B[39m\u001B[38;5;124mencoding\u001B[39m\u001B[38;5;124m\"\u001B[39m, \u001B[38;5;28;01mNone\u001B[39;00m),\n\u001B[0;32m   1884\u001B[0m     compression\u001B[38;5;241m=\u001B[39m\u001B[38;5;28mself\u001B[39m\u001B[38;5;241m.\u001B[39moptions\u001B[38;5;241m.\u001B[39mget(\u001B[38;5;124m\"\u001B[39m\u001B[38;5;124mcompression\u001B[39m\u001B[38;5;124m\"\u001B[39m, \u001B[38;5;28;01mNone\u001B[39;00m),\n\u001B[0;32m   1885\u001B[0m     memory_map\u001B[38;5;241m=\u001B[39m\u001B[38;5;28mself\u001B[39m\u001B[38;5;241m.\u001B[39moptions\u001B[38;5;241m.\u001B[39mget(\u001B[38;5;124m\"\u001B[39m\u001B[38;5;124mmemory_map\u001B[39m\u001B[38;5;124m\"\u001B[39m, \u001B[38;5;28;01mFalse\u001B[39;00m),\n\u001B[0;32m   1886\u001B[0m     is_text\u001B[38;5;241m=\u001B[39mis_text,\n\u001B[0;32m   1887\u001B[0m     errors\u001B[38;5;241m=\u001B[39m\u001B[38;5;28mself\u001B[39m\u001B[38;5;241m.\u001B[39moptions\u001B[38;5;241m.\u001B[39mget(\u001B[38;5;124m\"\u001B[39m\u001B[38;5;124mencoding_errors\u001B[39m\u001B[38;5;124m\"\u001B[39m, \u001B[38;5;124m\"\u001B[39m\u001B[38;5;124mstrict\u001B[39m\u001B[38;5;124m\"\u001B[39m),\n\u001B[0;32m   1888\u001B[0m     storage_options\u001B[38;5;241m=\u001B[39m\u001B[38;5;28mself\u001B[39m\u001B[38;5;241m.\u001B[39moptions\u001B[38;5;241m.\u001B[39mget(\u001B[38;5;124m\"\u001B[39m\u001B[38;5;124mstorage_options\u001B[39m\u001B[38;5;124m\"\u001B[39m, \u001B[38;5;28;01mNone\u001B[39;00m),\n\u001B[0;32m   1889\u001B[0m )\n\u001B[0;32m   1890\u001B[0m \u001B[38;5;28;01massert\u001B[39;00m \u001B[38;5;28mself\u001B[39m\u001B[38;5;241m.\u001B[39mhandles \u001B[38;5;129;01mis\u001B[39;00m \u001B[38;5;129;01mnot\u001B[39;00m \u001B[38;5;28;01mNone\u001B[39;00m\n\u001B[0;32m   1891\u001B[0m f \u001B[38;5;241m=\u001B[39m \u001B[38;5;28mself\u001B[39m\u001B[38;5;241m.\u001B[39mhandles\u001B[38;5;241m.\u001B[39mhandle\n",
      "File \u001B[1;32m~\\anaconda3\\envs\\MAEGG_IPPO\\Lib\\site-packages\\pandas\\io\\common.py:873\u001B[0m, in \u001B[0;36mget_handle\u001B[1;34m(path_or_buf, mode, encoding, compression, memory_map, is_text, errors, storage_options)\u001B[0m\n\u001B[0;32m    868\u001B[0m \u001B[38;5;28;01melif\u001B[39;00m \u001B[38;5;28misinstance\u001B[39m(handle, \u001B[38;5;28mstr\u001B[39m):\n\u001B[0;32m    869\u001B[0m     \u001B[38;5;66;03m# Check whether the filename is to be opened in binary mode.\u001B[39;00m\n\u001B[0;32m    870\u001B[0m     \u001B[38;5;66;03m# Binary mode does not support 'encoding' and 'newline'.\u001B[39;00m\n\u001B[0;32m    871\u001B[0m     \u001B[38;5;28;01mif\u001B[39;00m ioargs\u001B[38;5;241m.\u001B[39mencoding \u001B[38;5;129;01mand\u001B[39;00m \u001B[38;5;124m\"\u001B[39m\u001B[38;5;124mb\u001B[39m\u001B[38;5;124m\"\u001B[39m \u001B[38;5;129;01mnot\u001B[39;00m \u001B[38;5;129;01min\u001B[39;00m ioargs\u001B[38;5;241m.\u001B[39mmode:\n\u001B[0;32m    872\u001B[0m         \u001B[38;5;66;03m# Encoding\u001B[39;00m\n\u001B[1;32m--> 873\u001B[0m         handle \u001B[38;5;241m=\u001B[39m \u001B[38;5;28mopen\u001B[39m(\n\u001B[0;32m    874\u001B[0m             handle,\n\u001B[0;32m    875\u001B[0m             ioargs\u001B[38;5;241m.\u001B[39mmode,\n\u001B[0;32m    876\u001B[0m             encoding\u001B[38;5;241m=\u001B[39mioargs\u001B[38;5;241m.\u001B[39mencoding,\n\u001B[0;32m    877\u001B[0m             errors\u001B[38;5;241m=\u001B[39merrors,\n\u001B[0;32m    878\u001B[0m             newline\u001B[38;5;241m=\u001B[39m\u001B[38;5;124m\"\u001B[39m\u001B[38;5;124m\"\u001B[39m,\n\u001B[0;32m    879\u001B[0m         )\n\u001B[0;32m    880\u001B[0m     \u001B[38;5;28;01melse\u001B[39;00m:\n\u001B[0;32m    881\u001B[0m         \u001B[38;5;66;03m# Binary mode\u001B[39;00m\n\u001B[0;32m    882\u001B[0m         handle \u001B[38;5;241m=\u001B[39m \u001B[38;5;28mopen\u001B[39m(handle, ioargs\u001B[38;5;241m.\u001B[39mmode)\n",
      "\u001B[1;31mFileNotFoundError\u001B[0m: [Errno 2] No such file or directory: 'EGG_DATA/report_2024_04_21_18_06.csv'"
     ]
    }
   ],
   "source": [
    "import pandas as pd\n",
    "\n",
    "# Dataframe from csv\n",
    "df = pd.read_csv(\"EGG_DATA/report_2024_04_21_18_06.csv\")\n",
    "df[\"dir\"] = df[\"dir\"].apply(lambda x: int(x))\n",
    "# Time to survival -1 to inf\n",
    "for i in range(5):\n",
    "    df[f\"time_to_survival_agent_{i}\"] = df[f\"time_to_survival_agent_{i}\"].apply(lambda x: np.infty if x == -1 else x)\n",
    "    df[f\"time_to_survival_agent_sd{i}\"] = df[f\"time_to_survival_agent_sd{i}\"].apply(lambda x: np.infty if x == -1 else x)\n",
    "\n",
    "df.info()"
   ],
   "metadata": {
    "collapsed": false,
    "ExecuteTime": {
     "end_time": "2024-04-21T17:22:56.530056Z",
     "start_time": "2024-04-21T17:22:56.360195Z"
    }
   },
   "id": "4ad2509e7ce2a09f",
   "execution_count": 289
  },
  {
   "cell_type": "code",
   "outputs": [
    {
     "data": {
      "text/plain": "    time_to_survival_agent_0  time_to_survival_agent_1  \\\n0                     179.12                       NaN   \n1                     150.00                       NaN   \n2                     247.50                    268.25   \n3                     164.50                    172.75   \n4                     195.88                    161.38   \n5                     421.25                    438.00   \n6                     165.38                    371.75   \n7                     188.62                    148.38   \n8                     331.75                    314.75   \n9                     365.00                       NaN   \n10                    152.25                    381.00   \n11                    180.12                    177.00   \n12                    198.88                    160.75   \n13                    467.00                    440.00   \n14                    163.12                    362.25   \n15                    179.62                    185.00   \n16                    199.50                    204.25   \n\n    time_to_survival_agent_2  time_to_survival_agent_3  \\\n0                     429.50                    428.50   \n1                        NaN                       NaN   \n2                     283.75                       NaN   \n3                     201.00                       NaN   \n4                     225.25                    187.62   \n5                     420.25                    434.00   \n6                     438.75                    366.75   \n7                     191.00                    254.12   \n8                     266.00                    243.00   \n9                     459.00                       NaN   \n10                    384.75                    385.50   \n11                    186.00                    258.75   \n12                    207.88                    207.50   \n13                    425.75                    415.00   \n14                    393.25                    354.50   \n15                    171.12                    255.00   \n16                    183.25                    162.62   \n\n    time_to_survival_agent_4  \n0                     478.00  \n1                        NaN  \n2                        NaN  \n3                        NaN  \n4                     215.00  \n5                     434.25  \n6                     413.00  \n7                     242.00  \n8                     292.50  \n9                     498.00  \n10                    387.00  \n11                    236.50  \n12                    190.25  \n13                    446.00  \n14                    414.50  \n15                    241.62  \n16                    180.62  ",
      "text/html": "<div>\n<style scoped>\n    .dataframe tbody tr th:only-of-type {\n        vertical-align: middle;\n    }\n\n    .dataframe tbody tr th {\n        vertical-align: top;\n    }\n\n    .dataframe thead th {\n        text-align: right;\n    }\n</style>\n<table border=\"1\" class=\"dataframe\">\n  <thead>\n    <tr style=\"text-align: right;\">\n      <th></th>\n      <th>time_to_survival_agent_0</th>\n      <th>time_to_survival_agent_1</th>\n      <th>time_to_survival_agent_2</th>\n      <th>time_to_survival_agent_3</th>\n      <th>time_to_survival_agent_4</th>\n    </tr>\n  </thead>\n  <tbody>\n    <tr>\n      <th>0</th>\n      <td>179.12</td>\n      <td>NaN</td>\n      <td>429.50</td>\n      <td>428.50</td>\n      <td>478.00</td>\n    </tr>\n    <tr>\n      <th>1</th>\n      <td>150.00</td>\n      <td>NaN</td>\n      <td>NaN</td>\n      <td>NaN</td>\n      <td>NaN</td>\n    </tr>\n    <tr>\n      <th>2</th>\n      <td>247.50</td>\n      <td>268.25</td>\n      <td>283.75</td>\n      <td>NaN</td>\n      <td>NaN</td>\n    </tr>\n    <tr>\n      <th>3</th>\n      <td>164.50</td>\n      <td>172.75</td>\n      <td>201.00</td>\n      <td>NaN</td>\n      <td>NaN</td>\n    </tr>\n    <tr>\n      <th>4</th>\n      <td>195.88</td>\n      <td>161.38</td>\n      <td>225.25</td>\n      <td>187.62</td>\n      <td>215.00</td>\n    </tr>\n    <tr>\n      <th>5</th>\n      <td>421.25</td>\n      <td>438.00</td>\n      <td>420.25</td>\n      <td>434.00</td>\n      <td>434.25</td>\n    </tr>\n    <tr>\n      <th>6</th>\n      <td>165.38</td>\n      <td>371.75</td>\n      <td>438.75</td>\n      <td>366.75</td>\n      <td>413.00</td>\n    </tr>\n    <tr>\n      <th>7</th>\n      <td>188.62</td>\n      <td>148.38</td>\n      <td>191.00</td>\n      <td>254.12</td>\n      <td>242.00</td>\n    </tr>\n    <tr>\n      <th>8</th>\n      <td>331.75</td>\n      <td>314.75</td>\n      <td>266.00</td>\n      <td>243.00</td>\n      <td>292.50</td>\n    </tr>\n    <tr>\n      <th>9</th>\n      <td>365.00</td>\n      <td>NaN</td>\n      <td>459.00</td>\n      <td>NaN</td>\n      <td>498.00</td>\n    </tr>\n    <tr>\n      <th>10</th>\n      <td>152.25</td>\n      <td>381.00</td>\n      <td>384.75</td>\n      <td>385.50</td>\n      <td>387.00</td>\n    </tr>\n    <tr>\n      <th>11</th>\n      <td>180.12</td>\n      <td>177.00</td>\n      <td>186.00</td>\n      <td>258.75</td>\n      <td>236.50</td>\n    </tr>\n    <tr>\n      <th>12</th>\n      <td>198.88</td>\n      <td>160.75</td>\n      <td>207.88</td>\n      <td>207.50</td>\n      <td>190.25</td>\n    </tr>\n    <tr>\n      <th>13</th>\n      <td>467.00</td>\n      <td>440.00</td>\n      <td>425.75</td>\n      <td>415.00</td>\n      <td>446.00</td>\n    </tr>\n    <tr>\n      <th>14</th>\n      <td>163.12</td>\n      <td>362.25</td>\n      <td>393.25</td>\n      <td>354.50</td>\n      <td>414.50</td>\n    </tr>\n    <tr>\n      <th>15</th>\n      <td>179.62</td>\n      <td>185.00</td>\n      <td>171.12</td>\n      <td>255.00</td>\n      <td>241.62</td>\n    </tr>\n    <tr>\n      <th>16</th>\n      <td>199.50</td>\n      <td>204.25</td>\n      <td>183.25</td>\n      <td>162.62</td>\n      <td>180.62</td>\n    </tr>\n  </tbody>\n</table>\n</div>"
     },
     "execution_count": 290,
     "metadata": {},
     "output_type": "execute_result"
    }
   ],
   "source": [
    "df[[f\"time_to_survival_agent_{i}\" for i in range(5)]]"
   ],
   "metadata": {
    "collapsed": false,
    "ExecuteTime": {
     "end_time": "2024-04-21T17:22:56.591632Z",
     "start_time": "2024-04-21T17:22:56.562815Z"
    }
   },
   "id": "2b1e4f021255ee51",
   "execution_count": 290
  },
  {
   "cell_type": "code",
   "outputs": [
    {
     "data": {
      "text/plain": "    eff_rate     db    we  dir\n0        0.2    0.0  10.0    0\n1        0.2    0.0   0.0    0\n2        0.6    0.0  10.0    4\n3        0.6    0.0   0.0    2\n4        1.0    0.0  10.0    1\n5        0.0    1.0  10.0    0\n6        0.2    1.0  10.0    3\n7        0.6    1.0  10.0    1\n8        1.0    1.0  10.0    1\n9        0.0   10.0  10.0    0\n10       0.2   10.0  10.0    7\n11       0.6   10.0  10.0    4\n12       1.0   10.0  10.0    0\n13       0.0  100.0  10.0    0\n14       0.2  100.0  10.0    6\n15       0.6  100.0  10.0    4\n16       1.0  100.0  10.0    0",
      "text/html": "<div>\n<style scoped>\n    .dataframe tbody tr th:only-of-type {\n        vertical-align: middle;\n    }\n\n    .dataframe tbody tr th {\n        vertical-align: top;\n    }\n\n    .dataframe thead th {\n        text-align: right;\n    }\n</style>\n<table border=\"1\" class=\"dataframe\">\n  <thead>\n    <tr style=\"text-align: right;\">\n      <th></th>\n      <th>eff_rate</th>\n      <th>db</th>\n      <th>we</th>\n      <th>dir</th>\n    </tr>\n  </thead>\n  <tbody>\n    <tr>\n      <th>0</th>\n      <td>0.2</td>\n      <td>0.0</td>\n      <td>10.0</td>\n      <td>0</td>\n    </tr>\n    <tr>\n      <th>1</th>\n      <td>0.2</td>\n      <td>0.0</td>\n      <td>0.0</td>\n      <td>0</td>\n    </tr>\n    <tr>\n      <th>2</th>\n      <td>0.6</td>\n      <td>0.0</td>\n      <td>10.0</td>\n      <td>4</td>\n    </tr>\n    <tr>\n      <th>3</th>\n      <td>0.6</td>\n      <td>0.0</td>\n      <td>0.0</td>\n      <td>2</td>\n    </tr>\n    <tr>\n      <th>4</th>\n      <td>1.0</td>\n      <td>0.0</td>\n      <td>10.0</td>\n      <td>1</td>\n    </tr>\n    <tr>\n      <th>5</th>\n      <td>0.0</td>\n      <td>1.0</td>\n      <td>10.0</td>\n      <td>0</td>\n    </tr>\n    <tr>\n      <th>6</th>\n      <td>0.2</td>\n      <td>1.0</td>\n      <td>10.0</td>\n      <td>3</td>\n    </tr>\n    <tr>\n      <th>7</th>\n      <td>0.6</td>\n      <td>1.0</td>\n      <td>10.0</td>\n      <td>1</td>\n    </tr>\n    <tr>\n      <th>8</th>\n      <td>1.0</td>\n      <td>1.0</td>\n      <td>10.0</td>\n      <td>1</td>\n    </tr>\n    <tr>\n      <th>9</th>\n      <td>0.0</td>\n      <td>10.0</td>\n      <td>10.0</td>\n      <td>0</td>\n    </tr>\n    <tr>\n      <th>10</th>\n      <td>0.2</td>\n      <td>10.0</td>\n      <td>10.0</td>\n      <td>7</td>\n    </tr>\n    <tr>\n      <th>11</th>\n      <td>0.6</td>\n      <td>10.0</td>\n      <td>10.0</td>\n      <td>4</td>\n    </tr>\n    <tr>\n      <th>12</th>\n      <td>1.0</td>\n      <td>10.0</td>\n      <td>10.0</td>\n      <td>0</td>\n    </tr>\n    <tr>\n      <th>13</th>\n      <td>0.0</td>\n      <td>100.0</td>\n      <td>10.0</td>\n      <td>0</td>\n    </tr>\n    <tr>\n      <th>14</th>\n      <td>0.2</td>\n      <td>100.0</td>\n      <td>10.0</td>\n      <td>6</td>\n    </tr>\n    <tr>\n      <th>15</th>\n      <td>0.6</td>\n      <td>100.0</td>\n      <td>10.0</td>\n      <td>4</td>\n    </tr>\n    <tr>\n      <th>16</th>\n      <td>1.0</td>\n      <td>100.0</td>\n      <td>10.0</td>\n      <td>0</td>\n    </tr>\n  </tbody>\n</table>\n</div>"
     },
     "execution_count": 291,
     "metadata": {},
     "output_type": "execute_result"
    }
   ],
   "source": [
    "# Pretty print table with eff, db, we and dir\n",
    "df[[\"eff_rate\", \"db\", \"we\", \"dir\"]]"
   ],
   "metadata": {
    "collapsed": false,
    "ExecuteTime": {
     "end_time": "2024-04-21T17:22:56.693860Z",
     "start_time": "2024-04-21T17:22:56.668791Z"
    }
   },
   "id": "fabf8797da977c2b",
   "execution_count": 291
  },
  {
   "cell_type": "code",
   "outputs": [
    {
     "data": {
      "text/plain": "array([[-132.88,   31.8 ],\n       [-372.25,    0.  ],\n       [-473.75,    0.  ],\n       [-367.5 ,    0.  ],\n       [-429.5 ,    0.  ]])"
     },
     "execution_count": 292,
     "metadata": {},
     "output_type": "execute_result"
    }
   ],
   "source": [
    "df_numpy = df.to_numpy()\n",
    "ref_policies_df = df[df[\"we\"] == 10]\n",
    "\n",
    "# Reference policies: we = 10\n",
    "ref_policies_values = {\n",
    "    eff: {db: np.zeros((5,2)) for db in db_keys} for eff in eff_keys\n",
    "}\n",
    "ref_policies_np = df_numpy[df_numpy[:, 2] == 10]\n",
    "\n",
    "for i in range(len(ref_policies_np)):\n",
    "    eff = ref_policies_np[i][1]\n",
    "    db = ref_policies_np[i][0]\n",
    "    ref_policies_values[eff][db] = np.hstack([ref_policies_np[i][10:15].reshape((5,1)), ref_policies_np[i][15:20].reshape((5,1)) ])\n",
    "\n",
    "ref_policies_values[0.6][1] = np.array([[-1.3750e+02,  7.3400e+00],[-1.3025e+02,  5.2600e+00],[-1.3400e+02,  7.1700e+00],[-2.5138e+02,  1.0000e-02],[-2.4075e+02,  3.0000e-02]])   \n",
    "\n",
    "ref_policies_values[0.2][1]"
   ],
   "metadata": {
    "collapsed": false,
    "ExecuteTime": {
     "end_time": "2024-04-21T17:22:56.915417Z",
     "start_time": "2024-04-21T17:22:56.891861Z"
    }
   },
   "id": "ac74feec0f5694ba",
   "execution_count": 292
  },
  {
   "cell_type": "code",
   "outputs": [
    {
     "data": {
      "text/plain": "array([[-1.3750e+02,  7.3400e+00],\n       [-1.3025e+02,  5.2600e+00],\n       [-1.3400e+02,  7.1700e+00],\n       [-2.5138e+02,  1.0000e-02],\n       [-2.4075e+02,  3.0000e-02]])"
     },
     "execution_count": 293,
     "metadata": {},
     "output_type": "execute_result"
    }
   ],
   "source": [
    "ref_policies_values[0.6][1]"
   ],
   "metadata": {
    "collapsed": false,
    "ExecuteTime": {
     "end_time": "2024-04-21T17:22:56.990057Z",
     "start_time": "2024-04-21T17:22:56.971940Z"
    }
   },
   "id": "a8dba748ce57270a",
   "execution_count": 293
  },
  {
   "cell_type": "code",
   "outputs": [
    {
     "data": {
      "text/plain": "array([[-9.7940e+01, -3.0000e-02],\n       [-1.1338e+02, -6.9000e-01],\n       [-1.5512e+02, -1.6600e+00],\n       [-4.9800e+02,  0.0000e+00],\n       [-4.9850e+02,  0.0000e+00]])"
     },
     "execution_count": 294,
     "metadata": {},
     "output_type": "execute_result"
    }
   ],
   "source": [
    "unet_policies_values = {\n",
    "    eff: np.zeros((5,2)) for eff in eff_keys\n",
    "}\n",
    "\n",
    "unet_policies_np = df_numpy[df_numpy[:, 2] == 0]\n",
    "for i in range(len(unet_policies_np)):\n",
    "    eff = unet_policies_np[i][1]\n",
    "    unet_policies_values[eff] = np.hstack([unet_policies_np[i][10:15].reshape((5,1)), unet_policies_np[i][15:20].reshape((5,1)) ])\n",
    "unet_policies_values[0] = ref_policies_values[0][0]\n",
    "unet_policies_values[1] = ref_policies_values[1][0]\n",
    "unet_policies_values[0.6]"
   ],
   "metadata": {
    "collapsed": false,
    "ExecuteTime": {
     "end_time": "2024-04-21T17:22:57.193313Z",
     "start_time": "2024-04-21T17:22:57.150087Z"
    }
   },
   "id": "1ff35c9371aac531",
   "execution_count": 294
  },
  {
   "cell_type": "code",
   "outputs": [],
   "source": [
    "# Function to get the intersection of two lines represented as f(we) = v0 + we*ve for a two given fixed sets of (v0, ve)\n",
    "def get_intersection(v01, ve1, v02, ve2):\n",
    "    if ve1 == ve2:\n",
    "        return 0\n",
    "    we = (v01 - v02) / (ve2 - ve1)\n",
    "    return we\n",
    "# get_intersection(mo_value_w10[2][0], mo_value_w10[2][1], mo_value_w0[2][0], mo_value_w0[2][1])"
   ],
   "metadata": {
    "collapsed": false,
    "ExecuteTime": {
     "end_time": "2024-04-21T17:22:57.421298Z",
     "start_time": "2024-04-21T17:22:57.409205Z"
    }
   },
   "id": "2c57669031cb4133",
   "execution_count": 295
  },
  {
   "cell_type": "code",
   "outputs": [
    {
     "name": "stdout",
     "output_type": "stream",
     "text": [
      "4.6400862068965525\n",
      "2.0595829195630593\n",
      "-0.7014028056112224\n",
      "-1734.8571428571427\n",
      "-1019.2307692307692\n"
     ]
    },
    {
     "data": {
      "text/plain": "<Figure size 2500x500 with 5 Axes>",
      "image/png": "[encoded data removed]"
     },
     "metadata": {},
     "output_type": "display_data"
    }
   ],
   "source": [
    "# Plot values as function of weight w that scales the reward\n",
    "fig, axs = plt.subplots(1, 5, figsize=(25, 5)) \n",
    "step = 0.1\n",
    "# for ag in mo_value_w10:\n",
    "max_weight = 10\n",
    "# Subplot for each agent\n",
    "x = np.arange(0, max_weight, step)\n",
    "w = np.array([np.ones(int(max_weight/step)), np.arange(0, max_weight, step)])\n",
    "\n",
    "setting = {\"eff\": 0.6, \"db\": 10}\n",
    "for ag in range(5):\n",
    "    axs[ag].set_title(\"MO Value Function\")\n",
    "    ref = ref_policies_values[setting[\"eff\"]][setting[\"db\"]]\n",
    "    unet = unet_policies_values[setting[\"eff\"]]\n",
    "    axs[ag].plot(x, np.dot(unet[ag], w), c=\"blue\")\n",
    "    axs[ag].plot(x, np.dot(ref[ag], w), c=\"green\")\n",
    "    \n",
    "wes = []\n",
    "for ag in range(5):\n",
    "    # Print intersecctions\n",
    "    p1 = unet_policies_values[setting[\"eff\"]][ag]\n",
    "    p2 = ref_policies_values[setting[\"eff\"]][setting[\"db\"]][ag]\n",
    "    inter = get_intersection(p1[0], p1[1], p2[0], p2[1])\n",
    "    print(inter)\n",
    "    wes.append(inter)\n",
    "plt.show()"
   ],
   "metadata": {
    "collapsed": false,
    "ExecuteTime": {
     "end_time": "2024-04-21T17:22:58.740330Z",
     "start_time": "2024-04-21T17:22:57.583852Z"
    }
   },
   "id": "8985ba4013bb41c4",
   "execution_count": 296
  },
  {
   "cell_type": "code",
   "outputs": [
    {
     "name": "stdout",
     "output_type": "stream",
     "text": [
      "[[-214.75    0.  ]\n",
      " [-272.75    0.  ]\n",
      " [-277.5     0.  ]]\n",
      "[[-137.5     7.34]\n",
      " [-130.25    5.26]\n",
      " [-134.      7.17]]\n",
      "[[-141.      9.25]\n",
      " [-134.12    9.38]\n",
      " [-148.12    8.32]]\n",
      "[[-163.62   18.56]\n",
      " [-169.25   25.19]\n",
      " [-154.88   28.44]]\n"
     ]
    }
   ],
   "source": [
    "print(ref_policies_values[0.6][0][0:3])\n",
    "print(ref_policies_values[0.6][1][0:3])\n",
    "print(ref_policies_values[0.6][10][0:3])\n",
    "print(ref_policies_values[0.6][100][0:3])"
   ],
   "metadata": {
    "collapsed": false,
    "ExecuteTime": {
     "end_time": "2024-04-21T17:22:58.757703Z",
     "start_time": "2024-04-21T17:22:58.745291Z"
    }
   },
   "id": "554dccfe6f6a72b3",
   "execution_count": 297
  },
  {
   "cell_type": "code",
   "outputs": [
    {
     "data": {
      "text/plain": "     0         1         10        100\n0.0 -inf      -inf      -inf      -inf\n0.2 -inf  1.658904  1.546498  1.693273\n0.6 -inf  4.101501  3.349835  2.845946\n1.0 -inf      -inf  7.564576  4.609557",
      "text/html": "<div>\n<style scoped>\n    .dataframe tbody tr th:only-of-type {\n        vertical-align: middle;\n    }\n\n    .dataframe tbody tr th {\n        vertical-align: top;\n    }\n\n    .dataframe thead th {\n        text-align: right;\n    }\n</style>\n<table border=\"1\" class=\"dataframe\">\n  <thead>\n    <tr style=\"text-align: right;\">\n      <th></th>\n      <th>0</th>\n      <th>1</th>\n      <th>10</th>\n      <th>100</th>\n    </tr>\n  </thead>\n  <tbody>\n    <tr>\n      <th>0.0</th>\n      <td>-inf</td>\n      <td>-inf</td>\n      <td>-inf</td>\n      <td>-inf</td>\n    </tr>\n    <tr>\n      <th>0.2</th>\n      <td>-inf</td>\n      <td>1.658904</td>\n      <td>1.546498</td>\n      <td>1.693273</td>\n    </tr>\n    <tr>\n      <th>0.6</th>\n      <td>-inf</td>\n      <td>4.101501</td>\n      <td>3.349835</td>\n      <td>2.845946</td>\n    </tr>\n    <tr>\n      <th>1.0</th>\n      <td>-inf</td>\n      <td>-inf</td>\n      <td>7.564576</td>\n      <td>4.609557</td>\n    </tr>\n  </tbody>\n</table>\n</div>"
     },
     "execution_count": 298,
     "metadata": {},
     "output_type": "execute_result"
    }
   ],
   "source": [
    "def compute_wes_prima(eff, db):\n",
    "    def aggregation_function(wes, method=\"median\"):\n",
    "        # cut to interval 1-10 else return -inf\n",
    "        wes = [w for w in wes if w >= 1 and w <= 10]\n",
    "        if len(wes) == 0:\n",
    "            return -np.infty\n",
    "        if method == \"median\":\n",
    "            return np.median(wes)\n",
    "        if method == \"mean\":\n",
    "            return np.mean(wes)\n",
    "        if method == \"max\":\n",
    "            return np.max(wes)\n",
    "        if method == \"min\":\n",
    "            return np.min(wes)\n",
    "    wes_prima = []\n",
    "    for ag in range(5):\n",
    "        # Print intersecctions\n",
    "        p1 = unet_policies_values[eff][ag]\n",
    "        p2 = ref_policies_values[eff][db][ag]\n",
    "        inter = get_intersection(p1[0], p1[1], p2[0], p2[1])\n",
    "        wes_prima.append(inter)\n",
    "    return aggregation_function(wes_prima, method=\"median\")\n",
    "\n",
    "\n",
    "# Create table of WES' for each eff (from 0.2, 0.6, 1) and db (from 0, 1, 10, 100) \n",
    "wes_prima = {\n",
    "    db: {eff: compute_wes_prima(eff, db) for eff in eff_keys} for db in db_keys\n",
    "}\n",
    "# pretty print as dataframe\n",
    "wes_df = pd.DataFrame(wes_prima)\n",
    "wes_df"
   ],
   "metadata": {
    "collapsed": false,
    "ExecuteTime": {
     "end_time": "2024-04-21T17:22:58.788038Z",
     "start_time": "2024-04-21T17:22:58.763152Z"
    }
   },
   "id": "99e1f8695929a0ff",
   "execution_count": 298
  },
  {
   "cell_type": "code",
   "outputs": [
    {
     "data": {
      "text/plain": "['152.25 ± 42.69',\n '381.00 ± 59.31',\n '384.75 ± 54.97',\n '385.50 ± 56.06',\n '387.00 ± 54.19']"
     },
     "execution_count": 299,
     "metadata": {},
     "output_type": "execute_result"
    }
   ],
   "source": [
    "time2survival_np = ref_policies_np[:, 20:25]\n",
    "time2survival_std_np = ref_policies_np[:, 25:30]\n",
    "# Create a string with the mean and std of the time to survival for each agent\n",
    "mean_std_time2survival = {(eff, db): [] for eff in eff_keys for db in db_keys}\n",
    "for i in range(len(time2survival_np)):\n",
    "    eff = ref_policies_np[i][1]\n",
    "    db = ref_policies_np[i][0]\n",
    "    for ag in range(5):\n",
    "        mean_std_time2survival[eff, db].append(f\"{time2survival_np[i][ag]:.2f} ± {time2survival_std_np[i][ag]:.2f}\")\n",
    "        \n",
    "# pretty print as dataframe\n",
    "mean_std_time2survival[0.2, 10]"
   ],
   "metadata": {
    "collapsed": false,
    "ExecuteTime": {
     "end_time": "2024-04-21T17:22:58.805611Z",
     "start_time": "2024-04-21T17:22:58.791379Z"
    }
   },
   "id": "196d9f4057f68132",
   "execution_count": 299
  },
  {
   "cell_type": "code",
   "outputs": [
    {
     "data": {
      "text/plain": "   eff     db  eff_group  uneff_group\n0  0.2    0.0     35.824          NaN\n1  0.2    1.0     33.076      79.5125\n2  0.2   10.0     30.450      76.9125\n3  0.2  100.0     32.624      76.2250\n4  0.6    0.0     53.300          NaN\n5  0.6    1.0     35.200      49.6120\n6  0.6   10.0     36.208      49.5250\n7  0.6  100.0     35.716      49.6620",
      "text/html": "<div>\n<style scoped>\n    .dataframe tbody tr th:only-of-type {\n        vertical-align: middle;\n    }\n\n    .dataframe tbody tr th {\n        vertical-align: top;\n    }\n\n    .dataframe thead th {\n        text-align: right;\n    }\n</style>\n<table border=\"1\" class=\"dataframe\">\n  <thead>\n    <tr style=\"text-align: right;\">\n      <th></th>\n      <th>eff</th>\n      <th>db</th>\n      <th>eff_group</th>\n      <th>uneff_group</th>\n    </tr>\n  </thead>\n  <tbody>\n    <tr>\n      <th>0</th>\n      <td>0.2</td>\n      <td>0.0</td>\n      <td>35.824</td>\n      <td>NaN</td>\n    </tr>\n    <tr>\n      <th>1</th>\n      <td>0.2</td>\n      <td>1.0</td>\n      <td>33.076</td>\n      <td>79.5125</td>\n    </tr>\n    <tr>\n      <th>2</th>\n      <td>0.2</td>\n      <td>10.0</td>\n      <td>30.450</td>\n      <td>76.9125</td>\n    </tr>\n    <tr>\n      <th>3</th>\n      <td>0.2</td>\n      <td>100.0</td>\n      <td>32.624</td>\n      <td>76.2250</td>\n    </tr>\n    <tr>\n      <th>4</th>\n      <td>0.6</td>\n      <td>0.0</td>\n      <td>53.300</td>\n      <td>NaN</td>\n    </tr>\n    <tr>\n      <th>5</th>\n      <td>0.6</td>\n      <td>1.0</td>\n      <td>35.200</td>\n      <td>49.6120</td>\n    </tr>\n    <tr>\n      <th>6</th>\n      <td>0.6</td>\n      <td>10.0</td>\n      <td>36.208</td>\n      <td>49.5250</td>\n    </tr>\n    <tr>\n      <th>7</th>\n      <td>0.6</td>\n      <td>100.0</td>\n      <td>35.716</td>\n      <td>49.6620</td>\n    </tr>\n  </tbody>\n</table>\n</div>"
     },
     "execution_count": 351,
     "metadata": {},
     "output_type": "execute_result"
    }
   ],
   "source": [
    "# Print time 2 survive with agent groups of eff \n",
    "grouped_time2survival = []\n",
    "for eff in [0.2, 0.6]:\n",
    "    for db in [0, 1, 10, 100]:\n",
    "        row = [eff, db] \n",
    "        agents_t2s = list(time2survival_np[(ref_policies_np[:, 1] == eff) & (ref_policies_np[:, 0] == db)].mean(axis=0))\n",
    "        eff_group = np.mean(agents_t2s[:int(5*eff)]) * 100 / 500\n",
    "        uneff_group = np.mean(agents_t2s[int(5*eff):])* 100 / 500\n",
    "        grouped_time2survival.append(row+[eff_group, uneff_group])\n",
    "        \n",
    "grouped_time2survival = np.array(grouped_time2survival)\n",
    "grouped_time2survival_df = pd.DataFrame(grouped_time2survival, columns=[\"eff\", \"db\", \"eff_group\", \"uneff_group\"])\n",
    "grouped_time2survival_df"
   ],
   "metadata": {
    "collapsed": false,
    "ExecuteTime": {
     "end_time": "2024-04-21T18:07:11.712438Z",
     "start_time": "2024-04-21T18:07:11.693146Z"
    }
   },
   "id": "fdafee4b0afc85ca",
   "execution_count": 351
  },
  {
   "cell_type": "code",
   "outputs": [],
   "source": [
    "#print ratio of survival\n",
    "ratio_survival_np = ref_policies_np[:, 30:35]\n",
    "ratio_survival = np.zeros((4,4,5))\n",
    "\n",
    "for i in range(len(ratio_survival_np)):\n",
    "    #map eff to eff_keys ind\n",
    "    eff = ref_policies_np[i][1]\n",
    "    db = ref_policies_np[i][0]\n",
    "    ratio_survival[eff_keys.index(eff), db_keys.index(db)] = ratio_survival_np[i]\n",
    "    \n",
    "# Print as table with rows of format eff, db, ratio of survival for each agent\n",
    "ratio_survival = ratio_survival.reshape((16,5))\n",
    "survival_rate_df = pd.DataFrame(ratio_survival, columns=[f\"Agent {i}\" for i in range(5)], index=[f\"{int(eff*100)}\\%, {db}\" for eff in eff_keys for db in db_keys])"
   ],
   "metadata": {
    "collapsed": false,
    "ExecuteTime": {
     "end_time": "2024-04-21T17:22:58.850646Z",
     "start_time": "2024-04-21T17:22:58.837349Z"
    }
   },
   "id": "c2f44f3d51e2204d",
   "execution_count": 301
  },
  {
   "cell_type": "code",
   "outputs": [
    {
     "data": {
      "text/plain": "          0         1         10        100\n0.0        []    [0.95]    [0.95]  [0.9375]\n0.2     [0.6]    [0.95]     [1.0]  [0.9875]\n0.6   [0.825]    [0.95]    [0.95]     [1.0]\n1.0  [0.9875]  [0.9625]  [0.9875]     [1.0]",
      "text/html": "<div>\n<style scoped>\n    .dataframe tbody tr th:only-of-type {\n        vertical-align: middle;\n    }\n\n    .dataframe tbody tr th {\n        vertical-align: top;\n    }\n\n    .dataframe thead th {\n        text-align: right;\n    }\n</style>\n<table border=\"1\" class=\"dataframe\">\n  <thead>\n    <tr style=\"text-align: right;\">\n      <th></th>\n      <th>0</th>\n      <th>1</th>\n      <th>10</th>\n      <th>100</th>\n    </tr>\n  </thead>\n  <tbody>\n    <tr>\n      <th>0.0</th>\n      <td>[]</td>\n      <td>[0.95]</td>\n      <td>[0.95]</td>\n      <td>[0.9375]</td>\n    </tr>\n    <tr>\n      <th>0.2</th>\n      <td>[0.6]</td>\n      <td>[0.95]</td>\n      <td>[1.0]</td>\n      <td>[0.9875]</td>\n    </tr>\n    <tr>\n      <th>0.6</th>\n      <td>[0.825]</td>\n      <td>[0.95]</td>\n      <td>[0.95]</td>\n      <td>[1.0]</td>\n    </tr>\n    <tr>\n      <th>1.0</th>\n      <td>[0.9875]</td>\n      <td>[0.9625]</td>\n      <td>[0.9875]</td>\n      <td>[1.0]</td>\n    </tr>\n  </tbody>\n</table>\n</div>"
     },
     "execution_count": 302,
     "metadata": {},
     "output_type": "execute_result"
    }
   ],
   "source": [
    "# Print table of the gini\n",
    "max_gini_value = 1 - 1/5\n",
    "gini = {\n",
    "    db: {eff: df[(df['we'] == 10) & (df['eff_rate'] == eff) & (df['db'] == db)][\"gini\"].to_numpy()/max_gini_value for eff in eff_keys} for db in db_keys\n",
    "}\n",
    "pd.DataFrame(gini)"
   ],
   "metadata": {
    "collapsed": false,
    "ExecuteTime": {
     "end_time": "2024-04-21T17:22:58.898264Z",
     "start_time": "2024-04-21T17:22:58.852881Z"
    }
   },
   "id": "4e555a49e2074b7b",
   "execution_count": 302
  },
  {
   "cell_type": "code",
   "outputs": [
    {
     "data": {
      "text/plain": "array([[array([], dtype=float64), array([0.19]), array([0.18]),\n        array([0.2])],\n       [array([0.49]), array([0.15]), array([0.02]), array([0.06])],\n       [array([0.36]), array([0.2]), array([0.19]), array([0.01])],\n       [array([0.11]), array([0.16]), array([0.1]), array([0.])]],\n      dtype=object)"
     },
     "execution_count": 303,
     "metadata": {},
     "output_type": "execute_result"
    }
   ],
   "source": [
    "# Print table of the hoover\n",
    "max_hoover_value = 1\n",
    "hoover = {\n",
    "    db: {eff: df[(df['we'] == 10) & (df['eff_rate'] == eff) & (df['db'] == db)][\"hoover\"].to_numpy() for eff in eff_keys} for db in db_keys\n",
    "}\n",
    "pd.DataFrame(hoover).to_numpy()"
   ],
   "metadata": {
    "collapsed": false,
    "ExecuteTime": {
     "end_time": "2024-04-21T17:22:58.934380Z",
     "start_time": "2024-04-21T17:22:58.900458Z"
    }
   },
   "id": "8e6eab00714c4a11",
   "execution_count": 303
  },
  {
   "cell_type": "code",
   "outputs": [
    {
     "name": "stdout",
     "output_type": "stream",
     "text": [
      "\\begin{tabular}{rlrrr}\n",
      "\\hline\n",
      "     & 0      &    1 &   10 &   100 \\\\\n",
      "\\hline\n",
      " 0   & []     & 0.18 & 0.18 &  0.2  \\\\\n",
      " 0.2 & [0.48] & 0.15 & 0.02 &  0.05 \\\\\n",
      " 0.6 & [0.35] & 0.2  & 0.19 &  0    \\\\\n",
      " 1   & [0.11] & 0.18 & 0.1  &  0    \\\\\n",
      "\\hline\n",
      "\\end{tabular}\n"
     ]
    }
   ],
   "source": [
    "import numpy as np\n",
    "from tabulate import tabulate\n",
    "\n",
    "gini = np.array([[np.array([], dtype=np.float64), np.array([0.18]), np.array([0.18]),\n",
    "        np.array([0.2])],\n",
    "       [np.array([0.48]), np.array([0.15]), np.array([0.02]), np.array([0.05])],\n",
    "       [np.array([0.35]), np.array([0.2]), np.array([0.19]), np.array([0.])],\n",
    "       [np.array([0.11]), np.array([0.18]), np.array([0.1]), np.array([0.])]],\n",
    "      dtype=object)\n",
    "\n",
    "def numpy_to_latex(array):    \n",
    "    latex_table = tabulate(array, tablefmt=\"latex_raw\", headers=db_keys, showindex=eff_keys)\n",
    "    return latex_table\n",
    "\n",
    "print(numpy_to_latex(gini))"
   ],
   "metadata": {
    "collapsed": false,
    "ExecuteTime": {
     "end_time": "2024-04-21T17:22:58.951053Z",
     "start_time": "2024-04-21T17:22:58.937341Z"
    }
   },
   "id": "864da4fe2aef19b6",
   "execution_count": 304
  },
  {
   "cell_type": "code",
   "outputs": [
    {
     "data": {
      "text/plain": "['Agent 0', 'Agent 1', 'Agent 2', 'Agent 3', 'Agent 4']"
     },
     "execution_count": 305,
     "metadata": {},
     "output_type": "execute_result"
    }
   ],
   "source": [
    "list(survival_rate_df.columns)"
   ],
   "metadata": {
    "collapsed": false,
    "ExecuteTime": {
     "end_time": "2024-04-21T17:22:58.962979Z",
     "start_time": "2024-04-21T17:22:58.953673Z"
    }
   },
   "id": "933098b3c95d0a",
   "execution_count": 305
  },
  {
   "cell_type": "code",
   "outputs": [
    {
     "name": "stdout",
     "output_type": "stream",
     "text": [
      "\\begin{tabular}{lrrrrr}\n",
      "\\hline\n",
      "            &   Agent 0 &   Agent 1 &   Agent 2 &   Agent 3 &   Agent 4 \\\\\n",
      "\\hline\n",
      " 0\\%, 0     &      0    &      0    &      0    &      0    &      0    \\\\\n",
      " 0\\%, 1     &      0.02 &      0.03 &      0.08 &      0.11 &      0.04 \\\\\n",
      " 0\\%, 10    &      0    &      0    &      0.01 &      0    &      0    \\\\\n",
      " 0\\%, 100   &      0    &      0    &      0.22 &      0.06 &      0.02 \\\\\n",
      " 20\\%, 0    &      0.88 &      0    &      0.06 &      0.07 &      0    \\\\\n",
      " 20\\%, 1    &      1    &      0.96 &      0.36 &      0.96 &      0.76 \\\\\n",
      " 20\\%, 10   &      1    &      0.94 &      0.95 &      0.94 &      0.93 \\\\\n",
      " 20\\%, 100  &      0.98 &      0.88 &      0.8  &      0.82 &      0.54 \\\\\n",
      " 60\\%, 0    &      0.97 &      0.84 &      0.89 &      0    &      0    \\\\\n",
      " 60\\%, 1    &      1    &      1    &      1    &      1    &      1    \\\\\n",
      " 60\\%, 10   &      1    &      1    &      1    &      1    &      1    \\\\\n",
      " 60\\%, 100  &      1    &      1    &      1    &      1    &      1    \\\\\n",
      " 100\\%, 0   &      1    &      0.98 &      0.99 &      1    &      1    \\\\\n",
      " 100\\%, 1   &      0.87 &      0.79 &      0.93 &      0.97 &      0.92 \\\\\n",
      " 100\\%, 10  &      1    &      1    &      1    &      1    &      1    \\\\\n",
      " 100\\%, 100 &      1    &      1    &      1    &      1    &      1    \\\\\n",
      "\\hline\n",
      "\\end{tabular}\n"
     ]
    }
   ],
   "source": [
    "tab = tabulate(survival_rate_df.to_numpy(), tablefmt=\"latex_raw\", headers=list(survival_rate_df.columns), showindex=list(survival_rate_df.index))\n",
    "print(tab)"
   ],
   "metadata": {
    "collapsed": false,
    "ExecuteTime": {
     "end_time": "2024-04-21T17:22:58.977085Z",
     "start_time": "2024-04-21T17:22:58.964994Z"
    }
   },
   "id": "dcdc919ebe355e21",
   "execution_count": 306
  },
  {
   "cell_type": "code",
   "outputs": [
    {
     "name": "stdout",
     "output_type": "stream",
     "text": [
      "\\begin{tabular}{rllll}\n",
      "\\hline\n",
      "     & 0        & 1        & 10       & 100      \\\\\n",
      "\\hline\n",
      " 0   & []\\%     & [5.4]\\%  & [0.4]\\%  & [6.]\\%   \\\\\n",
      " 0.2 & [20.4]\\% & [81.]\\%  & [95.2]\\% & [80.2]\\% \\\\\n",
      " 0.6 & [54.]\\%  & [100.]\\% & [99.8]\\% & [100.]\\% \\\\\n",
      " 1   & [99.4]\\% & [89.8]\\% & [100.]\\% & [100.]\\% \\\\\n",
      "\\hline\n",
      "\\end{tabular}\n"
     ]
    }
   ],
   "source": [
    "# Print table of n_survivors\n",
    "n_survivors_np = {\n",
    "    db: {eff: f\"{df[(df['we'] == 10) & (df['eff_rate'] == eff) & (df['db'] == db)]['n_survivors'].to_numpy() / 5 * 100}\\%\" for eff in eff_keys} for db in db_keys\n",
    "}\n",
    "pd.DataFrame(n_survivors_np)\n",
    "\n",
    "tab = tabulate(pd.DataFrame(n_survivors_np).to_numpy(), tablefmt=\"latex_raw\", headers=db_keys, showindex=eff_keys)\n",
    "print(tab)"
   ],
   "metadata": {
    "collapsed": false,
    "ExecuteTime": {
     "end_time": "2024-04-21T17:22:59.011871Z",
     "start_time": "2024-04-21T17:22:58.979282Z"
    }
   },
   "id": "f3a6d67839e69eb5",
   "execution_count": 307
  },
  {
   "cell_type": "code",
   "outputs": [
    {
     "name": "stdout",
     "output_type": "stream",
     "text": [
      "\\begin{tabular}{rrrr}\n",
      "\\hline\n",
      "   eff &   db &   eff_group &   uneff_group \\\\\n",
      "\\hline\n",
      "   0.2 &    0 &       35.82 &        nan    \\\\\n",
      "   0.2 &    1 &       33.08 &         79.51 \\\\\n",
      "   0.2 &   10 &       30.45 &         76.91 \\\\\n",
      "   0.2 &  100 &       32.62 &         76.22 \\\\\n",
      "   0.6 &    0 &       53.3  &        nan    \\\\\n",
      "   0.6 &    1 &       35.2  &         49.61 \\\\\n",
      "   0.6 &   10 &       36.21 &         49.52 \\\\\n",
      "   0.6 &  100 &       35.72 &         49.66 \\\\\n",
      "\\hline\n",
      "\\end{tabular}\n"
     ]
    }
   ],
   "source": [
    "# Print grouped time to survival as latex table\n",
    "tab = tabulate(grouped_time2survival_df.to_numpy().round(2), tablefmt=\"latex_raw\", headers=grouped_time2survival_df.columns, showindex=False)\n",
    "print(tab)"
   ],
   "metadata": {
    "collapsed": false,
    "ExecuteTime": {
     "end_time": "2024-04-21T18:08:31.955116Z",
     "start_time": "2024-04-21T18:08:31.946629Z"
    }
   },
   "id": "cec594e29df7901c",
   "execution_count": 352
  },
  {
   "cell_type": "code",
   "outputs": [
    {
     "name": "stdout",
     "output_type": "stream",
     "text": [
      "\\begin{tabular}{rrrrr}\n",
      "\\hline\n",
      "     &    0 &       1 &      10 &     100 \\\\\n",
      "\\hline\n",
      " 0   & -inf & -inf    & -inf    & -inf    \\\\\n",
      " 0.2 & -inf &    1.66 &    1.55 &    1.69 \\\\\n",
      " 0.6 & -inf &    4.1  &    3.35 &    2.85 \\\\\n",
      " 1   & -inf & -inf    &    7.56 &    4.61 \\\\\n",
      "\\hline\n",
      "\\end{tabular}\n"
     ]
    }
   ],
   "source": [
    "# Print wes\n",
    "tab = tabulate(wes_df.to_numpy().round(2), tablefmt=\"latex_raw\", headers=wes_df.columns, showindex=eff_keys)\n",
    "print(tab)"
   ],
   "metadata": {
    "collapsed": false,
    "ExecuteTime": {
     "end_time": "2024-04-21T17:22:59.042070Z",
     "start_time": "2024-04-21T17:22:59.028789Z"
    }
   },
   "id": "e28266d4b4cfaa34",
   "execution_count": 309
  },
  {
   "cell_type": "code",
   "outputs": [
    {
     "name": "stdout",
     "output_type": "stream",
     "text": [
      "0\\% & 0.00\\% & 0.00\\% & 0.44\\% & 0.00\\% & 0.00\\% & 0.00\\% & 0.58\\% & 0.00\\% \\\\\n",
      "20\\% & 0.00\\% & 0.24\\% & 0.72\\% & 0.00\\% & 0.32\\% & 0.00\\% & 6.73\\% & 0.00\\% \\\\\n",
      "60\\% & 0.00\\% & 0.10\\% & 0.13\\% & 0.00\\% & 0.43\\% & 0.00\\% & 0.09\\% & 0.00\\% \\\\\n",
      "100\\% & 0.00\\% & 0.00\\% & 35.02\\% & 0.00\\% & 0.48\\% & 0.00\\% & 0.08\\% & 0.00\\% \\\\\n"
     ]
    }
   ],
   "source": [
    "events = [\"did_not_donate\", \"greedy\"]\n",
    "# Build table with number of actions for each event separated by reference policies\n",
    "unethical_actions = np.zeros((4, 4, 2))\n",
    "for i in range(len(df_numpy)):\n",
    "    eff = df_numpy[i][1]\n",
    "    db = df_numpy[i][0]\n",
    "    for j, event in enumerate(events):\n",
    "        unethical_actions[eff_keys.index(eff), db_keys.index(db), j] = df_numpy[i][j+38]\n",
    "unethical_actions = unethical_actions * 100 / 500  \n",
    "unethical_actions = np.round(unethical_actions, 2)\n",
    "# Print latex rows as eff, (did_not_donate, greedy) for each db\n",
    "for i in range(4):\n",
    "    s = f\"{int(eff_keys[i]*100)}\\% & \"\n",
    "    for j in range(4):\n",
    "        s += \"{:.2f}\\% & {:.2f}\\% & \".format(unethical_actions[i, j, 0], unethical_actions[i, j, 1])\n",
    "    print(s[:-2] + \"\\\\\\\\\")\n"
   ],
   "metadata": {
    "collapsed": false,
    "ExecuteTime": {
     "end_time": "2024-04-21T17:44:45.632901Z",
     "start_time": "2024-04-21T17:44:45.625446Z"
    }
   },
   "id": "a23d980724876e5d",
   "execution_count": 350
  }
 ],
 "metadata": {
  "kernelspec": {
   "display_name": "Python 3",
   "language": "python",
   "name": "python3"
  },
  "language_info": {
   "codemirror_mode": {
    "name": "ipython",
    "version": 2
   },
   "file_extension": ".py",
   "mimetype": "text/x-python",
   "name": "python",
   "nbconvert_exporter": "python",
   "pygments_lexer": "ipython2",
   "version": "2.7.6"
  }
 },
 "nbformat": 4,
 "nbformat_minor": 5
}
