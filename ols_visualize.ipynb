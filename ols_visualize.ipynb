{
 "cells": [
  {
   "cell_type": "code",
   "execution_count": 1,
   "id": "initial_id",
   "metadata": {
    "collapsed": true,
    "ExecuteTime": {
     "end_time": "2024-05-23T08:31:31.813089144Z",
     "start_time": "2024-05-23T08:31:31.725235938Z"
    }
   },
   "outputs": [],
   "source": [
    "import numpy as np"
   ]
  },
  {
   "cell_type": "code",
   "outputs": [],
   "source": [
    "import numpy as np\n",
    "import matplotlib.pyplot as plt\n",
    "import matplotlib\n",
    "# %matplotlib tk\n",
    "we_keys = [0, 10, -1]\n",
    "eff_keys = [0, 0.2, 0.6, 1]\n",
    "db_keys = [0, 1, 10, 100]\n"
   ],
   "metadata": {
    "collapsed": false,
    "ExecuteTime": {
     "end_time": "2024-05-23T08:31:32.054770882Z",
     "start_time": "2024-05-23T08:31:31.854745813Z"
    }
   },
   "id": "cfa30624cc284ec7",
   "execution_count": 2
  },
  {
   "cell_type": "code",
   "outputs": [],
   "source": [],
   "metadata": {
    "collapsed": false,
    "ExecuteTime": {
     "end_time": "2024-05-23T08:31:32.061547514Z",
     "start_time": "2024-05-23T08:31:32.055748965Z"
    }
   },
   "id": "62ba699cc5fe609a",
   "execution_count": 2
  },
  {
   "cell_type": "code",
   "outputs": [
    {
     "ename": "FileNotFoundError",
     "evalue": "[Errno 2] No such file or directory: 'EGG_DATA/report.csv'",
     "output_type": "error",
     "traceback": [
      "\u001B[0;31m---------------------------------------------------------------------------\u001B[0m",
      "\u001B[0;31mFileNotFoundError\u001B[0m                         Traceback (most recent call last)",
      "Cell \u001B[0;32mIn[3], line 4\u001B[0m\n\u001B[1;32m      1\u001B[0m \u001B[38;5;28;01mimport\u001B[39;00m \u001B[38;5;21;01mpandas\u001B[39;00m \u001B[38;5;28;01mas\u001B[39;00m \u001B[38;5;21;01mpd\u001B[39;00m\n\u001B[1;32m      3\u001B[0m \u001B[38;5;66;03m# Dataframe from csv\u001B[39;00m\n\u001B[0;32m----> 4\u001B[0m df \u001B[38;5;241m=\u001B[39m \u001B[43mpd\u001B[49m\u001B[38;5;241;43m.\u001B[39;49m\u001B[43mread_csv\u001B[49m\u001B[43m(\u001B[49m\u001B[38;5;124;43m\"\u001B[39;49m\u001B[38;5;124;43mEGG_DATA/report.csv\u001B[39;49m\u001B[38;5;124;43m\"\u001B[39;49m\u001B[43m)\u001B[49m\n\u001B[1;32m      5\u001B[0m df[\u001B[38;5;124m\"\u001B[39m\u001B[38;5;124mdir\u001B[39m\u001B[38;5;124m\"\u001B[39m] \u001B[38;5;241m=\u001B[39m df[\u001B[38;5;124m\"\u001B[39m\u001B[38;5;124mdir\u001B[39m\u001B[38;5;124m\"\u001B[39m]\u001B[38;5;241m.\u001B[39mapply(\u001B[38;5;28;01mlambda\u001B[39;00m x: \u001B[38;5;28mint\u001B[39m(x))\n\u001B[1;32m      6\u001B[0m \u001B[38;5;66;03m# Time to survival -1 to inf\u001B[39;00m\n",
      "File \u001B[0;32m~/.conda/envs/MAEGG_IPPO/lib/python3.11/site-packages/pandas/io/parsers/readers.py:1026\u001B[0m, in \u001B[0;36mread_csv\u001B[0;34m(filepath_or_buffer, sep, delimiter, header, names, index_col, usecols, dtype, engine, converters, true_values, false_values, skipinitialspace, skiprows, skipfooter, nrows, na_values, keep_default_na, na_filter, verbose, skip_blank_lines, parse_dates, infer_datetime_format, keep_date_col, date_parser, date_format, dayfirst, cache_dates, iterator, chunksize, compression, thousands, decimal, lineterminator, quotechar, quoting, doublequote, escapechar, comment, encoding, encoding_errors, dialect, on_bad_lines, delim_whitespace, low_memory, memory_map, float_precision, storage_options, dtype_backend)\u001B[0m\n\u001B[1;32m   1013\u001B[0m kwds_defaults \u001B[38;5;241m=\u001B[39m _refine_defaults_read(\n\u001B[1;32m   1014\u001B[0m     dialect,\n\u001B[1;32m   1015\u001B[0m     delimiter,\n\u001B[0;32m   (...)\u001B[0m\n\u001B[1;32m   1022\u001B[0m     dtype_backend\u001B[38;5;241m=\u001B[39mdtype_backend,\n\u001B[1;32m   1023\u001B[0m )\n\u001B[1;32m   1024\u001B[0m kwds\u001B[38;5;241m.\u001B[39mupdate(kwds_defaults)\n\u001B[0;32m-> 1026\u001B[0m \u001B[38;5;28;01mreturn\u001B[39;00m \u001B[43m_read\u001B[49m\u001B[43m(\u001B[49m\u001B[43mfilepath_or_buffer\u001B[49m\u001B[43m,\u001B[49m\u001B[43m \u001B[49m\u001B[43mkwds\u001B[49m\u001B[43m)\u001B[49m\n",
      "File \u001B[0;32m~/.conda/envs/MAEGG_IPPO/lib/python3.11/site-packages/pandas/io/parsers/readers.py:620\u001B[0m, in \u001B[0;36m_read\u001B[0;34m(filepath_or_buffer, kwds)\u001B[0m\n\u001B[1;32m    617\u001B[0m _validate_names(kwds\u001B[38;5;241m.\u001B[39mget(\u001B[38;5;124m\"\u001B[39m\u001B[38;5;124mnames\u001B[39m\u001B[38;5;124m\"\u001B[39m, \u001B[38;5;28;01mNone\u001B[39;00m))\n\u001B[1;32m    619\u001B[0m \u001B[38;5;66;03m# Create the parser.\u001B[39;00m\n\u001B[0;32m--> 620\u001B[0m parser \u001B[38;5;241m=\u001B[39m \u001B[43mTextFileReader\u001B[49m\u001B[43m(\u001B[49m\u001B[43mfilepath_or_buffer\u001B[49m\u001B[43m,\u001B[49m\u001B[43m \u001B[49m\u001B[38;5;241;43m*\u001B[39;49m\u001B[38;5;241;43m*\u001B[39;49m\u001B[43mkwds\u001B[49m\u001B[43m)\u001B[49m\n\u001B[1;32m    622\u001B[0m \u001B[38;5;28;01mif\u001B[39;00m chunksize \u001B[38;5;129;01mor\u001B[39;00m iterator:\n\u001B[1;32m    623\u001B[0m     \u001B[38;5;28;01mreturn\u001B[39;00m parser\n",
      "File \u001B[0;32m~/.conda/envs/MAEGG_IPPO/lib/python3.11/site-packages/pandas/io/parsers/readers.py:1620\u001B[0m, in \u001B[0;36mTextFileReader.__init__\u001B[0;34m(self, f, engine, **kwds)\u001B[0m\n\u001B[1;32m   1617\u001B[0m     \u001B[38;5;28mself\u001B[39m\u001B[38;5;241m.\u001B[39moptions[\u001B[38;5;124m\"\u001B[39m\u001B[38;5;124mhas_index_names\u001B[39m\u001B[38;5;124m\"\u001B[39m] \u001B[38;5;241m=\u001B[39m kwds[\u001B[38;5;124m\"\u001B[39m\u001B[38;5;124mhas_index_names\u001B[39m\u001B[38;5;124m\"\u001B[39m]\n\u001B[1;32m   1619\u001B[0m \u001B[38;5;28mself\u001B[39m\u001B[38;5;241m.\u001B[39mhandles: IOHandles \u001B[38;5;241m|\u001B[39m \u001B[38;5;28;01mNone\u001B[39;00m \u001B[38;5;241m=\u001B[39m \u001B[38;5;28;01mNone\u001B[39;00m\n\u001B[0;32m-> 1620\u001B[0m \u001B[38;5;28mself\u001B[39m\u001B[38;5;241m.\u001B[39m_engine \u001B[38;5;241m=\u001B[39m \u001B[38;5;28;43mself\u001B[39;49m\u001B[38;5;241;43m.\u001B[39;49m\u001B[43m_make_engine\u001B[49m\u001B[43m(\u001B[49m\u001B[43mf\u001B[49m\u001B[43m,\u001B[49m\u001B[43m \u001B[49m\u001B[38;5;28;43mself\u001B[39;49m\u001B[38;5;241;43m.\u001B[39;49m\u001B[43mengine\u001B[49m\u001B[43m)\u001B[49m\n",
      "File \u001B[0;32m~/.conda/envs/MAEGG_IPPO/lib/python3.11/site-packages/pandas/io/parsers/readers.py:1880\u001B[0m, in \u001B[0;36mTextFileReader._make_engine\u001B[0;34m(self, f, engine)\u001B[0m\n\u001B[1;32m   1878\u001B[0m     \u001B[38;5;28;01mif\u001B[39;00m \u001B[38;5;124m\"\u001B[39m\u001B[38;5;124mb\u001B[39m\u001B[38;5;124m\"\u001B[39m \u001B[38;5;129;01mnot\u001B[39;00m \u001B[38;5;129;01min\u001B[39;00m mode:\n\u001B[1;32m   1879\u001B[0m         mode \u001B[38;5;241m+\u001B[39m\u001B[38;5;241m=\u001B[39m \u001B[38;5;124m\"\u001B[39m\u001B[38;5;124mb\u001B[39m\u001B[38;5;124m\"\u001B[39m\n\u001B[0;32m-> 1880\u001B[0m \u001B[38;5;28mself\u001B[39m\u001B[38;5;241m.\u001B[39mhandles \u001B[38;5;241m=\u001B[39m \u001B[43mget_handle\u001B[49m\u001B[43m(\u001B[49m\n\u001B[1;32m   1881\u001B[0m \u001B[43m    \u001B[49m\u001B[43mf\u001B[49m\u001B[43m,\u001B[49m\n\u001B[1;32m   1882\u001B[0m \u001B[43m    \u001B[49m\u001B[43mmode\u001B[49m\u001B[43m,\u001B[49m\n\u001B[1;32m   1883\u001B[0m \u001B[43m    \u001B[49m\u001B[43mencoding\u001B[49m\u001B[38;5;241;43m=\u001B[39;49m\u001B[38;5;28;43mself\u001B[39;49m\u001B[38;5;241;43m.\u001B[39;49m\u001B[43moptions\u001B[49m\u001B[38;5;241;43m.\u001B[39;49m\u001B[43mget\u001B[49m\u001B[43m(\u001B[49m\u001B[38;5;124;43m\"\u001B[39;49m\u001B[38;5;124;43mencoding\u001B[39;49m\u001B[38;5;124;43m\"\u001B[39;49m\u001B[43m,\u001B[49m\u001B[43m \u001B[49m\u001B[38;5;28;43;01mNone\u001B[39;49;00m\u001B[43m)\u001B[49m\u001B[43m,\u001B[49m\n\u001B[1;32m   1884\u001B[0m \u001B[43m    \u001B[49m\u001B[43mcompression\u001B[49m\u001B[38;5;241;43m=\u001B[39;49m\u001B[38;5;28;43mself\u001B[39;49m\u001B[38;5;241;43m.\u001B[39;49m\u001B[43moptions\u001B[49m\u001B[38;5;241;43m.\u001B[39;49m\u001B[43mget\u001B[49m\u001B[43m(\u001B[49m\u001B[38;5;124;43m\"\u001B[39;49m\u001B[38;5;124;43mcompression\u001B[39;49m\u001B[38;5;124;43m\"\u001B[39;49m\u001B[43m,\u001B[49m\u001B[43m \u001B[49m\u001B[38;5;28;43;01mNone\u001B[39;49;00m\u001B[43m)\u001B[49m\u001B[43m,\u001B[49m\n\u001B[1;32m   1885\u001B[0m \u001B[43m    \u001B[49m\u001B[43mmemory_map\u001B[49m\u001B[38;5;241;43m=\u001B[39;49m\u001B[38;5;28;43mself\u001B[39;49m\u001B[38;5;241;43m.\u001B[39;49m\u001B[43moptions\u001B[49m\u001B[38;5;241;43m.\u001B[39;49m\u001B[43mget\u001B[49m\u001B[43m(\u001B[49m\u001B[38;5;124;43m\"\u001B[39;49m\u001B[38;5;124;43mmemory_map\u001B[39;49m\u001B[38;5;124;43m\"\u001B[39;49m\u001B[43m,\u001B[49m\u001B[43m \u001B[49m\u001B[38;5;28;43;01mFalse\u001B[39;49;00m\u001B[43m)\u001B[49m\u001B[43m,\u001B[49m\n\u001B[1;32m   1886\u001B[0m \u001B[43m    \u001B[49m\u001B[43mis_text\u001B[49m\u001B[38;5;241;43m=\u001B[39;49m\u001B[43mis_text\u001B[49m\u001B[43m,\u001B[49m\n\u001B[1;32m   1887\u001B[0m \u001B[43m    \u001B[49m\u001B[43merrors\u001B[49m\u001B[38;5;241;43m=\u001B[39;49m\u001B[38;5;28;43mself\u001B[39;49m\u001B[38;5;241;43m.\u001B[39;49m\u001B[43moptions\u001B[49m\u001B[38;5;241;43m.\u001B[39;49m\u001B[43mget\u001B[49m\u001B[43m(\u001B[49m\u001B[38;5;124;43m\"\u001B[39;49m\u001B[38;5;124;43mencoding_errors\u001B[39;49m\u001B[38;5;124;43m\"\u001B[39;49m\u001B[43m,\u001B[49m\u001B[43m \u001B[49m\u001B[38;5;124;43m\"\u001B[39;49m\u001B[38;5;124;43mstrict\u001B[39;49m\u001B[38;5;124;43m\"\u001B[39;49m\u001B[43m)\u001B[49m\u001B[43m,\u001B[49m\n\u001B[1;32m   1888\u001B[0m \u001B[43m    \u001B[49m\u001B[43mstorage_options\u001B[49m\u001B[38;5;241;43m=\u001B[39;49m\u001B[38;5;28;43mself\u001B[39;49m\u001B[38;5;241;43m.\u001B[39;49m\u001B[43moptions\u001B[49m\u001B[38;5;241;43m.\u001B[39;49m\u001B[43mget\u001B[49m\u001B[43m(\u001B[49m\u001B[38;5;124;43m\"\u001B[39;49m\u001B[38;5;124;43mstorage_options\u001B[39;49m\u001B[38;5;124;43m\"\u001B[39;49m\u001B[43m,\u001B[49m\u001B[43m \u001B[49m\u001B[38;5;28;43;01mNone\u001B[39;49;00m\u001B[43m)\u001B[49m\u001B[43m,\u001B[49m\n\u001B[1;32m   1889\u001B[0m \u001B[43m\u001B[49m\u001B[43m)\u001B[49m\n\u001B[1;32m   1890\u001B[0m \u001B[38;5;28;01massert\u001B[39;00m \u001B[38;5;28mself\u001B[39m\u001B[38;5;241m.\u001B[39mhandles \u001B[38;5;129;01mis\u001B[39;00m \u001B[38;5;129;01mnot\u001B[39;00m \u001B[38;5;28;01mNone\u001B[39;00m\n\u001B[1;32m   1891\u001B[0m f \u001B[38;5;241m=\u001B[39m \u001B[38;5;28mself\u001B[39m\u001B[38;5;241m.\u001B[39mhandles\u001B[38;5;241m.\u001B[39mhandle\n",
      "File \u001B[0;32m~/.conda/envs/MAEGG_IPPO/lib/python3.11/site-packages/pandas/io/common.py:873\u001B[0m, in \u001B[0;36mget_handle\u001B[0;34m(path_or_buf, mode, encoding, compression, memory_map, is_text, errors, storage_options)\u001B[0m\n\u001B[1;32m    868\u001B[0m \u001B[38;5;28;01melif\u001B[39;00m \u001B[38;5;28misinstance\u001B[39m(handle, \u001B[38;5;28mstr\u001B[39m):\n\u001B[1;32m    869\u001B[0m     \u001B[38;5;66;03m# Check whether the filename is to be opened in binary mode.\u001B[39;00m\n\u001B[1;32m    870\u001B[0m     \u001B[38;5;66;03m# Binary mode does not support 'encoding' and 'newline'.\u001B[39;00m\n\u001B[1;32m    871\u001B[0m     \u001B[38;5;28;01mif\u001B[39;00m ioargs\u001B[38;5;241m.\u001B[39mencoding \u001B[38;5;129;01mand\u001B[39;00m \u001B[38;5;124m\"\u001B[39m\u001B[38;5;124mb\u001B[39m\u001B[38;5;124m\"\u001B[39m \u001B[38;5;129;01mnot\u001B[39;00m \u001B[38;5;129;01min\u001B[39;00m ioargs\u001B[38;5;241m.\u001B[39mmode:\n\u001B[1;32m    872\u001B[0m         \u001B[38;5;66;03m# Encoding\u001B[39;00m\n\u001B[0;32m--> 873\u001B[0m         handle \u001B[38;5;241m=\u001B[39m \u001B[38;5;28;43mopen\u001B[39;49m\u001B[43m(\u001B[49m\n\u001B[1;32m    874\u001B[0m \u001B[43m            \u001B[49m\u001B[43mhandle\u001B[49m\u001B[43m,\u001B[49m\n\u001B[1;32m    875\u001B[0m \u001B[43m            \u001B[49m\u001B[43mioargs\u001B[49m\u001B[38;5;241;43m.\u001B[39;49m\u001B[43mmode\u001B[49m\u001B[43m,\u001B[49m\n\u001B[1;32m    876\u001B[0m \u001B[43m            \u001B[49m\u001B[43mencoding\u001B[49m\u001B[38;5;241;43m=\u001B[39;49m\u001B[43mioargs\u001B[49m\u001B[38;5;241;43m.\u001B[39;49m\u001B[43mencoding\u001B[49m\u001B[43m,\u001B[49m\n\u001B[1;32m    877\u001B[0m \u001B[43m            \u001B[49m\u001B[43merrors\u001B[49m\u001B[38;5;241;43m=\u001B[39;49m\u001B[43merrors\u001B[49m\u001B[43m,\u001B[49m\n\u001B[1;32m    878\u001B[0m \u001B[43m            \u001B[49m\u001B[43mnewline\u001B[49m\u001B[38;5;241;43m=\u001B[39;49m\u001B[38;5;124;43m\"\u001B[39;49m\u001B[38;5;124;43m\"\u001B[39;49m\u001B[43m,\u001B[49m\n\u001B[1;32m    879\u001B[0m \u001B[43m        \u001B[49m\u001B[43m)\u001B[49m\n\u001B[1;32m    880\u001B[0m     \u001B[38;5;28;01melse\u001B[39;00m:\n\u001B[1;32m    881\u001B[0m         \u001B[38;5;66;03m# Binary mode\u001B[39;00m\n\u001B[1;32m    882\u001B[0m         handle \u001B[38;5;241m=\u001B[39m \u001B[38;5;28mopen\u001B[39m(handle, ioargs\u001B[38;5;241m.\u001B[39mmode)\n",
      "\u001B[0;31mFileNotFoundError\u001B[0m: [Errno 2] No such file or directory: 'EGG_DATA/report.csv'"
     ]
    }
   ],
   "source": [
    "import pandas as pd\n",
    "\n",
    "# Dataframe from csv\n",
    "df = pd.read_csv(\"EGG_DATA/report.csv\")\n",
    "df[\"dir\"] = df[\"dir\"].apply(lambda x: int(x))\n",
    "# Time to survival -1 to inf\n",
    "for i in range(5):\n",
    "    df[f\"time_to_survival_agent_{i}\"] = df[f\"time_to_survival_agent_{i}\"].apply(lambda x: np.infty if x == -1 else x)\n",
    "    df[f\"time_to_survival_agent_sd{i}\"] = df[f\"time_to_survival_agent_sd{i}\"].apply(lambda x: np.infty if x == -1 else x)\n",
    "\n",
    "df.info()"
   ],
   "metadata": {
    "collapsed": false,
    "ExecuteTime": {
     "end_time": "2024-05-23T08:31:32.477011084Z",
     "start_time": "2024-05-23T08:31:32.059522187Z"
    }
   },
   "id": "4ad2509e7ce2a09f",
   "execution_count": 3
  },
  {
   "cell_type": "code",
   "outputs": [],
   "source": [
    "# Pretty print table with eff, db, we and dir\n",
    "df[[\"eff_rate\", \"db\", \"we\", \"dir\"]]"
   ],
   "metadata": {
    "collapsed": false,
    "ExecuteTime": {
     "end_time": "2024-05-23T08:31:32.486467378Z",
     "start_time": "2024-05-23T08:31:32.478859667Z"
    }
   },
   "id": "fabf8797da977c2b",
   "execution_count": null
  },
  {
   "cell_type": "code",
   "outputs": [],
   "source": [
    "df_numpy = df.to_numpy()\n",
    "\n",
    "# Reference policies: we = 10\n",
    "ref_policies_values = {\n",
    "    eff: {db: np.zeros((5,2)) for db in db_keys} for eff in eff_keys\n",
    "}\n",
    "ref_policies_np = df_numpy[df_numpy[:, 2] == 10]\n",
    "\n",
    "for i in range(len(ref_policies_np)):\n",
    "    eff = ref_policies_np[i][1]\n",
    "    db = ref_policies_np[i][0]\n",
    "    ref_policies_values[eff][db] = np.hstack([ref_policies_np[i][10:15].reshape((5,1)), ref_policies_np[i][15:20].reshape((5,1)) ])\n",
    "\n",
    "ref_policies_values[0.6][1] = np.array([[-1.3750e+02,  7.3400e+00],[-1.3025e+02,  5.2600e+00],[-1.3400e+02,  7.1700e+00],[-2.5138e+02,  1.0000e-02],[-2.4075e+02,  3.0000e-02]])   \n",
    "\n",
    "ref_policies_values[0.2][1]"
   ],
   "metadata": {
    "collapsed": false,
    "ExecuteTime": {
     "end_time": "2024-05-23T08:31:32.495657457Z",
     "start_time": "2024-05-23T08:31:32.490306885Z"
    }
   },
   "id": "ac74feec0f5694ba",
   "execution_count": null
  },
  {
   "cell_type": "code",
   "outputs": [],
   "source": [
    "ref_policies_values[0.6][1]"
   ],
   "metadata": {
    "collapsed": false,
    "ExecuteTime": {
     "start_time": "2024-05-23T08:31:32.490654761Z"
    }
   },
   "id": "a8dba748ce57270a",
   "execution_count": null
  },
  {
   "cell_type": "code",
   "outputs": [],
   "source": [
    "unet_policies_values = {\n",
    "    eff: np.zeros((5,2)) for eff in eff_keys\n",
    "}\n",
    "\n",
    "unet_policies_np = df_numpy[df_numpy[:, 2] == 0]\n",
    "for i in range(len(unet_policies_np)):\n",
    "    eff = unet_policies_np[i][1]\n",
    "    unet_policies_values[eff] = np.hstack([unet_policies_np[i][10:15].reshape((5,1)), unet_policies_np[i][15:20].reshape((5,1)) ])\n",
    "unet_policies_values[0] = ref_policies_values[0][0]\n",
    "unet_policies_values[1] = ref_policies_values[1][0]\n",
    "unet_policies_values[0.6]"
   ],
   "metadata": {
    "collapsed": false,
    "ExecuteTime": {
     "start_time": "2024-05-23T08:31:32.490930317Z"
    }
   },
   "id": "1ff35c9371aac531",
   "execution_count": null
  },
  {
   "cell_type": "code",
   "outputs": [],
   "source": [
    "# Function to get the intersection of two lines represented as f(we) = v0 + we*ve for a two given fixed sets of (v0, ve)\n",
    "def get_intersection(v01, ve1, v02, ve2):\n",
    "    if ve1 == ve2:\n",
    "        return 0\n",
    "    we = (v01 - v02) / (ve2 - ve1)\n",
    "    return we\n",
    "# get_intersection(mo_value_w10[2][0], mo_value_w10[2][1], mo_value_w0[2][0], mo_value_w0[2][1])"
   ],
   "metadata": {
    "collapsed": false,
    "ExecuteTime": {
     "start_time": "2024-05-23T08:31:32.491217327Z"
    }
   },
   "id": "2c57669031cb4133",
   "execution_count": null
  },
  {
   "cell_type": "code",
   "outputs": [],
   "source": [
    "# Plot values as function of weight w that scales the reward\n",
    "fig, axs = plt.subplots(1, 5, figsize=(25, 5)) \n",
    "step = 0.1\n",
    "# for ag in mo_value_w10:\n",
    "max_weight = 10\n",
    "# Subplot for each agent\n",
    "x = np.arange(0, max_weight, step)\n",
    "w = np.array([np.ones(int(max_weight/step)), np.arange(0, max_weight, step)])\n",
    "\n",
    "setting = {\"eff\": 0.6, \"db\": 1}\n",
    "for ag in range(5):\n",
    "    axs[ag].set_title(\"MO Value Function\")\n",
    "    ref = ref_policies_values[setting[\"eff\"]][setting[\"db\"]]\n",
    "    unet = unet_policies_values[setting[\"eff\"]]\n",
    "    axs[ag].plot(x, np.dot(unet[ag], w), c=\"blue\")\n",
    "    axs[ag].plot(x, np.dot(ref[ag], w), c=\"green\")\n",
    "    \n",
    "wes = []\n",
    "for ag in range(5):\n",
    "    # Print intersecctions\n",
    "    p1 = unet_policies_values[setting[\"eff\"]][ag]\n",
    "    p2 = ref_policies_values[setting[\"eff\"]][setting[\"db\"]][ag]\n",
    "    inter = get_intersection(p1[0], p1[1], p2[0], p2[1])\n",
    "    print(inter)\n",
    "    wes.append(inter)\n",
    "plt.show()"
   ],
   "metadata": {
    "collapsed": false,
    "ExecuteTime": {
     "start_time": "2024-05-23T08:31:32.491483439Z"
    }
   },
   "id": "8985ba4013bb41c4",
   "execution_count": null
  },
  {
   "cell_type": "code",
   "outputs": [],
   "source": [
    "print(ref_policies_values[0.6][0][0:3])\n",
    "print(ref_policies_values[0.6][1][0:3])\n",
    "print(ref_policies_values[0.6][10][0:3])\n",
    "print(ref_policies_values[0.6][100][0:3])"
   ],
   "metadata": {
    "collapsed": false,
    "ExecuteTime": {
     "start_time": "2024-05-23T08:31:32.491749463Z"
    }
   },
   "id": "554dccfe6f6a72b3",
   "execution_count": null
  },
  {
   "cell_type": "code",
   "outputs": [],
   "source": [
    "def compute_wes_prima(eff, db):\n",
    "    def aggregation_function(wes, method=\"median\"):\n",
    "        # cut to interval 1-10 else return -inf\n",
    "        wes = [w for w in wes if w >= 1 and w <= 10]\n",
    "        if len(wes) == 0:\n",
    "            return -np.infty\n",
    "        if method == \"median\":\n",
    "            return np.median(wes)\n",
    "        if method == \"mean\":\n",
    "            return np.mean(wes)\n",
    "        if method == \"max\":\n",
    "            return np.max(wes)\n",
    "        if method == \"min\":\n",
    "            return np.min(wes)\n",
    "    wes_prima = []\n",
    "    for ag in range(5):\n",
    "        # Print intersecctions\n",
    "        p1 = unet_policies_values[eff][ag]\n",
    "        p2 = ref_policies_values[eff][db][ag]\n",
    "        inter = get_intersection(p1[0], p1[1], p2[0], p2[1])\n",
    "        wes_prima.append(inter)\n",
    "    return aggregation_function(wes_prima, method=\"median\")\n",
    "\n",
    "# Create table of WES' for each eff (from 0.2, 0.6, 1) and db (from 0, 1, 10, 100) \n",
    "wes_prima = {\n",
    "    db: {eff: compute_wes_prima(eff, db) for eff in eff_keys} for db in db_keys\n",
    "}\n",
    "# pretty print as dataframe\n",
    "pd.DataFrame(wes_prima)"
   ],
   "metadata": {
    "collapsed": false,
    "ExecuteTime": {
     "start_time": "2024-05-23T08:31:32.492023240Z"
    }
   },
   "id": "99e1f8695929a0ff",
   "execution_count": null
  },
  {
   "cell_type": "code",
   "outputs": [],
   "source": [
    "time2survival_np = ref_policies_np[:, 20:25]\n",
    "time2survival_std_np = ref_policies_np[:, 25:30]\n",
    "# Create a string with the mean and std of the time to survival for each agent\n",
    "mean_std_time2survival = {(eff, db): [] for eff in eff_keys for db in db_keys}\n",
    "for i in range(len(time2survival_np)):\n",
    "    eff = ref_policies_np[i][1]\n",
    "    db = ref_policies_np[i][0]\n",
    "    for ag in range(5):\n",
    "        mean_std_time2survival[eff, db].append(f\"{time2survival_np[i][ag]:.2f} ± {time2survival_std_np[i][ag]:.2f}\")\n",
    "# pretty print as dataframe\n",
    "mean_std_time2survival[0, 10]"
   ],
   "metadata": {
    "collapsed": false,
    "ExecuteTime": {
     "start_time": "2024-05-23T08:31:32.492241334Z"
    }
   },
   "id": "196d9f4057f68132",
   "execution_count": null
  },
  {
   "cell_type": "code",
   "outputs": [],
   "source": [
    "# Print table of the gini\n",
    "max_gini_value = 1 - 1/5\n",
    "gini = {\n",
    "    db: {eff: df[(df['we'] == 10) & (df['eff_rate'] == eff) & (df['db'] == db)][\"gini\"].to_numpy()/max_gini_value for eff in eff_keys} for db in db_keys\n",
    "}\n",
    "pd.DataFrame(gini)"
   ],
   "metadata": {
    "collapsed": false,
    "ExecuteTime": {
     "start_time": "2024-05-23T08:31:32.492451834Z"
    }
   },
   "id": "4e555a49e2074b7b",
   "execution_count": null
  },
  {
   "cell_type": "code",
   "outputs": [],
   "source": [
    "# Print table of the hoover\n",
    "max_hoover_value = 1\n",
    "hoover = {\n",
    "    db: {eff: df[(df['we'] == 10) & (df['eff_rate'] == eff) & (df['db'] == db)][\"hoover\"].to_numpy() for eff in eff_keys} for db in db_keys\n",
    "}\n",
    "pd.DataFrame(hoover).to_numpy()"
   ],
   "metadata": {
    "collapsed": false,
    "ExecuteTime": {
     "start_time": "2024-05-23T08:31:32.501293871Z"
    }
   },
   "id": "8e6eab00714c4a11",
   "execution_count": null
  },
  {
   "cell_type": "code",
   "outputs": [],
   "source": [
    "import numpy as np\n",
    "from tabulate import tabulate\n",
    "\n",
    "gini = np.array([[np.array([], dtype=np.float64), np.array([0.18]), np.array([0.18]),\n",
    "        np.array([0.2])],\n",
    "       [np.array([0.48]), np.array([0.15]), np.array([0.02]), np.array([0.05])],\n",
    "       [np.array([0.35]), np.array([0.2]), np.array([0.19]), np.array([0.])],\n",
    "       [np.array([0.11]), np.array([0.18]), np.array([0.1]), np.array([0.])]],\n",
    "      dtype=object)\n",
    "\n",
    "def numpy_to_latex(array):    \n",
    "    latex_table = tabulate(array, tablefmt=\"latex_raw\", headers=db_keys, showindex=eff_keys)\n",
    "    return latex_table\n",
    "\n",
    "print(numpy_to_latex(gini))"
   ],
   "metadata": {
    "collapsed": false,
    "ExecuteTime": {
     "start_time": "2024-05-23T08:31:32.501553048Z"
    }
   },
   "id": "864da4fe2aef19b6",
   "execution_count": null
  }
 ],
 "metadata": {
  "kernelspec": {
   "display_name": "Python 3",
   "language": "python",
   "name": "python3"
  },
  "language_info": {
   "codemirror_mode": {
    "name": "ipython",
    "version": 2
   },
   "file_extension": ".py",
   "mimetype": "text/x-python",
   "name": "python",
   "nbconvert_exporter": "python",
   "pygments_lexer": "ipython2",
   "version": "2.7.6"
  }
 },
 "nbformat": 4,
 "nbformat_minor": 5
}
