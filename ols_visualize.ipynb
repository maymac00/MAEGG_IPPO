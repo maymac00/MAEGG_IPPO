{
 "cells": [
  {
   "cell_type": "code",
   "execution_count": 5,
   "id": "initial_id",
   "metadata": {
    "collapsed": true,
    "ExecuteTime": {
     "end_time": "2024-01-30T17:49:50.455259551Z",
     "start_time": "2024-01-30T17:49:50.446880776Z"
    }
   },
   "outputs": [],
   "source": []
  },
  {
   "cell_type": "code",
   "outputs": [],
   "source": [
    "import numpy as np\n",
    "import matplotlib.pyplot as plt\n",
    "import matplotlib\n",
    "# %matplotlib tk\n",
    "\n",
    "mo_value_w10 = np.array([np.array([-237.6, 0.63]), np.array([-210.5, 1.96]), np.array([-67.8, 20.3])])\n",
    "mo_value_w0 = np.array([np.array([-386.4, -0.5]), np.array([-499.9, 0.]), np.array([-48.3, -1.2])])\n"
   ],
   "metadata": {
    "collapsed": false,
    "ExecuteTime": {
     "end_time": "2024-01-31T11:57:48.036426047Z",
     "start_time": "2024-01-31T11:57:48.024813863Z"
    }
   },
   "id": "cfa30624cc284ec7",
   "execution_count": 43
  },
  {
   "cell_type": "code",
   "outputs": [],
   "source": [],
   "metadata": {
    "collapsed": false
   },
   "id": "2ef22f58fa27bc0c"
  },
  {
   "cell_type": "code",
   "outputs": [
    {
     "data": {
      "text/plain": "-49.3883872"
     },
     "execution_count": 48,
     "metadata": {},
     "output_type": "execute_result"
    }
   ],
   "source": [
    "np.dot(np.array([-67.8, 20.3]), np.array([1, 0.906976]))"
   ],
   "metadata": {
    "collapsed": false,
    "ExecuteTime": {
     "end_time": "2024-01-31T11:58:28.040101552Z",
     "start_time": "2024-01-31T11:58:28.027291321Z"
    }
   },
   "id": "3a34b6ac01dc9c2",
   "execution_count": 48
  },
  {
   "cell_type": "code",
   "outputs": [
    {
     "data": {
      "text/plain": "-49.388371199999995"
     },
     "execution_count": 49,
     "metadata": {},
     "output_type": "execute_result"
    }
   ],
   "source": [
    "np.dot(np.array([-48.3, -1.2]), np.array([1, 0.906976]))"
   ],
   "metadata": {
    "collapsed": false,
    "ExecuteTime": {
     "end_time": "2024-01-31T11:58:29.876747Z",
     "start_time": "2024-01-31T11:58:29.868181909Z"
    }
   },
   "id": "97e5c75e582ff755",
   "execution_count": 49
  },
  {
   "cell_type": "code",
   "outputs": [
    {
     "name": "stdout",
     "output_type": "stream",
     "text": [
      "v01: -67.8, v02: -48.3, ve1: 20.3, ve2: -1.2\n",
      "v01 - v02: -19.5, ve2 - ve1: -21.5\n"
     ]
    },
    {
     "data": {
      "text/plain": "0.9069767441860465"
     },
     "execution_count": 44,
     "metadata": {},
     "output_type": "execute_result"
    }
   ],
   "source": [
    "# Function to get the intersection of two lines represented as f(we) = (1-we)*v0 + we*ve for a two given fixed sets of (v0, ve)\n",
    "def get_intersection(v01, ve1, v02, ve2):\n",
    "    print(f\"v01: {v01}, v02: {v02}, ve1: {ve1}, ve2: {ve2}\")\n",
    "    print(f\"v01 - v02: {v01 - v02}, ve2 - ve1: {ve2 - ve1}\")\n",
    "    we = (v01 - v02) / (ve2 - ve1)\n",
    "    return we\n",
    "get_intersection(mo_value_w10[2][0], mo_value_w10[2][1], mo_value_w0[2][0], mo_value_w0[2][1])"
   ],
   "metadata": {
    "collapsed": false,
    "ExecuteTime": {
     "end_time": "2024-01-31T11:57:51.212472364Z",
     "start_time": "2024-01-31T11:57:51.207647893Z"
    }
   },
   "id": "2c57669031cb4133",
   "execution_count": 44
  },
  {
   "cell_type": "code",
   "outputs": [],
   "source": [
    "# Plot values as function of weight w that scales the reward\n",
    "plt.title(\"MO Value Function\")\n",
    "plt.xlabel(\"w_e\")\n",
    "plt.ylabel(\"V(w_e)\")\n",
    "\n",
    "step = 0.1\n",
    "# for ag in mo_value_w10:\n",
    "ag = mo_value_w10[2]\n",
    "v = []\n",
    "for j in range(int(1 / step + 1)):\n",
    "    w = np.array([1.0, step * j])\n",
    "    v.append(np.dot(w, ag))\n",
    "plt.plot(v, label=f\"Agent {ag}\")\n",
    "\n",
    "# for ag in mo_value_w10:\n",
    "ag = mo_value_w0[2]\n",
    "v = []\n",
    "for j in range(int(1 / step + 1)):\n",
    "    w = np.array([1.0, step * j])\n",
    "    v.append(np.dot(w, ag))\n",
    "plt.plot(v, label=f\"Agent {ag}\")\n",
    "plt.show()"
   ],
   "metadata": {
    "collapsed": false,
    "ExecuteTime": {
     "end_time": "2024-01-31T11:58:54.769563578Z",
     "start_time": "2024-01-31T11:58:54.743885419Z"
    }
   },
   "id": "8985ba4013bb41c4",
   "execution_count": 50
  },
  {
   "cell_type": "code",
   "outputs": [
    {
     "name": "stdout",
     "output_type": "stream",
     "text": [
      "v01: -67.8, v02: 20.3, ve1: -48.3, ve2: 1.2\n"
     ]
    },
    {
     "data": {
      "text/plain": "-1.7797979797979797"
     },
     "execution_count": 36,
     "metadata": {},
     "output_type": "execute_result"
    }
   ],
   "source": [
    "\n",
    "wes = []\n",
    "for ag in range(3):\n",
    "    get_intersection(mo_value_w10[ag][0], mo_value_w10[ag][1], mo_value_w0[ag][0], mo_value_w0[2][1])"
   ],
   "metadata": {
    "collapsed": false,
    "ExecuteTime": {
     "end_time": "2024-01-31T11:53:36.577707489Z",
     "start_time": "2024-01-31T11:53:36.572647665Z"
    }
   },
   "id": "9f4bab43c4a118d4",
   "execution_count": 36
  }
 ],
 "metadata": {
  "kernelspec": {
   "display_name": "Python 3",
   "language": "python",
   "name": "python3"
  },
  "language_info": {
   "codemirror_mode": {
    "name": "ipython",
    "version": 2
   },
   "file_extension": ".py",
   "mimetype": "text/x-python",
   "name": "python",
   "nbconvert_exporter": "python",
   "pygments_lexer": "ipython2",
   "version": "2.7.6"
  }
 },
 "nbformat": 4,
 "nbformat_minor": 5
}
