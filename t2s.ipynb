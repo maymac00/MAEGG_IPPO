{
 "cells": [
  {
   "cell_type": "code",
   "id": "initial_id",
   "metadata": {
    "collapsed": true,
    "ExecuteTime": {
     "end_time": "2024-04-24T07:46:19.729506Z",
     "start_time": "2024-04-24T07:46:19.714366Z"
    }
   },
   "source": [
    "import pandas as pd\n",
    "import numpy as np\n",
    "\n",
    "path = (\"beegfs/ECAI\")\n",
    "folder = lambda db, eff, we : f\"/db{db}_effrate{eff}_we{we}_ECAI\""
   ],
   "outputs": [],
   "execution_count": 67
  },
  {
   "metadata": {
    "ExecuteTime": {
     "end_time": "2024-04-24T07:46:19.766571Z",
     "start_time": "2024-04-24T07:46:19.729506Z"
    }
   },
   "cell_type": "code",
   "source": [
    "data = pd.read_csv(path + folder(0, 0.2, 0)*2 + \"/t2s.csv\").to_numpy()\n",
    "survival = data.copy()\n",
    "survival[data > 0] = 1\n",
    "survival[np.isnan(data)] = 0\n",
    "\n",
    "print(np.nanmedian(survival, axis=0))\n",
    "print(np.nanpercentile(survival, 75, axis=0)- np.nanpercentile(survival, 25, axis=0))"
   ],
   "id": "a8508ca65e82a028",
   "outputs": [
    {
     "name": "stdout",
     "output_type": "stream",
     "text": [
      "[1. 0. 0. 0. 0.]\n",
      "[0. 0. 0. 0. 0.]\n"
     ]
    }
   ],
   "execution_count": 68
  },
  {
   "metadata": {
    "ExecuteTime": {
     "end_time": "2024-04-24T07:46:19.985208Z",
     "start_time": "2024-04-24T07:46:19.776590Z"
    }
   },
   "cell_type": "code",
   "source": [
    "dbs = [0, 1, 10, 100]\n",
    "effs = [0, 0.2, 0.6, 1]\n",
    "\n",
    "survivor_database =  {eff: {db : {we : pd.DataFrame() for we in [0, 10]} for db in dbs} for eff in effs}\n",
    "t2s_database = {eff: {db : {we : pd.DataFrame() for we in [0, 10]} for db in dbs} for eff in effs}\n",
    "\n",
    "for db in dbs:\n",
    "    for eff in effs:\n",
    "        for we in [0, 10]:\n",
    "            try:\n",
    "                data = pd.read_csv(path + folder(db, eff, we)*2 + \"/t2s.csv\").to_numpy()\n",
    "            except FileNotFoundError:\n",
    "                continue\n",
    "            survival = data.copy()\n",
    "            survival[data > 0] = 1\n",
    "            survival[np.isnan(data)] = 0\n",
    "            survivor_database[eff][db][we] = pd.DataFrame(survival, columns=[f\"Survival_Ag{i}\" for i in range(1, 6)])\n",
    "            t2s_database[eff][db][we] = pd.DataFrame(data, columns=[f\"T2S_Ag{i}\" for i in range(1, 6)])\n"
   ],
   "id": "888a6f92f6c1f8c7",
   "outputs": [],
   "execution_count": 69
  },
  {
   "metadata": {
    "ExecuteTime": {
     "end_time": "2024-04-24T12:08:54.141782Z",
     "start_time": "2024-04-24T12:08:54.078212Z"
    }
   },
   "cell_type": "code",
   "source": "t2s_database[0.2][1][10].describe()",
   "id": "7ec47ab5942c1c26",
   "outputs": [
    {
     "data": {
      "text/plain": [
       "           T2S_Ag1      T2S_Ag2      T2S_Ag3      T2S_Ag4      T2S_Ag5\n",
       "count  4999.000000  4620.000000  1757.000000  4555.000000  3627.000000\n",
       "mean    167.996399   373.728788   440.107001   367.517892   409.352633\n",
       "std      47.118494    60.624478    45.601946    63.640765    54.406576\n",
       "min      66.000000   195.000000   256.000000   184.000000   222.000000\n",
       "25%     135.000000   329.000000   412.000000   321.000000   370.000000\n",
       "50%     160.000000   373.000000   451.000000   365.000000   413.000000\n",
       "75%     193.000000   418.000000   475.000000   415.000000   453.000000\n",
       "max     420.000000   500.000000   500.000000   500.000000   500.000000"
      ],
      "text/html": [
       "<div>\n",
       "<style scoped>\n",
       "    .dataframe tbody tr th:only-of-type {\n",
       "        vertical-align: middle;\n",
       "    }\n",
       "\n",
       "    .dataframe tbody tr th {\n",
       "        vertical-align: top;\n",
       "    }\n",
       "\n",
       "    .dataframe thead th {\n",
       "        text-align: right;\n",
       "    }\n",
       "</style>\n",
       "<table border=\"1\" class=\"dataframe\">\n",
       "  <thead>\n",
       "    <tr style=\"text-align: right;\">\n",
       "      <th></th>\n",
       "      <th>T2S_Ag1</th>\n",
       "      <th>T2S_Ag2</th>\n",
       "      <th>T2S_Ag3</th>\n",
       "      <th>T2S_Ag4</th>\n",
       "      <th>T2S_Ag5</th>\n",
       "    </tr>\n",
       "  </thead>\n",
       "  <tbody>\n",
       "    <tr>\n",
       "      <th>count</th>\n",
       "      <td>4999.000000</td>\n",
       "      <td>4620.000000</td>\n",
       "      <td>1757.000000</td>\n",
       "      <td>4555.000000</td>\n",
       "      <td>3627.000000</td>\n",
       "    </tr>\n",
       "    <tr>\n",
       "      <th>mean</th>\n",
       "      <td>167.996399</td>\n",
       "      <td>373.728788</td>\n",
       "      <td>440.107001</td>\n",
       "      <td>367.517892</td>\n",
       "      <td>409.352633</td>\n",
       "    </tr>\n",
       "    <tr>\n",
       "      <th>std</th>\n",
       "      <td>47.118494</td>\n",
       "      <td>60.624478</td>\n",
       "      <td>45.601946</td>\n",
       "      <td>63.640765</td>\n",
       "      <td>54.406576</td>\n",
       "    </tr>\n",
       "    <tr>\n",
       "      <th>min</th>\n",
       "      <td>66.000000</td>\n",
       "      <td>195.000000</td>\n",
       "      <td>256.000000</td>\n",
       "      <td>184.000000</td>\n",
       "      <td>222.000000</td>\n",
       "    </tr>\n",
       "    <tr>\n",
       "      <th>25%</th>\n",
       "      <td>135.000000</td>\n",
       "      <td>329.000000</td>\n",
       "      <td>412.000000</td>\n",
       "      <td>321.000000</td>\n",
       "      <td>370.000000</td>\n",
       "    </tr>\n",
       "    <tr>\n",
       "      <th>50%</th>\n",
       "      <td>160.000000</td>\n",
       "      <td>373.000000</td>\n",
       "      <td>451.000000</td>\n",
       "      <td>365.000000</td>\n",
       "      <td>413.000000</td>\n",
       "    </tr>\n",
       "    <tr>\n",
       "      <th>75%</th>\n",
       "      <td>193.000000</td>\n",
       "      <td>418.000000</td>\n",
       "      <td>475.000000</td>\n",
       "      <td>415.000000</td>\n",
       "      <td>453.000000</td>\n",
       "    </tr>\n",
       "    <tr>\n",
       "      <th>max</th>\n",
       "      <td>420.000000</td>\n",
       "      <td>500.000000</td>\n",
       "      <td>500.000000</td>\n",
       "      <td>500.000000</td>\n",
       "      <td>500.000000</td>\n",
       "    </tr>\n",
       "  </tbody>\n",
       "</table>\n",
       "</div>"
      ]
     },
     "execution_count": 114,
     "metadata": {},
     "output_type": "execute_result"
    }
   ],
   "execution_count": 114
  },
  {
   "metadata": {
    "ExecuteTime": {
     "end_time": "2024-04-24T11:56:45.601520Z",
     "start_time": "2024-04-24T11:56:45.563956Z"
    }
   },
   "cell_type": "code",
   "source": [
    "row = 0.2\n",
    "grouped_values = np.zeros((4,2))\n",
    "grouped_values_std = np.zeros((4,2))\n",
    "grouped_values_median = np.zeros((4,2))\n",
    "for k, db in enumerate(dbs):\n",
    "    value = t2s_database[row][db][10].to_numpy()\n",
    "    grouped_values[k, 0] = np.nanmean(value[:,:int(row*5)])\n",
    "    grouped_values_std[k, 0] = np.nanstd(value[:,:int(row*5)])\n",
    "    grouped_values_median[k, 0] = np.nanmedian(value[:,:int(row*5)])\n",
    "    grouped_values[k, 1] = np.nanmean(value[:,int(row*5)+1:])\n",
    "    grouped_values_std[k, 1] = np.nanstd(value[:,int(row*5)+1:])\n",
    "    grouped_values_median[k, 1] = np.nanmedian(value[:,int(row*5)+1:])\n",
    "    \n",
    "# print latex row as: grouped_values[0, 0] \\pm grouped_values_std[0, 0], grouped_values[0, 1] \\pm grouped_values_std[0, 1] & ...\n",
    "\n",
    "#print(\" & \".join([f\"{grouped_values[k, 0]:.2f} \\\\pm {grouped_values_std[k, 0]:.2f}, {grouped_values[k, 1]:.2f} \\\\pm {grouped_values_std[k, 1]:.2f}\" for k in range(4)]))\n",
    "print(grouped_values_median)"
   ],
   "id": "6c0fcaa0455549c5",
   "outputs": [
    {
     "name": "stdout",
     "output_type": "stream",
     "text": [
      "[[149. 448.]\n",
      " [160. 401.]\n",
      " [147. 383.]\n",
      " [151. 393.]]\n"
     ]
    }
   ],
   "execution_count": 112
  },
  {
   "metadata": {
    "ExecuteTime": {
     "end_time": "2024-04-24T07:52:22.657493Z",
     "start_time": "2024-04-24T07:52:22.633534Z"
    }
   },
   "cell_type": "code",
   "source": "grouped_values_median",
   "id": "6df3b9befc8f8b2f",
   "outputs": [
    {
     "data": {
      "text/plain": [
       "array([[nan, nan],\n",
       "       [nan, nan],\n",
       "       [nan, nan],\n",
       "       [nan, nan]])"
      ]
     },
     "execution_count": 82,
     "metadata": {},
     "output_type": "execute_result"
    }
   ],
   "execution_count": 82
  },
  {
   "metadata": {
    "ExecuteTime": {
     "end_time": "2024-04-24T12:00:59.997025Z",
     "start_time": "2024-04-24T12:00:59.971286Z"
    }
   },
   "cell_type": "code",
   "source": [
    "row = 0.2\n",
    "for k, db in enumerate(dbs):\n",
    "    survivor_np = survivor_database[row][db][10].to_numpy()\n",
    "    print(f\"DB: {db}\", survivor_np.mean(axis=0).round(2)*100)\n",
    "print(\"--------------\")\n",
    "for k, db in enumerate(dbs):\n",
    "    survivor_np = survivor_database[row][db][10].to_numpy()\n",
    "    print(f\"DB: {db}\", survivor_np.std(axis=0).round(2)*100)\n",
    "print(\"--------------\")  \n",
    "for k, db in enumerate(dbs):\n",
    "    survivor_np = survivor_database[row][db][10].to_numpy()\n",
    "    print(f\"DB: {db}\",np.median(survivor_np, axis=0)*100)"
   ],
   "id": "71f98baca3eddc03",
   "outputs": [
    {
     "name": "stdout",
     "output_type": "stream",
     "text": [
      "DB: 0 [87.  0.  5.  8.  1.]\n",
      "DB: 1 [100.  92.  35.  91.  73.]\n",
      "DB: 10 [100.  95.  95.  95.  94.]\n",
      "DB: 100 [97. 85. 72. 84. 49.]\n",
      "--------------\n",
      "DB: 0 [34.  6. 22. 27.  7.]\n",
      "DB: 1 [ 1. 26. 48. 28. 45.]\n",
      "DB: 10 [ 0. 22. 22. 23. 24.]\n",
      "DB: 100 [18. 36. 45. 37. 50.]\n",
      "--------------\n",
      "DB: 0 [100.   0.   0.   0.   0.]\n",
      "DB: 1 [100. 100.   0. 100. 100.]\n",
      "DB: 10 [100. 100. 100. 100. 100.]\n",
      "DB: 100 [100. 100. 100. 100.   0.]\n"
     ]
    }
   ],
   "execution_count": 113
  },
  {
   "metadata": {},
   "cell_type": "code",
   "outputs": [],
   "execution_count": null,
   "source": "",
   "id": "89caf1f63bc04467"
  }
 ],
 "metadata": {
  "kernelspec": {
   "display_name": "Python 3",
   "language": "python",
   "name": "python3"
  },
  "language_info": {
   "codemirror_mode": {
    "name": "ipython",
    "version": 2
   },
   "file_extension": ".py",
   "mimetype": "text/x-python",
   "name": "python",
   "nbconvert_exporter": "python",
   "pygments_lexer": "ipython2",
   "version": "2.7.6"
  }
 },
 "nbformat": 4,
 "nbformat_minor": 5
}
