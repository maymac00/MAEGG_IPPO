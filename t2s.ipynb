{
 "cells": [
  {
   "cell_type": "code",
   "id": "initial_id",
   "metadata": {
    "collapsed": true,
    "ExecuteTime": {
     "end_time": "2024-04-24T13:48:40.110260424Z",
     "start_time": "2024-04-24T13:48:40.074045204Z"
    }
   },
   "source": [
    "import pandas as pd\n",
    "import numpy as np\n",
    "\n",
    "path = (\"ECAI\")\n",
    "folder = lambda db, eff, we : f\"/db{db}_effrate{eff}_we{we}_ECAI\""
   ],
   "outputs": [],
   "execution_count": 5
  },
  {
   "metadata": {
    "ExecuteTime": {
     "end_time": "2024-04-24T13:48:40.210244399Z",
     "start_time": "2024-04-24T13:48:40.116979656Z"
    }
   },
   "cell_type": "code",
   "source": [
    "data = pd.read_csv(path + folder(0, 0.2, 0)*2 + \"/t2s.csv\").to_numpy()\n",
    "survival = data.copy()\n",
    "survival[data > 0] = 1\n",
    "survival[np.isnan(data)] = 0\n",
    "\n",
    "print(np.nanmedian(survival, axis=0))\n",
    "print(np.nanpercentile(survival, 75, axis=0)- np.nanpercentile(survival, 25, axis=0))"
   ],
   "id": "a8508ca65e82a028",
   "outputs": [
    {
     "name": "stdout",
     "output_type": "stream",
     "text": [
      "[1. 0. 0. 0. 0.]\n",
      "[0. 0. 0. 0. 0.]\n"
     ]
    }
   ],
   "execution_count": 6
  },
  {
   "metadata": {
    "ExecuteTime": {
     "end_time": "2024-04-24T13:48:40.247929059Z",
     "start_time": "2024-04-24T13:48:40.195451466Z"
    }
   },
   "cell_type": "code",
   "source": [
    "dbs = [0, 1, 10, 100]\n",
    "effs = [0, 0.2, 0.6, 1]\n",
    "\n",
    "survivor_database =  {eff: {db : {we : pd.DataFrame() for we in [0, 10]} for db in dbs} for eff in effs}\n",
    "t2s_database = {eff: {db : {we : pd.DataFrame() for we in [0, 10]} for db in dbs} for eff in effs}\n",
    "\n",
    "for db in dbs:\n",
    "    for eff in effs:\n",
    "        for we in [0, 10]:\n",
    "            try:\n",
    "                data = pd.read_csv(path + folder(db, eff, we)*2 + \"/t2s.csv\").to_numpy()\n",
    "            except FileNotFoundError:\n",
    "                continue\n",
    "            survival = data.copy()\n",
    "            survival[data > 0] = 1\n",
    "            survival[np.isnan(data)] = 0\n",
    "            survivor_database[eff][db][we] = pd.DataFrame(survival, columns=[f\"Survival_Ag{i}\" for i in range(1, 6)])\n",
    "            t2s_database[eff][db][we] = pd.DataFrame(data, columns=[f\"T2S_Ag{i}\" for i in range(1, 6)])\n"
   ],
   "id": "888a6f92f6c1f8c7",
   "outputs": [],
   "execution_count": 7
  },
  {
   "metadata": {
    "ExecuteTime": {
     "end_time": "2024-04-24T13:48:40.328867313Z",
     "start_time": "2024-04-24T13:48:40.248002751Z"
    }
   },
   "cell_type": "code",
   "source": [
    "t2s_database[0.2][1][10].describe()"
   ],
   "id": "7ec47ab5942c1c26",
   "outputs": [
    {
     "data": {
      "text/plain": "           T2S_Ag1      T2S_Ag2      T2S_Ag3      T2S_Ag4      T2S_Ag5\ncount  4999.000000  4620.000000  1757.000000  4555.000000  3627.000000\nmean    167.996399   373.728788   440.107001   367.517892   409.352633\nstd      47.118494    60.624478    45.601946    63.640765    54.406576\nmin      66.000000   195.000000   256.000000   184.000000   222.000000\n25%     135.000000   329.000000   412.000000   321.000000   370.000000\n50%     160.000000   373.000000   451.000000   365.000000   413.000000\n75%     193.000000   418.000000   475.000000   415.000000   453.000000\nmax     420.000000   500.000000   500.000000   500.000000   500.000000",
      "text/html": "<div>\n<style scoped>\n    .dataframe tbody tr th:only-of-type {\n        vertical-align: middle;\n    }\n\n    .dataframe tbody tr th {\n        vertical-align: top;\n    }\n\n    .dataframe thead th {\n        text-align: right;\n    }\n</style>\n<table border=\"1\" class=\"dataframe\">\n  <thead>\n    <tr style=\"text-align: right;\">\n      <th></th>\n      <th>T2S_Ag1</th>\n      <th>T2S_Ag2</th>\n      <th>T2S_Ag3</th>\n      <th>T2S_Ag4</th>\n      <th>T2S_Ag5</th>\n    </tr>\n  </thead>\n  <tbody>\n    <tr>\n      <th>count</th>\n      <td>4999.000000</td>\n      <td>4620.000000</td>\n      <td>1757.000000</td>\n      <td>4555.000000</td>\n      <td>3627.000000</td>\n    </tr>\n    <tr>\n      <th>mean</th>\n      <td>167.996399</td>\n      <td>373.728788</td>\n      <td>440.107001</td>\n      <td>367.517892</td>\n      <td>409.352633</td>\n    </tr>\n    <tr>\n      <th>std</th>\n      <td>47.118494</td>\n      <td>60.624478</td>\n      <td>45.601946</td>\n      <td>63.640765</td>\n      <td>54.406576</td>\n    </tr>\n    <tr>\n      <th>min</th>\n      <td>66.000000</td>\n      <td>195.000000</td>\n      <td>256.000000</td>\n      <td>184.000000</td>\n      <td>222.000000</td>\n    </tr>\n    <tr>\n      <th>25%</th>\n      <td>135.000000</td>\n      <td>329.000000</td>\n      <td>412.000000</td>\n      <td>321.000000</td>\n      <td>370.000000</td>\n    </tr>\n    <tr>\n      <th>50%</th>\n      <td>160.000000</td>\n      <td>373.000000</td>\n      <td>451.000000</td>\n      <td>365.000000</td>\n      <td>413.000000</td>\n    </tr>\n    <tr>\n      <th>75%</th>\n      <td>193.000000</td>\n      <td>418.000000</td>\n      <td>475.000000</td>\n      <td>415.000000</td>\n      <td>453.000000</td>\n    </tr>\n    <tr>\n      <th>max</th>\n      <td>420.000000</td>\n      <td>500.000000</td>\n      <td>500.000000</td>\n      <td>500.000000</td>\n      <td>500.000000</td>\n    </tr>\n  </tbody>\n</table>\n</div>"
     },
     "execution_count": 8,
     "metadata": {},
     "output_type": "execute_result"
    }
   ],
   "execution_count": 8
  },
  {
   "metadata": {
    "ExecuteTime": {
     "end_time": "2024-04-24T15:23:20.508373771Z",
     "start_time": "2024-04-24T15:23:20.467240396Z"
    }
   },
   "cell_type": "code",
   "source": [
    "row = 0.6\n",
    "grouped_values = np.zeros((4,2))\n",
    "grouped_values_std = np.zeros((4,2))\n",
    "grouped_values_median = np.zeros((4,2))\n",
    "grouped_values_iqr = np.zeros((4,2))\n",
    "for k, db in enumerate(dbs):\n",
    "    value = t2s_database[row][db][10].to_numpy()\n",
    "    grouped_values[k, 0] = np.nanmean(value[:,:int(row*5)])\n",
    "    grouped_values_std[k, 0] = np.nanstd(value[:,:int(row*5)])\n",
    "    grouped_values_median[k, 0] = np.nanmedian(value[:,:int(row*5)])\n",
    "    grouped_values_iqr[k, 0] = np.nanpercentile(value[:,:int(row*5)], 75) - np.nanpercentile(value[:,:int(row*5)], 25)\n",
    "    grouped_values[k, 1] = np.nanmean(value[:,int(row*5)+1:])\n",
    "    grouped_values_std[k, 1] = np.nanstd(value[:,int(row*5)+1:])\n",
    "    grouped_values_median[k, 1] = np.nanmedian(value[:,int(row*5)+1:])\n",
    "    grouped_values_iqr[k, 1] = np.nanpercentile(value[:,int(row*5)+1:], 75) - np.nanpercentile(value[:,int(row*5)+1:], 25)\n",
    "    \n",
    "print(grouped_values_iqr)"
   ],
   "id": "6c0fcaa0455549c5",
   "outputs": [
    {
     "name": "stdout",
     "output_type": "stream",
     "text": [
      "[[119.  28.]\n",
      " [ 72.  46.]\n",
      " [ 77.  45.]\n",
      " [ 68.  43.]]\n"
     ]
    }
   ],
   "execution_count": 50
  },
  {
   "metadata": {
    "ExecuteTime": {
     "end_time": "2024-04-24T13:48:40.330523238Z",
     "start_time": "2024-04-24T13:48:40.306133991Z"
    }
   },
   "cell_type": "code",
   "source": [
    "grouped_values_median"
   ],
   "id": "6df3b9befc8f8b2f",
   "outputs": [
    {
     "data": {
      "text/plain": "array([[149., 448.],\n       [160., 401.],\n       [147., 383.],\n       [151., 393.]])"
     },
     "execution_count": 10,
     "metadata": {},
     "output_type": "execute_result"
    }
   ],
   "execution_count": 10
  },
  {
   "metadata": {
    "ExecuteTime": {
     "end_time": "2024-04-24T13:48:40.366347800Z",
     "start_time": "2024-04-24T13:48:40.306401404Z"
    }
   },
   "cell_type": "code",
   "source": [
    "row = 0.2\n",
    "for k, db in enumerate(dbs):\n",
    "    survivor_np = survivor_database[row][db][10].to_numpy()\n",
    "    print(f\"DB: {db}\", survivor_np.mean(axis=0).round(2)*100)\n",
    "print(\"--------------\")\n",
    "for k, db in enumerate(dbs):\n",
    "    survivor_np = survivor_database[row][db][10].to_numpy()\n",
    "    print(f\"DB: {db}\", survivor_np.std(axis=0).round(2)*100)\n",
    "print(\"--------------\")  \n",
    "for k, db in enumerate(dbs):\n",
    "    survivor_np = survivor_database[row][db][10].to_numpy()\n",
    "    print(f\"DB: {db}\",np.median(survivor_np, axis=0)*100)"
   ],
   "id": "71f98baca3eddc03",
   "outputs": [
    {
     "name": "stdout",
     "output_type": "stream",
     "text": [
      "DB: 0 [87.  0.  5.  8.  1.]\n",
      "DB: 1 [100.  92.  35.  91.  73.]\n",
      "DB: 10 [100.  95.  95.  95.  94.]\n",
      "DB: 100 [97. 85. 72. 84. 49.]\n",
      "--------------\n",
      "DB: 0 [34.  6. 22. 27.  7.]\n",
      "DB: 1 [ 1. 26. 48. 28. 45.]\n",
      "DB: 10 [ 0. 22. 22. 23. 24.]\n",
      "DB: 100 [18. 36. 45. 37. 50.]\n",
      "--------------\n",
      "DB: 0 [100.   0.   0.   0.   0.]\n",
      "DB: 1 [100. 100.   0. 100. 100.]\n",
      "DB: 10 [100. 100. 100. 100. 100.]\n",
      "DB: 100 [100. 100. 100. 100.   0.]\n"
     ]
    }
   ],
   "execution_count": 11
  },
  {
   "metadata": {
    "ExecuteTime": {
     "end_time": "2024-04-24T14:40:59.286850457Z",
     "start_time": "2024-04-24T14:40:59.225740869Z"
    }
   },
   "cell_type": "code",
   "outputs": [
    {
     "name": "stdout",
     "output_type": "stream",
     "text": [
      "4.0\\% \\pm 20.0\\%  & 66.0\\% \\pm 47.0\\%  & 94.0\\% \\pm 23.0\\%  \\\\\n",
      "0.0\\% \\pm 3.0\\%  & 100.0\\% \\pm 2.0\\%  & 100.0\\% \\pm 1.0\\%  \\\\\n"
     ]
    }
   ],
   "execution_count": 36,
   "source": [
    "# Print avg + std of grouped survivor\n",
    "for row in [0.2, 0.6]:\n",
    "    g = []\n",
    "    for db in [0, 1, 10]:\n",
    "        data = survivor_database[row][db][10].to_numpy()\n",
    "        grouped_survivors = [data[:, :int(row*5)].flatten(), data[:, int(row*5)+1:].flatten()]\n",
    "        g.append(grouped_survivors)\n",
    "    \n",
    "    print(\" & \".join([f\"{g[i][1].mean().round(2)*100}\\% \\\\pm {g[i][1].std().round(2)*100}\\% \"for i in range(len([0, 1, 10]))]), \"\\\\\\\\\")\n"
   ],
   "id": "89caf1f63bc04467"
  },
  {
   "cell_type": "code",
   "outputs": [
    {
     "name": "stdout",
     "output_type": "stream",
     "text": [
      "DB = 0 & 87.0\\% \\pm 34.0\\%  & 0.0\\% \\pm 6.0\\%  & 5.0\\% \\pm 22.0\\%  & 8.0\\% \\pm 27.0\\%  & 1.0\\% \\pm 7.000000000000001\\%  \\\\\n",
      "DB = 1 & 100.0\\% \\pm 1.0\\%  & 92.0\\% \\pm 26.0\\%  & 35.0\\% \\pm 48.0\\%  & 91.0\\% \\pm 28.000000000000004\\%  & 73.0\\% \\pm 45.0\\%  \\\\\n",
      "DB = 10 & 100.0\\% \\pm 0.0\\%  & 95.0\\% \\pm 22.0\\%  & 95.0\\% \\pm 22.0\\%  & 95.0\\% \\pm 23.0\\%  & 94.0\\% \\pm 24.0\\%  \\\\\n"
     ]
    }
   ],
   "source": [
    "# Print avg + std of grouped survivor\n",
    "for row in [0.2]:\n",
    "    agents = []\n",
    "    for db in [0, 1, 10]:\n",
    "        data = survivor_database[row][db][10].to_numpy()\n",
    "        print(f\"DB = {db} &\",\" & \".join([f\"{data.mean(axis=0)[ag].round(2)*100}\\% \\\\pm {data.std(axis=0)[ag].round(2)*100}\\% \"for ag in range(5)]), \"\\\\\\\\\")"
   ],
   "metadata": {
    "collapsed": false,
    "ExecuteTime": {
     "end_time": "2024-04-24T14:52:08.749330523Z",
     "start_time": "2024-04-24T14:52:08.670277073Z"
    }
   },
   "id": "c1c33d7152956634",
   "execution_count": 38
  }
 ],
 "metadata": {
  "kernelspec": {
   "display_name": "Python 3",
   "language": "python",
   "name": "python3"
  },
  "language_info": {
   "codemirror_mode": {
    "name": "ipython",
    "version": 2
   },
   "file_extension": ".py",
   "mimetype": "text/x-python",
   "name": "python",
   "nbconvert_exporter": "python",
   "pygments_lexer": "ipython2",
   "version": "2.7.6"
  }
 },
 "nbformat": 4,
 "nbformat_minor": 5
}
