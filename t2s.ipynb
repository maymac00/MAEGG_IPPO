{
 "cells": [
  {
   "cell_type": "code",
   "id": "initial_id",
   "metadata": {
    "collapsed": true,
    "ExecuteTime": {
     "end_time": "2024-05-29T08:09:29.164978231Z",
     "start_time": "2024-05-29T08:09:28.931055711Z"
    }
   },
   "source": [
    "import pandas as pd\n",
    "import numpy as np\n",
    "\n",
    "path = \"ECAI\"\n",
    "folder = lambda db, eff, we : f\"/db{db}_effrate{eff}_we{we}_ECAI\""
   ],
   "outputs": [],
   "execution_count": 1
  },
  {
   "metadata": {
    "ExecuteTime": {
     "end_time": "2024-05-29T08:09:29.176481417Z",
     "start_time": "2024-05-29T08:09:29.167489520Z"
    }
   },
   "cell_type": "code",
   "source": [
    "data = pd.read_csv(path + folder(0, 0.2, 0)*2 + \"/t2s.csv\").to_numpy()\n",
    "survival = data.copy()\n",
    "survival[data > 0] = 1\n",
    "survival[np.isnan(data)] = 0\n",
    "\n",
    "print(np.nanmedian(survival, axis=0))\n",
    "print(np.nanpercentile(survival, 75, axis=0)- np.nanpercentile(survival, 25, axis=0))"
   ],
   "id": "a8508ca65e82a028",
   "outputs": [
    {
     "name": "stdout",
     "output_type": "stream",
     "text": [
      "[1. 0. 0. 0. 0.]\n",
      "[0. 0. 0. 0. 0.]\n"
     ]
    }
   ],
   "execution_count": 2
  },
  {
   "metadata": {
    "ExecuteTime": {
     "end_time": "2024-05-29T08:09:29.239871215Z",
     "start_time": "2024-05-29T08:09:29.186917715Z"
    }
   },
   "cell_type": "code",
   "source": [
    "dbs = [0, 1, 10, 100]\n",
    "effs = [0, 0.2, 0.6, 1]\n",
    "\n",
    "survivor_database =  {eff: {db : {we : pd.DataFrame() for we in [0, 10]} for db in dbs} for eff in effs}\n",
    "t2s_database = {eff: {db : {we : pd.DataFrame() for we in [0, 10]} for db in dbs} for eff in effs}\n",
    "\n",
    "for db in dbs:\n",
    "    for eff in effs:\n",
    "        for we in [0, 10]:\n",
    "            try:\n",
    "                data = pd.read_csv(path + folder(db, eff, we)*2 + \"/t2s.csv\").to_numpy()\n",
    "            except FileNotFoundError:\n",
    "                continue\n",
    "            survival = data.copy()\n",
    "            survival[data > 0] = 1\n",
    "            survival[np.isnan(data)] = 0\n",
    "            survivor_database[eff][db][we] = pd.DataFrame(survival, columns=[f\"Survival_Ag{i}\" for i in range(1, 6)])\n",
    "            t2s_database[eff][db][we] = pd.DataFrame(data, columns=[f\"T2S_Ag{i}\" for i in range(1, 6)])\n"
   ],
   "id": "888a6f92f6c1f8c7",
   "outputs": [],
   "execution_count": 3
  },
  {
   "metadata": {
    "ExecuteTime": {
     "end_time": "2024-05-29T08:23:39.247455804Z",
     "start_time": "2024-05-29T08:23:39.229011531Z"
    }
   },
   "cell_type": "code",
   "source": [
    "t2s_database[0.2][0][10].describe()"
   ],
   "id": "7ec47ab5942c1c26",
   "outputs": [
    {
     "data": {
      "text/plain": "           T2S_Ag1     T2S_Ag2     T2S_Ag3     T2S_Ag4     T2S_Ag5\ncount  4333.000000   17.000000  246.000000  386.000000   26.000000\nmean    174.185322  445.705882  437.463415  434.181347  440.384615\nstd      82.022099   40.725859   49.630273   52.388491   44.775062\nmin      58.000000  350.000000  275.000000  259.000000  331.000000\n25%     120.000000  424.000000  408.250000  404.250000  420.750000\n50%     149.000000  453.000000  446.500000  447.500000  454.000000\n75%     200.000000  466.000000  476.750000  476.000000  471.250000\nmax     500.000000  499.000000  500.000000  500.000000  496.000000",
      "text/html": "<div>\n<style scoped>\n    .dataframe tbody tr th:only-of-type {\n        vertical-align: middle;\n    }\n\n    .dataframe tbody tr th {\n        vertical-align: top;\n    }\n\n    .dataframe thead th {\n        text-align: right;\n    }\n</style>\n<table border=\"1\" class=\"dataframe\">\n  <thead>\n    <tr style=\"text-align: right;\">\n      <th></th>\n      <th>T2S_Ag1</th>\n      <th>T2S_Ag2</th>\n      <th>T2S_Ag3</th>\n      <th>T2S_Ag4</th>\n      <th>T2S_Ag5</th>\n    </tr>\n  </thead>\n  <tbody>\n    <tr>\n      <th>count</th>\n      <td>4333.000000</td>\n      <td>17.000000</td>\n      <td>246.000000</td>\n      <td>386.000000</td>\n      <td>26.000000</td>\n    </tr>\n    <tr>\n      <th>mean</th>\n      <td>174.185322</td>\n      <td>445.705882</td>\n      <td>437.463415</td>\n      <td>434.181347</td>\n      <td>440.384615</td>\n    </tr>\n    <tr>\n      <th>std</th>\n      <td>82.022099</td>\n      <td>40.725859</td>\n      <td>49.630273</td>\n      <td>52.388491</td>\n      <td>44.775062</td>\n    </tr>\n    <tr>\n      <th>min</th>\n      <td>58.000000</td>\n      <td>350.000000</td>\n      <td>275.000000</td>\n      <td>259.000000</td>\n      <td>331.000000</td>\n    </tr>\n    <tr>\n      <th>25%</th>\n      <td>120.000000</td>\n      <td>424.000000</td>\n      <td>408.250000</td>\n      <td>404.250000</td>\n      <td>420.750000</td>\n    </tr>\n    <tr>\n      <th>50%</th>\n      <td>149.000000</td>\n      <td>453.000000</td>\n      <td>446.500000</td>\n      <td>447.500000</td>\n      <td>454.000000</td>\n    </tr>\n    <tr>\n      <th>75%</th>\n      <td>200.000000</td>\n      <td>466.000000</td>\n      <td>476.750000</td>\n      <td>476.000000</td>\n      <td>471.250000</td>\n    </tr>\n    <tr>\n      <th>max</th>\n      <td>500.000000</td>\n      <td>499.000000</td>\n      <td>500.000000</td>\n      <td>500.000000</td>\n      <td>496.000000</td>\n    </tr>\n  </tbody>\n</table>\n</div>"
     },
     "execution_count": 21,
     "metadata": {},
     "output_type": "execute_result"
    }
   ],
   "execution_count": 21
  },
  {
   "metadata": {
    "ExecuteTime": {
     "end_time": "2024-05-29T08:09:29.287161878Z",
     "start_time": "2024-05-29T08:09:29.284182416Z"
    }
   },
   "cell_type": "code",
   "source": [
    "row = 0.6\n",
    "grouped_values = np.zeros((4,2))\n",
    "grouped_values_std = np.zeros((4,2))\n",
    "grouped_values_median = np.zeros((4,2))\n",
    "grouped_values_iqr = np.zeros((4,2))\n",
    "for k, db in enumerate(dbs):\n",
    "    value = t2s_database[row][db][10].to_numpy()\n",
    "    grouped_values[k, 0] = np.nanmean(value[:,:int(row*5)])\n",
    "    grouped_values_std[k, 0] = np.nanstd(value[:,:int(row*5)])\n",
    "    grouped_values_median[k, 0] = np.nanmedian(value[:,:int(row*5)])\n",
    "    grouped_values_iqr[k, 0] = np.nanpercentile(value[:,:int(row*5)], 75) - np.nanpercentile(value[:,:int(row*5)], 25)\n",
    "    grouped_values[k, 1] = np.nanmean(value[:,int(row*5)+1:])\n",
    "    grouped_values_std[k, 1] = np.nanstd(value[:,int(row*5)+1:])\n",
    "    grouped_values_median[k, 1] = np.nanmedian(value[:,int(row*5)+1:])\n",
    "    grouped_values_iqr[k, 1] = np.nanpercentile(value[:,int(row*5)+1:], 75) - np.nanpercentile(value[:,int(row*5)+1:], 25)\n",
    "    \n",
    "print(grouped_values_iqr)"
   ],
   "id": "6c0fcaa0455549c5",
   "outputs": [
    {
     "name": "stdout",
     "output_type": "stream",
     "text": [
      "[[119.  28.]\n",
      " [ 72.  46.]\n",
      " [ 77.  45.]\n",
      " [ 68.  43.]]\n"
     ]
    }
   ],
   "execution_count": 5
  },
  {
   "metadata": {
    "ExecuteTime": {
     "end_time": "2024-05-29T08:09:29.288072992Z",
     "start_time": "2024-05-29T08:09:29.284518050Z"
    }
   },
   "cell_type": "code",
   "source": [
    "grouped_values_median"
   ],
   "id": "6df3b9befc8f8b2f",
   "outputs": [
    {
     "data": {
      "text/plain": "array([[249., 484.],\n       [171., 241.],\n       [172., 235.],\n       [171., 237.]])"
     },
     "execution_count": 6,
     "metadata": {},
     "output_type": "execute_result"
    }
   ],
   "execution_count": 6
  },
  {
   "metadata": {
    "ExecuteTime": {
     "end_time": "2024-05-29T08:16:54.020913547Z",
     "start_time": "2024-05-29T08:16:54.012997721Z"
    }
   },
   "cell_type": "code",
   "source": [
    "row = 0.2\n",
    "print(\"-----MEAN-----\")\n",
    "for k, db in enumerate(dbs):\n",
    "    survivor_np = survivor_database[row][db][10].to_numpy()\n",
    "    print(f\"DB: {db}\", survivor_np.mean(axis=0).round(2)*100)\n",
    "print(\"-----STD------\")\n",
    "for k, db in enumerate(dbs):\n",
    "    survivor_np = survivor_database[row][db][10].to_numpy()\n",
    "    print(f\"DB: {db}\", survivor_np.std(axis=0).round(2)*100)\n",
    "print(\"-----MEDIAN----\")  \n",
    "for k, db in enumerate(dbs):\n",
    "    survivor_np = survivor_database[row][db][10].to_numpy()\n",
    "    print(f\"DB: {db}\",np.median(survivor_np, axis=0)*100)"
   ],
   "id": "71f98baca3eddc03",
   "outputs": [
    {
     "name": "stdout",
     "output_type": "stream",
     "text": [
      "-----MEAN-----\n",
      "DB: 0 [87.  0.  5.  8.  1.]\n",
      "DB: 1 [100.  92.  35.  91.  73.]\n",
      "DB: 10 [100.  95.  95.  95.  94.]\n",
      "DB: 100 [100.  93.  92.  94.  91.]\n",
      "-----STD------\n",
      "DB: 0 [34.  6. 22. 27.  7.]\n",
      "DB: 1 [ 1. 26. 48. 28. 45.]\n",
      "DB: 10 [ 0. 22. 22. 23. 24.]\n",
      "DB: 100 [ 6. 25. 28. 23. 29.]\n",
      "-----MEDIAN----\n",
      "DB: 0 [100.   0.   0.   0.   0.]\n",
      "DB: 1 [100. 100.   0. 100. 100.]\n",
      "DB: 10 [100. 100. 100. 100. 100.]\n",
      "DB: 100 [100. 100. 100. 100. 100.]\n"
     ]
    }
   ],
   "execution_count": 17
  },
  {
   "metadata": {
    "ExecuteTime": {
     "end_time": "2024-05-29T08:09:29.360208917Z",
     "start_time": "2024-05-29T08:09:29.286981902Z"
    }
   },
   "cell_type": "code",
   "source": [
    "# Print avg + std of grouped survivor\n",
    "for row in [0.2, 0.6]:\n",
    "    g = []\n",
    "    for db in [0, 1, 10, 100]:\n",
    "        data = survivor_database[row][db][10].to_numpy()\n",
    "        grouped_survivors = [data[:, :int(row*5)].flatten(), data[:, int(row*5)+1:].flatten()]\n",
    "        g.append(grouped_survivors)\n",
    "    \n",
    "    print(\" & \".join([f\"{g[i][1].mean().round(2)*100}\\% \\\\pm {g[i][1].std().round(2)*100}\\% \"for i in range(len([0, 1, 10, 100]))]), \"\\\\\\\\\")\n"
   ],
   "id": "89caf1f63bc04467",
   "outputs": [
    {
     "name": "stdout",
     "output_type": "stream",
     "text": [
      "4.0\\% \\pm 20.0\\%  & 66.0\\% \\pm 47.0\\%  & 94.0\\% \\pm 23.0\\%  & 92.0\\% \\pm 27.0\\%  \\\\\n",
      "0.0\\% \\pm 3.0\\%  & 100.0\\% \\pm 2.0\\%  & 100.0\\% \\pm 1.0\\%  & 100.0\\% \\pm 0.0\\%  \\\\\n"
     ]
    }
   ],
   "execution_count": 8
  },
  {
   "cell_type": "code",
   "source": [
    "# Print avg + std of grouped survivor\n",
    "for row in [0.2]:\n",
    "    agents = []\n",
    "    for db in [0, 1, 10]:\n",
    "        data = survivor_database[row][db][10].to_numpy()\n",
    "        print(f\"DB = {db} &\",\" & \".join([f\"{data.mean(axis=0)[ag].round(2)*100}\\% \\\\pm {data.std(axis=0)[ag].round(2)*100}\\% \"for ag in range(5)]), \"\\\\\\\\\")"
   ],
   "metadata": {
    "collapsed": false,
    "ExecuteTime": {
     "end_time": "2024-05-29T08:09:29.360874054Z",
     "start_time": "2024-05-29T08:09:29.327454998Z"
    }
   },
   "id": "c1c33d7152956634",
   "outputs": [
    {
     "name": "stdout",
     "output_type": "stream",
     "text": [
      "DB = 0 & 87.0\\% \\pm 34.0\\%  & 0.0\\% \\pm 6.0\\%  & 5.0\\% \\pm 22.0\\%  & 8.0\\% \\pm 27.0\\%  & 1.0\\% \\pm 7.000000000000001\\%  \\\\\n",
      "DB = 1 & 100.0\\% \\pm 1.0\\%  & 92.0\\% \\pm 26.0\\%  & 35.0\\% \\pm 48.0\\%  & 91.0\\% \\pm 28.000000000000004\\%  & 73.0\\% \\pm 45.0\\%  \\\\\n",
      "DB = 10 & 100.0\\% \\pm 0.0\\%  & 95.0\\% \\pm 22.0\\%  & 95.0\\% \\pm 22.0\\%  & 95.0\\% \\pm 23.0\\%  & 94.0\\% \\pm 24.0\\%  \\\\\n"
     ]
    }
   ],
   "execution_count": 9
  },
  {
   "cell_type": "code",
   "outputs": [
    {
     "ename": "KeyboardInterrupt",
     "evalue": "",
     "output_type": "error",
     "traceback": [
      "\u001B[0;31m---------------------------------------------------------------------------\u001B[0m",
      "\u001B[0;31mKeyboardInterrupt\u001B[0m                         Traceback (most recent call last)",
      "Cell \u001B[0;32mIn[18], line 8\u001B[0m\n\u001B[1;32m      6\u001B[0m data \u001B[38;5;241m=\u001B[39m t2s_database[row][db][\u001B[38;5;241m10\u001B[39m]\u001B[38;5;241m.\u001B[39mto_numpy()\n\u001B[1;32m      7\u001B[0m grouped_survivors \u001B[38;5;241m=\u001B[39m [data[:, :\u001B[38;5;28mint\u001B[39m(row\u001B[38;5;241m*\u001B[39m\u001B[38;5;241m5\u001B[39m)]\u001B[38;5;241m.\u001B[39mflatten(), data[:, \u001B[38;5;28mint\u001B[39m(row\u001B[38;5;241m*\u001B[39m\u001B[38;5;241m5\u001B[39m)\u001B[38;5;241m+\u001B[39m\u001B[38;5;241m1\u001B[39m:]\u001B[38;5;241m.\u001B[39mflatten()]\n\u001B[0;32m----> 8\u001B[0m \u001B[43mg\u001B[49m\u001B[38;5;241m.\u001B[39mappend(grouped_survivors)\n",
      "File \u001B[0;32m/opt/pycharm-professional/plugins/python/helpers/pydev/_pydevd_bundle/pydevd_cython.pyx:1187\u001B[0m, in \u001B[0;36m_pydevd_bundle.pydevd_cython.SafeCallWrapper.__call__\u001B[0;34m()\u001B[0m\n",
      "File \u001B[0;32m/opt/pycharm-professional/plugins/python/helpers/pydev/_pydevd_bundle/pydevd_cython.pyx:627\u001B[0m, in \u001B[0;36m_pydevd_bundle.pydevd_cython.PyDBFrame.trace_dispatch\u001B[0;34m()\u001B[0m\n",
      "File \u001B[0;32m/opt/pycharm-professional/plugins/python/helpers/pydev/_pydevd_bundle/pydevd_cython.pyx:937\u001B[0m, in \u001B[0;36m_pydevd_bundle.pydevd_cython.PyDBFrame.trace_dispatch\u001B[0;34m()\u001B[0m\n",
      "File \u001B[0;32m/opt/pycharm-professional/plugins/python/helpers/pydev/_pydevd_bundle/pydevd_cython.pyx:928\u001B[0m, in \u001B[0;36m_pydevd_bundle.pydevd_cython.PyDBFrame.trace_dispatch\u001B[0;34m()\u001B[0m\n",
      "File \u001B[0;32m/opt/pycharm-professional/plugins/python/helpers/pydev/_pydevd_bundle/pydevd_cython.pyx:585\u001B[0m, in \u001B[0;36m_pydevd_bundle.pydevd_cython.PyDBFrame.do_wait_suspend\u001B[0;34m()\u001B[0m\n",
      "File \u001B[0;32m/opt/pycharm-professional/plugins/python/helpers/pydev/pydevd.py:1184\u001B[0m, in \u001B[0;36mPyDB.do_wait_suspend\u001B[0;34m(self, thread, frame, event, arg, send_suspend_message, is_unhandled_exception)\u001B[0m\n\u001B[1;32m   1181\u001B[0m         from_this_thread\u001B[38;5;241m.\u001B[39mappend(frame_id)\n\u001B[1;32m   1183\u001B[0m \u001B[38;5;28;01mwith\u001B[39;00m \u001B[38;5;28mself\u001B[39m\u001B[38;5;241m.\u001B[39m_threads_suspended_single_notification\u001B[38;5;241m.\u001B[39mnotify_thread_suspended(thread_id, stop_reason):\n\u001B[0;32m-> 1184\u001B[0m     \u001B[38;5;28;43mself\u001B[39;49m\u001B[38;5;241;43m.\u001B[39;49m\u001B[43m_do_wait_suspend\u001B[49m\u001B[43m(\u001B[49m\u001B[43mthread\u001B[49m\u001B[43m,\u001B[49m\u001B[43m \u001B[49m\u001B[43mframe\u001B[49m\u001B[43m,\u001B[49m\u001B[43m \u001B[49m\u001B[43mevent\u001B[49m\u001B[43m,\u001B[49m\u001B[43m \u001B[49m\u001B[43marg\u001B[49m\u001B[43m,\u001B[49m\u001B[43m \u001B[49m\u001B[43msuspend_type\u001B[49m\u001B[43m,\u001B[49m\u001B[43m \u001B[49m\u001B[43mfrom_this_thread\u001B[49m\u001B[43m)\u001B[49m\n",
      "File \u001B[0;32m/opt/pycharm-professional/plugins/python/helpers/pydev/pydevd.py:1199\u001B[0m, in \u001B[0;36mPyDB._do_wait_suspend\u001B[0;34m(self, thread, frame, event, arg, suspend_type, from_this_thread)\u001B[0m\n\u001B[1;32m   1196\u001B[0m             \u001B[38;5;28mself\u001B[39m\u001B[38;5;241m.\u001B[39m_call_mpl_hook()\n\u001B[1;32m   1198\u001B[0m         \u001B[38;5;28mself\u001B[39m\u001B[38;5;241m.\u001B[39mprocess_internal_commands()\n\u001B[0;32m-> 1199\u001B[0m         \u001B[43mtime\u001B[49m\u001B[38;5;241;43m.\u001B[39;49m\u001B[43msleep\u001B[49m\u001B[43m(\u001B[49m\u001B[38;5;241;43m0.01\u001B[39;49m\u001B[43m)\u001B[49m\n\u001B[1;32m   1201\u001B[0m \u001B[38;5;28mself\u001B[39m\u001B[38;5;241m.\u001B[39mcancel_async_evaluation(get_current_thread_id(thread), \u001B[38;5;28mstr\u001B[39m(\u001B[38;5;28mid\u001B[39m(frame)))\n\u001B[1;32m   1203\u001B[0m \u001B[38;5;66;03m# process any stepping instructions\u001B[39;00m\n",
      "\u001B[0;31mKeyboardInterrupt\u001B[0m: "
     ]
    }
   ],
   "source": [
    "# Time 2 survive\n",
    "\n",
    "for row in [0.2, 0.6]:\n",
    "    g = []\n",
    "    for db in [0, 1, 10, 100]:\n",
    "        data = t2s_database[row][db][10].to_numpy()\n",
    "        grouped_survivors = [data[:, :int(row*5)].flatten(), data[:, int(row*5)+1:].flatten()]\n",
    "        g.append(grouped_survivors)\n"
   ],
   "metadata": {
    "collapsed": false,
    "ExecuteTime": {
     "end_time": "2024-05-29T08:23:10.408792384Z",
     "start_time": "2024-05-29T08:22:23.172424900Z"
    }
   },
   "id": "1362745a826bd807",
   "execution_count": 19
  }
 ],
 "metadata": {
  "kernelspec": {
   "display_name": "Python 3",
   "language": "python",
   "name": "python3"
  },
  "language_info": {
   "codemirror_mode": {
    "name": "ipython",
    "version": 2
   },
   "file_extension": ".py",
   "mimetype": "text/x-python",
   "name": "python",
   "nbconvert_exporter": "python",
   "pygments_lexer": "ipython2",
   "version": "2.7.6"
  }
 },
 "nbformat": 4,
 "nbformat_minor": 5
}
