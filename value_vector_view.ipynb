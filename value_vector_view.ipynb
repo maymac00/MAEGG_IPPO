{
 "cells": [
  {
   "cell_type": "code",
   "id": "initial_id",
   "metadata": {
    "collapsed": true,
    "ExecuteTime": {
     "end_time": "2024-07-25T14:06:39.539009Z",
     "start_time": "2024-07-25T14:06:39.456338Z"
    }
   },
   "source": "from value_vectors import *",
   "outputs": [],
   "execution_count": 1
  },
  {
   "metadata": {
    "ExecuteTime": {
     "end_time": "2024-07-25T14:20:34.842388Z",
     "start_time": "2024-07-25T14:20:33.289283Z"
    }
   },
   "cell_type": "code",
   "source": [
    "import matplotlib.pyplot as plt\n",
    "import numpy as np\n",
    "\n",
    "# Generate some sample data\n",
    "col = 1\n",
    "data1 = policies[0.2][1][:int(0.2*5), col]\n",
    "data2 = policies[0.2][10][:int(0.2*5), col]\n",
    "data3 = policies[0.2][1000][:int(0.2*5), col]\n",
    "data4 = policies[0.4][1][:int(0.4*5), col]\n",
    "data5 = policies[0.4][10][:int(0.4*5), col]\n",
    "data6 = policies[0.4][1000][:int(0.4*5), col]\n",
    "data7 = policies[0.6][1][:int(0.6*5), col]\n",
    "data8 = policies[0.6][10][:int(0.6*5), col]\n",
    "data9 = policies[0.6][1000][:int(0.6*5), col]\n",
    "data10 = policies[0.8][1][:int(0.8*5), col]\n",
    "data11 = policies[0.8][10][:int(0.8*5), col]\n",
    "data12 = policies[0.8][1000][:int(0.8*5), col]\n",
    "\n",
    "fig, ax = plt.subplots()\n",
    "\n",
    "# Positions of the boxplots\n",
    "positions = [1, 2, 3, 5, 6, 7, 9, 10, 11, 13, 14, 15]\n",
    "\n",
    "# Plotting the boxplots\n",
    "ax.boxplot(data1, positions=[positions[0]], widths=0.6, patch_artist=True, boxprops=dict(facecolor='lightblue'))\n",
    "ax.boxplot(data2, positions=[positions[1]], widths=0.6, patch_artist=True, boxprops=dict(facecolor='lightgreen'))\n",
    "ax.boxplot(data3, positions=[positions[2]], widths=0.6, patch_artist=True, boxprops=dict(facecolor='lightcoral'))\n",
    "ax.boxplot(data4, positions=[positions[3]], widths=0.6, patch_artist=True, boxprops=dict(facecolor='lightblue'))\n",
    "ax.boxplot(data5, positions=[positions[4]], widths=0.6, patch_artist=True, boxprops=dict(facecolor='lightgreen'))\n",
    "ax.boxplot(data6, positions=[positions[5]], widths=0.6, patch_artist=True, boxprops=dict(facecolor='lightcoral'))\n",
    "ax.boxplot(data7, positions=[positions[6]], widths=0.6, patch_artist=True, boxprops=dict(facecolor='lightblue'))\n",
    "ax.boxplot(data8, positions=[positions[7]], widths=0.6, patch_artist=True, boxprops=dict(facecolor='lightgreen'))\n",
    "ax.boxplot(data9, positions=[positions[8]], widths=0.6, patch_artist=True, boxprops=dict(facecolor='lightcoral'))\n",
    "ax.boxplot(data10, positions=[positions[9]], widths=0.6, patch_artist=True, boxprops=dict(facecolor='lightblue'))\n",
    "ax.boxplot(data11, positions=[positions[10]], widths=0.6, patch_artist=True, boxprops=dict(facecolor='lightgreen'))\n",
    "ax.boxplot(data12, positions=[positions[11]], widths=0.6, patch_artist=True, boxprops=dict(facecolor='lightcoral'))\n",
    "\n",
    "# Setting the x-axis labels\n",
    "ax.set_xticks([1, 2, 3, 5, 6, 7, 9, 10, 11, 13, 14, 15])\n",
    "ax.set_xticklabels(['1', '10', '$\\infty$', '1', '10', '$\\infty$', '1', '10', '$\\infty$', '1', '10', '$\\infty$'])\n",
    "\n",
    "# Customizing the major group labels\n",
    "group_labels = ['20%', '40%', '60%', '80%']\n",
    "group_positions = [2, 6, 10, 14]\n",
    "\n",
    "for label, pos in zip(group_labels, group_positions):\n",
    "    ax.text(pos, ax.get_ylim()[1] * 1.05, label, ha='center', va='bottom', fontsize=12, fontweight='bold')\n",
    "\n",
    "# Adding grid\n",
    "ax.yaxis.grid(True)\n",
    "\n",
    "# Set the title and labels\n",
    "ax.set_title('')\n",
    "ax.set_xlabel('% Of efficient agents')\n",
    "ax.set_ylabel('Value of efficient agents')\n",
    "\n",
    "plt.show()\n"
   ],
   "id": "ddf4178a80359ed0",
   "outputs": [
    {
     "ename": "NameError",
     "evalue": "name 'policies' is not defined",
     "output_type": "error",
     "traceback": [
      "\u001B[0;31m---------------------------------------------------------------------------\u001B[0m",
      "\u001B[0;31mNameError\u001B[0m                                 Traceback (most recent call last)",
      "Cell \u001B[0;32mIn[1], line 6\u001B[0m\n\u001B[1;32m      4\u001B[0m \u001B[38;5;66;03m# Generate some sample data\u001B[39;00m\n\u001B[1;32m      5\u001B[0m col \u001B[38;5;241m=\u001B[39m \u001B[38;5;241m1\u001B[39m\n\u001B[0;32m----> 6\u001B[0m data1 \u001B[38;5;241m=\u001B[39m \u001B[43mpolicies\u001B[49m[\u001B[38;5;241m0.2\u001B[39m][\u001B[38;5;241m1\u001B[39m][:\u001B[38;5;28mint\u001B[39m(\u001B[38;5;241m0.2\u001B[39m\u001B[38;5;241m*\u001B[39m\u001B[38;5;241m5\u001B[39m), col]\n\u001B[1;32m      7\u001B[0m data2 \u001B[38;5;241m=\u001B[39m policies[\u001B[38;5;241m0.2\u001B[39m][\u001B[38;5;241m10\u001B[39m][:\u001B[38;5;28mint\u001B[39m(\u001B[38;5;241m0.2\u001B[39m\u001B[38;5;241m*\u001B[39m\u001B[38;5;241m5\u001B[39m), col]\n\u001B[1;32m      8\u001B[0m data3 \u001B[38;5;241m=\u001B[39m policies[\u001B[38;5;241m0.2\u001B[39m][\u001B[38;5;241m1000\u001B[39m][:\u001B[38;5;28mint\u001B[39m(\u001B[38;5;241m0.2\u001B[39m\u001B[38;5;241m*\u001B[39m\u001B[38;5;241m5\u001B[39m), col]\n",
      "\u001B[0;31mNameError\u001B[0m: name 'policies' is not defined"
     ]
    }
   ],
   "execution_count": 1
  },
  {
   "metadata": {
    "ExecuteTime": {
     "end_time": "2024-07-24T13:08:26.468339Z",
     "start_time": "2024-07-24T13:08:26.465851Z"
    }
   },
   "cell_type": "code",
   "source": [
    "get_ind = lambda eff, db : policies[eff][db][:int(eff*5), 1]\n",
    "get_et = lambda eff, db : policies[eff][db][:int(eff*5), 0]"
   ],
   "id": "994f2ecc86d60f29",
   "outputs": [],
   "execution_count": 7
  }
 ],
 "metadata": {
  "kernelspec": {
   "display_name": "Python 3",
   "language": "python",
   "name": "python3"
  },
  "language_info": {
   "codemirror_mode": {
    "name": "ipython",
    "version": 2
   },
   "file_extension": ".py",
   "mimetype": "text/x-python",
   "name": "python",
   "nbconvert_exporter": "python",
   "pygments_lexer": "ipython2",
   "version": "2.7.6"
  }
 },
 "nbformat": 4,
 "nbformat_minor": 5
}
