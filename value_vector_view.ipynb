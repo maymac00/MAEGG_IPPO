{
 "cells": [
  {
   "cell_type": "code",
   "id": "initial_id",
   "metadata": {
    "collapsed": true,
    "ExecuteTime": {
     "end_time": "2024-07-09T09:09:53.209681Z",
     "start_time": "2024-07-09T09:09:53.201963Z"
    }
   },
   "source": [
    "import numpy as np\n",
    "eff_rates = [0.2, 0.4, 0.6, 0.8]\n",
    "policies = {eff : {} for eff in eff_rates}\n",
    "# eff 0.2\n",
    "policies[0.2][1000] = np.array([[ 54.1548, -98.874 ],[0.,-312.81],[1.792,-313.972],[1.1922,-347.648 ],[   0.,-320.584]])\n",
    "policies[0.2][10] = np.array([[ 39.3596,-96.708 ],[   0.6258,-351.844 ],[   0.4536,-367.194 ],[   0.4816,-368.3   ],[   0.6692,-326.192 ]])\n",
    "policies[0.2][1] = np.array([[ 35.6776,-57.398 ],[ 5.60000e-02,-3.46056e+02],[ 2.45000e-01,-3.06624e+02],[   1.484,-252.14 ],[ 2.4220e-01,-3.2771e+02]])\n",
    "\n",
    "# eff 0.4\n",
    "policies[0.4][1] = np.array([[ 15.0858, -52.226 ],[ 14.6916, -54.], [   0.2534, -209.446 ], [ 1.820e-01, -2.204e+02], [ 1.75000e-01, -2.20772e+02]])\n",
    "policies[0.4][10] = np.array([[ 18.9392, -75.996 ],[ 17.0982,-83.134 ],[   0.469,-221.244],[ 6.02000e-02,-2.61968e+02],[   0.4746,-203.896 ]])\n",
    "# place holder\n",
    "policies[0.4][1000] = np.array([[ 37.9, -113 ],[ 38.96, -112],[   0.469,-246.244],[ 6.02000e-02,-2.31968e+02],[   0.4746,-224.896 ]])\n",
    "\n",
    "# eff 0.6\n",
    "policies[0.6][1] = np.array([[  10.0618, -131.198 ], [   7.5306, -150.47  ], [   4.2924, -173.48  ], [   0., -254.392], [ 3.36000e-02, -2.70156e+02]])\n",
    "policies[0.6][10] = np.array([[  11.249,-103.22 ],[   8.4686,-120.848 ],[  10.8248,-105.646 ],[ 5.18000e-02,-2.32188e+02],[ 1.6940e-01,-2.2364e+02]])\n",
    "policies[0.6][1000] = np.array([[  32.2708, -110.774 ], [  29.748, -119.674], [  29.5834, -123.8   ], [   3.5392, -207.922 ], [   3.3096, -202.202 ]])\n",
    "\n",
    "# eff 0.8\n",
    "policies[0.8][1] = np.array([[  4.088, -90.652], [  4.0026, -89.99  ], [  4.2112, -89.522 ], [  4.2112, -90.568 ], [   0., -186.886]])\n",
    "policies[0.8][10] = np.array([[   5.25,-134.504],[   5.9878,-128.682 ],[   6.7648,-121.366 ],[6.9384, -121.276 ],[ 4.06000e-02,-2.22784e+02]])\n",
    "policies[0.8][1000] = np.array([[  28.098, -122.708], [  27.8278, -122.298 ], [  27.5828, -121.434 ], [  27.1404, -124.25  ], [   2.6782, -185.356 ]])\n",
    "\n",
    "get_ind = lambda eff, db : policies[eff][db][:int(eff*5), 1]\n",
    "get_et = lambda eff, db : policies[eff][db][:int(eff*5), 0]"
   ],
   "outputs": [],
   "execution_count": 17
  },
  {
   "metadata": {
    "ExecuteTime": {
     "end_time": "2024-07-09T09:09:55.035221Z",
     "start_time": "2024-07-09T09:09:54.913217Z"
    }
   },
   "cell_type": "code",
   "source": [
    "import matplotlib.pyplot as plt\n",
    "import numpy as np\n",
    "\n",
    "# Generate some sample data\n",
    "col = 0\n",
    "data1 = policies[0.2][1][:int(0.2*5), col]\n",
    "data2 = policies[0.2][10][:int(0.2*5), col]\n",
    "data3 = policies[0.2][1000][:int(0.2*5), col]\n",
    "data4 = policies[0.4][1][:int(0.4*5), col]\n",
    "data5 = policies[0.4][10][:int(0.4*5), col]\n",
    "data6 = policies[0.4][1000][:int(0.4*5), col]\n",
    "data7 = policies[0.6][1][:int(0.6*5), col]\n",
    "data8 = policies[0.6][10][:int(0.6*5), col]\n",
    "data9 = policies[0.6][1000][:int(0.6*5), col]\n",
    "data10 = policies[0.8][1][:int(0.8*5), col]\n",
    "data11 = policies[0.8][10][:int(0.8*5), col]\n",
    "data12 = policies[0.8][1000][:int(0.8*5), col]\n",
    "\n",
    "fig, ax = plt.subplots()\n",
    "\n",
    "# Positions of the boxplots\n",
    "positions = [1, 2, 3, 5, 6, 7, 9, 10, 11, 13, 14, 15]\n",
    "\n",
    "# Plotting the boxplots\n",
    "ax.boxplot(data1, positions=[positions[0]], widths=0.6, patch_artist=True, boxprops=dict(facecolor='lightblue'))\n",
    "ax.boxplot(data2, positions=[positions[1]], widths=0.6, patch_artist=True, boxprops=dict(facecolor='lightgreen'))\n",
    "ax.boxplot(data3, positions=[positions[2]], widths=0.6, patch_artist=True, boxprops=dict(facecolor='lightcoral'))\n",
    "ax.boxplot(data4, positions=[positions[3]], widths=0.6, patch_artist=True, boxprops=dict(facecolor='lightblue'))\n",
    "ax.boxplot(data5, positions=[positions[4]], widths=0.6, patch_artist=True, boxprops=dict(facecolor='lightgreen'))\n",
    "ax.boxplot(data6, positions=[positions[5]], widths=0.6, patch_artist=True, boxprops=dict(facecolor='lightcoral'))\n",
    "ax.boxplot(data7, positions=[positions[6]], widths=0.6, patch_artist=True, boxprops=dict(facecolor='lightblue'))\n",
    "ax.boxplot(data8, positions=[positions[7]], widths=0.6, patch_artist=True, boxprops=dict(facecolor='lightgreen'))\n",
    "ax.boxplot(data9, positions=[positions[8]], widths=0.6, patch_artist=True, boxprops=dict(facecolor='lightcoral'))\n",
    "ax.boxplot(data10, positions=[positions[9]], widths=0.6, patch_artist=True, boxprops=dict(facecolor='lightblue'))\n",
    "ax.boxplot(data11, positions=[positions[10]], widths=0.6, patch_artist=True, boxprops=dict(facecolor='lightgreen'))\n",
    "ax.boxplot(data12, positions=[positions[11]], widths=0.6, patch_artist=True, boxprops=dict(facecolor='lightcoral'))\n",
    "\n",
    "# Setting the x-axis labels\n",
    "ax.set_xticks([2, 6, 10, 14])\n",
    "ax.set_xticklabels(['20%', '40%', '60%', '80%'])\n",
    "\n",
    "# Adding grid\n",
    "ax.yaxis.grid(True)\n",
    "\n",
    "# Set the title and labels\n",
    "ax.set_title('')\n",
    "ax.set_xlabel('% Of efficient agents')\n",
    "ax.set_ylabel('Value')\n",
    "\n",
    "plt.show()\n"
   ],
   "id": "ddf4178a80359ed0",
   "outputs": [
    {
     "data": {
      "text/plain": [
       "<Figure size 640x480 with 1 Axes>"
      ],
      "image/png": "[encoded data removed]"
     },
     "metadata": {},
     "output_type": "display_data"
    }
   ],
   "execution_count": 18
  },
  {
   "metadata": {
    "ExecuteTime": {
     "end_time": "2024-07-09T08:48:52.402120Z",
     "start_time": "2024-07-09T08:48:52.397755Z"
    }
   },
   "cell_type": "code",
   "source": [
    "get_ind = lambda eff, db : policies[eff][db][:int(eff*5), 1]\n",
    "get_et = lambda eff, db : policies[eff][db][:int(eff*5), 0]\n",
    "get(0.2, 1)"
   ],
   "id": "994f2ecc86d60f29",
   "outputs": [
    {
     "data": {
      "text/plain": [
       "array([-57.398])"
      ]
     },
     "execution_count": 9,
     "metadata": {},
     "output_type": "execute_result"
    }
   ],
   "execution_count": 9
  }
 ],
 "metadata": {
  "kernelspec": {
   "display_name": "Python 3",
   "language": "python",
   "name": "python3"
  },
  "language_info": {
   "codemirror_mode": {
    "name": "ipython",
    "version": 2
   },
   "file_extension": ".py",
   "mimetype": "text/x-python",
   "name": "python",
   "nbconvert_exporter": "python",
   "pygments_lexer": "ipython2",
   "version": "2.7.6"
  }
 },
 "nbformat": 4,
 "nbformat_minor": 5
}
