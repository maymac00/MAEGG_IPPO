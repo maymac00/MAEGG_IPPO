{
 "cells": [
  {
   "cell_type": "code",
   "execution_count": 32,
   "id": "initial_id",
   "metadata": {
    "collapsed": true,
    "ExecuteTime": {
     "end_time": "2024-04-23T07:15:56.671906151Z",
     "start_time": "2024-04-23T07:15:56.595315823Z"
    }
   },
   "outputs": [],
   "source": [
    "import pandas as pd\n",
    "import numpy as np\n",
    "path = \"ECAI\"\n",
    "\n",
    "def get_intersection(v01, ve1, v02, ve2):\n",
    "    # handle division by zero masking out the positions where the denominator is zero\n",
    "    denominator = ve2 - ve1\n",
    "    if isinstance(denominator, np.ndarray):\n",
    "        denominator[denominator == 0] = np.nan\n",
    "    else:\n",
    "        if denominator == 0:\n",
    "            return np.nan\n",
    "    wes = (v01 - v02) / denominator\n",
    "    return np.round(wes[(wes >= 0) & (wes <= 10)], 2)"
   ]
  },
  {
   "cell_type": "code",
   "outputs": [
    {
     "data": {
      "text/plain": "(2.4719976019184653, 1.6991766139698001, 2.18)"
     },
     "execution_count": 33,
     "metadata": {},
     "output_type": "execute_result"
    }
   ],
   "source": [
    "# New method\n",
    "folder = lambda db, eff, we : f\"/db{db}_effrate{eff}_we{we}_ECAI\"\n",
    "unethical = pd.read_csv(path + folder(0, 0.2, 0)*2  + \"/mo_rewards.csv\")\n",
    "unethical_np = unethical.to_numpy().reshape(-1, 5, 2)\n",
    "ethical = pd.read_csv(path + folder(1, 0.2, 10)*2  + \"/mo_rewards.csv\")\n",
    "ethical_np = ethical.to_numpy().reshape(-1, 5, 2)\n",
    "\n",
    "# wes  = get_intersection(ethical_np[:, 0, 0], ethical_np[:, 0, 1], unethical_np[:, 0, 1], unethical_np[:, 0, 1])\n",
    "wes = get_intersection(unethical_np[:, 0, 0], unethical_np[:, 0, 1], ethical_np[:, 0, 0], ethical_np[:, 0, 1])\n",
    "wes.mean(), wes.std(), np.median(wes)"
   ],
   "metadata": {
    "collapsed": false,
    "ExecuteTime": {
     "end_time": "2024-04-23T07:15:56.708986702Z",
     "start_time": "2024-04-23T07:15:56.654348148Z"
    }
   },
   "id": "6eb156954f09a1a6",
   "execution_count": 33
  },
  {
   "cell_type": "code",
   "outputs": [
    {
     "data": {
      "text/plain": "(1.75, 0.0)"
     },
     "execution_count": 34,
     "metadata": {},
     "output_type": "execute_result"
    }
   ],
   "source": [
    "# Old method\n",
    "folder = lambda db, eff, we : f\"/db{db}_effrate{eff}_we{we}_ECAI\"\n",
    "unethical = pd.read_csv(path + folder(0, 0.2, 0)*2  + \"/mo_rewards.csv\")\n",
    "unethical_np = unethical.to_numpy().reshape(-1, 5, 2).mean(axis=0)\n",
    "ethical = pd.read_csv(path + folder(1, 0.2, 10)*2  + \"/mo_rewards.csv\")\n",
    "ethical_np = ethical.to_numpy().reshape(-1, 5, 2).mean(axis=0)\n",
    "\n",
    "wes  = get_intersection(unethical_np[0, 0], unethical_np[0, 1], ethical_np[0, 0], ethical_np[0, 1])\n",
    "wes.mean(), wes.std()"
   ],
   "metadata": {
    "collapsed": false,
    "ExecuteTime": {
     "end_time": "2024-04-23T07:15:56.727864879Z",
     "start_time": "2024-04-23T07:15:56.678700780Z"
    }
   },
   "id": "31dca464b575976a",
   "execution_count": 34
  },
  {
   "cell_type": "code",
   "outputs": [
    {
     "name": "stdout",
     "output_type": "stream",
     "text": [
      "2.37 +- 1.73 Median 2.08\n",
      "2.53 +- 1.73 Median 2.23\n",
      "2.48 +- 1.65 Median 2.2\n",
      "2.49 +- 1.74 Median 2.09\n",
      "2.42 +- 1.72 Median 2.09\n",
      "2.34 +- 1.57 Median 2.12\n",
      "2.52 +- 1.74 Median 2.15\n",
      "2.59 +- 1.81 Median 2.34\n",
      "2.47 +- 1.66 Median 2.2\n",
      "2.5 +- 1.6 Median 2.31\n"
     ]
    }
   ],
   "source": [
    "# New By groups of 500\n",
    "\n",
    "unethical = pd.read_csv(path + folder(0, 0.2, 0)*2  + \"/mo_rewards.csv\")\n",
    "unethical_np = unethical.to_numpy().reshape(-1, 5, 2)\n",
    "ethical = pd.read_csv(path + folder(1, 0.2, 10)*2  + \"/mo_rewards.csv\")\n",
    "ethical_np = ethical.to_numpy().reshape(-1, 5, 2)\n",
    "unethical_np = unethical_np.reshape(-1, 500, 5, 2)\n",
    "ethical_np = ethical_np.reshape(-1, 500, 5, 2)\n",
    "\n",
    "wes = []\n",
    "for i in range(unethical_np.shape[0]):\n",
    "    wes.append(get_intersection(unethical_np[i, :, 0, 0], unethical_np[i, :, 0, 1], ethical_np[i, :, 0, 0], ethical_np[i, :, 0, 1]))\n",
    "    \n",
    "for we in wes:\n",
    "    print(we.mean().round(2), \"+-\", we.std().round(2), \"Median\" ,np.median(we))"
   ],
   "metadata": {
    "collapsed": false,
    "ExecuteTime": {
     "end_time": "2024-04-23T07:15:56.728265627Z",
     "start_time": "2024-04-23T07:15:56.709456627Z"
    }
   },
   "id": "ce1ba3512497a6b3",
   "execution_count": 35
  },
  {
   "cell_type": "code",
   "outputs": [
    {
     "data": {
      "text/plain": "(array([1.756]), array([0.13821722]), array([1.74]))"
     },
     "execution_count": 53,
     "metadata": {},
     "output_type": "execute_result"
    }
   ],
   "source": [
    "# Old By groups of 500\n",
    "\n",
    "unethical = pd.read_csv(path + folder(0, 0.2, 0)*2  + \"/mo_rewards.csv\")\n",
    "unethical_np = unethical.to_numpy().reshape(-1, 500, 5, 2).mean(axis=1)\n",
    "ethical = pd.read_csv(path + folder(1, 0.2, 10)*2  + \"/mo_rewards.csv\")\n",
    "ethical_np = ethical.to_numpy().reshape(-1, 500, 5, 2).mean(axis=1)\n",
    "\n",
    "wes = []\n",
    "for i in range(unethical_np.shape[0]):\n",
    "    wes.append(get_intersection(unethical_np[i, 0, 0], unethical_np[i, 0, 1], ethical_np[i,0, 0], ethical_np[i, 0, 1]))\n",
    "    \n",
    "we = np.array(wes)\n",
    "we.mean(axis=0), we.std(axis=0), np.median(we, axis=0)"
   ],
   "metadata": {
    "collapsed": false,
    "ExecuteTime": {
     "end_time": "2024-04-23T07:29:28.701369613Z",
     "start_time": "2024-04-23T07:29:28.656237718Z"
    }
   },
   "id": "c3f494455bd7f446",
   "execution_count": 53
  },
  {
   "cell_type": "code",
   "outputs": [
    {
     "data": {
      "text/plain": "array([[0.        , 0.        , 0.        , 0.        ],\n       [0.        , 1.74      , 1.625     , 1.945     ],\n       [0.        , 5.165     , 2.16666667, 1.8       ]])"
     },
     "execution_count": 95,
     "metadata": {},
     "output_type": "execute_result"
    }
   ],
   "source": [
    "eff_rates = [0, 0.2, 0.6]\n",
    "dbs = [0, 1, 10, 100]\n",
    "wes = [0, 10]\n",
    "we = np.zeros((len(eff_rates), len(dbs)))\n",
    "we_std = np.zeros((len(eff_rates), len(dbs)))\n",
    "we_median = np.zeros((len(eff_rates), len(dbs)))\n",
    "for eff_rate in eff_rates:\n",
    "    for db in dbs:\n",
    "        if eff_rate == 0:\n",
    "            continue\n",
    "        unethical = pd.read_csv(path + folder(0, eff_rate, 0)*2  + \"/mo_rewards.csv\")\n",
    "        unethical_np = unethical.to_numpy().reshape(-1, 500, 5, 2).mean(axis=1)\n",
    "        ethical = pd.read_csv(path + folder(db, eff_rate, 10)*2  + \"/mo_rewards.csv\")\n",
    "        ethical_np = ethical.to_numpy().reshape(-1, 500, 5, 2).mean(axis=1)\n",
    "\n",
    "        wes = []\n",
    "        for i in range(unethical_np.shape[0]):\n",
    "            wag = []\n",
    "            for ag in range(5):\n",
    "                w = get_intersection(unethical_np[i, ag, 0], unethical_np[i, ag, 1], ethical_np[i, ag, 0], ethical_np[i, ag, 1])\n",
    "                if not np.isnan(w).all():\n",
    "                    wag.append(w)\n",
    "            if np.isnan(wag).all():\n",
    "                continue\n",
    "            wes.append(np.mean(wag, axis=0))\n",
    "        if len(wes) == 0:\n",
    "            continue\n",
    "        we[eff_rates.index(eff_rate), dbs.index(db)] = np.array(wes).mean(axis=0).squeeze()\n",
    "        we_std[eff_rates.index(eff_rate), dbs.index(db)] = np.array(wes).std(axis=0).squeeze()\n",
    "        we_median[eff_rates.index(eff_rate), dbs.index(db)] = np.median(np.array(wes), axis=0).squeeze()\n",
    "        \n",
    "we_median"
   ],
   "metadata": {
    "collapsed": false,
    "ExecuteTime": {
     "end_time": "2024-04-23T08:00:05.725985422Z",
     "start_time": "2024-04-23T08:00:05.633098756Z"
    }
   },
   "id": "f6e06d9e6346c5b9",
   "execution_count": 95
  },
  {
   "cell_type": "code",
   "outputs": [],
   "source": [],
   "metadata": {
    "collapsed": false
   },
   "id": "f8e7124b41399cf4"
  }
 ],
 "metadata": {
  "kernelspec": {
   "display_name": "Python 3",
   "language": "python",
   "name": "python3"
  },
  "language_info": {
   "codemirror_mode": {
    "name": "ipython",
    "version": 2
   },
   "file_extension": ".py",
   "mimetype": "text/x-python",
   "name": "python",
   "nbconvert_exporter": "python",
   "pygments_lexer": "ipython2",
   "version": "2.7.6"
  }
 },
 "nbformat": 4,
 "nbformat_minor": 5
}
