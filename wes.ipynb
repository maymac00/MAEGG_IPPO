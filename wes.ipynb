{
 "cells": [
  {
   "cell_type": "code",
   "execution_count": 112,
   "id": "initial_id",
   "metadata": {
    "collapsed": true,
    "ExecuteTime": {
     "end_time": "2024-04-23T08:55:35.588962996Z",
     "start_time": "2024-04-23T08:55:35.570541304Z"
    }
   },
   "outputs": [],
   "source": [
    "import pandas as pd\n",
    "import numpy as np\n",
    "path = \"ECAI\"\n",
    "\n",
    "def get_intersection(v01, ve1, v02, ve2):\n",
    "    # handle division by zero masking out the positions where the denominator is zero\n",
    "    denominator = ve2 - ve1\n",
    "    if isinstance(denominator, np.ndarray):\n",
    "        denominator[denominator == 0] = np.nan\n",
    "    else:\n",
    "        if denominator == 0:\n",
    "            return np.nan\n",
    "    wes = (v01 - v02) / denominator\n",
    "    return np.round(wes[(wes >= 0) & (wes <= 10)], 2)"
   ]
  },
  {
   "cell_type": "code",
   "outputs": [
    {
     "data": {
      "text/plain": "(2.4719976019184653, 1.6991766139698001, 2.18)"
     },
     "execution_count": 113,
     "metadata": {},
     "output_type": "execute_result"
    }
   ],
   "source": [
    "# New method\n",
    "folder = lambda db, eff, we : f\"/db{db}_effrate{eff}_we{we}_ECAI\"\n",
    "unethical = pd.read_csv(path + folder(0, 0.2, 0)*2  + \"/mo_rewards.csv\")\n",
    "unethical_np = unethical.to_numpy().reshape(-1, 5, 2)\n",
    "ethical = pd.read_csv(path + folder(1, 0.2, 10)*2  + \"/mo_rewards.csv\")\n",
    "ethical_np = ethical.to_numpy().reshape(-1, 5, 2)\n",
    "\n",
    "# wes  = get_intersection(ethical_np[:, 0, 0], ethical_np[:, 0, 1], unethical_np[:, 0, 1], unethical_np[:, 0, 1])\n",
    "wes = get_intersection(unethical_np[:, 0, 0], unethical_np[:, 0, 1], ethical_np[:, 0, 0], ethical_np[:, 0, 1])\n",
    "wes.mean(), wes.std(), np.median(wes)"
   ],
   "metadata": {
    "collapsed": false,
    "ExecuteTime": {
     "end_time": "2024-04-23T08:55:35.610470701Z",
     "start_time": "2024-04-23T08:55:35.592460570Z"
    }
   },
   "id": "6eb156954f09a1a6",
   "execution_count": 113
  },
  {
   "cell_type": "code",
   "outputs": [
    {
     "data": {
      "text/plain": "(1.75, 0.0)"
     },
     "execution_count": 114,
     "metadata": {},
     "output_type": "execute_result"
    }
   ],
   "source": [
    "# Old method\n",
    "folder = lambda db, eff, we : f\"/db{db}_effrate{eff}_we{we}_ECAI\"\n",
    "unethical = pd.read_csv(path + folder(0, 0.2, 0)*2  + \"/mo_rewards.csv\")\n",
    "unethical_np = unethical.to_numpy().reshape(-1, 5, 2).mean(axis=0)\n",
    "ethical = pd.read_csv(path + folder(1, 0.2, 10)*2  + \"/mo_rewards.csv\")\n",
    "ethical_np = ethical.to_numpy().reshape(-1, 5, 2).mean(axis=0)\n",
    "\n",
    "wes  = get_intersection(unethical_np[0, 0], unethical_np[0, 1], ethical_np[0, 0], ethical_np[0, 1])\n",
    "wes.mean(), wes.std()"
   ],
   "metadata": {
    "collapsed": false,
    "ExecuteTime": {
     "end_time": "2024-04-23T08:55:35.670917357Z",
     "start_time": "2024-04-23T08:55:35.612159393Z"
    }
   },
   "id": "31dca464b575976a",
   "execution_count": 114
  },
  {
   "cell_type": "code",
   "outputs": [
    {
     "name": "stdout",
     "output_type": "stream",
     "text": [
      "2.37 +- 1.73 Median 2.08\n",
      "2.53 +- 1.73 Median 2.23\n",
      "2.48 +- 1.65 Median 2.2\n",
      "2.49 +- 1.74 Median 2.09\n",
      "2.42 +- 1.72 Median 2.09\n",
      "2.34 +- 1.57 Median 2.12\n",
      "2.52 +- 1.74 Median 2.15\n",
      "2.59 +- 1.81 Median 2.34\n",
      "2.47 +- 1.66 Median 2.2\n",
      "2.5 +- 1.6 Median 2.31\n"
     ]
    }
   ],
   "source": [
    "# New By groups of 500\n",
    "\n",
    "unethical = pd.read_csv(path + folder(0, 0.2, 0)*2  + \"/mo_rewards.csv\")\n",
    "unethical_np = unethical.to_numpy().reshape(-1, 5, 2)\n",
    "ethical = pd.read_csv(path + folder(1, 0.2, 10)*2  + \"/mo_rewards.csv\")\n",
    "ethical_np = ethical.to_numpy().reshape(-1, 5, 2)\n",
    "unethical_np = unethical_np.reshape(-1, 500, 5, 2)\n",
    "ethical_np = ethical_np.reshape(-1, 500, 5, 2)\n",
    "\n",
    "wes = []\n",
    "for i in range(unethical_np.shape[0]):\n",
    "    wes.append(get_intersection(unethical_np[i, :, 0, 0], unethical_np[i, :, 0, 1], ethical_np[i, :, 0, 0], ethical_np[i, :, 0, 1]))\n",
    "    \n",
    "for we in wes:\n",
    "    print(we.mean().round(2), \"+-\", we.std().round(2), \"Median\" ,np.median(we))"
   ],
   "metadata": {
    "collapsed": false,
    "ExecuteTime": {
     "end_time": "2024-04-23T08:55:35.671387030Z",
     "start_time": "2024-04-23T08:55:35.666918629Z"
    }
   },
   "id": "ce1ba3512497a6b3",
   "execution_count": 115
  },
  {
   "cell_type": "code",
   "outputs": [
    {
     "data": {
      "text/plain": "(array([1.756]), array([0.13821722]), array([1.74]))"
     },
     "execution_count": 116,
     "metadata": {},
     "output_type": "execute_result"
    }
   ],
   "source": [
    "# Old By groups of 500\n",
    "\n",
    "unethical = pd.read_csv(path + folder(0, 0.2, 0)*2  + \"/mo_rewards.csv\")\n",
    "unethical_np = unethical.to_numpy().reshape(-1, 500, 5, 2).mean(axis=1)\n",
    "ethical = pd.read_csv(path + folder(1, 0.2, 10)*2  + \"/mo_rewards.csv\")\n",
    "ethical_np = ethical.to_numpy().reshape(-1, 500, 5, 2).mean(axis=1)\n",
    "\n",
    "wes = []\n",
    "for i in range(unethical_np.shape[0]):\n",
    "    wes.append(get_intersection(unethical_np[i, 0, 0], unethical_np[i, 0, 1], ethical_np[i,0, 0], ethical_np[i, 0, 1]))\n",
    "    \n",
    "we = np.array(wes)\n",
    "we.mean(axis=0), we.std(axis=0), np.median(we, axis=0)"
   ],
   "metadata": {
    "collapsed": false,
    "ExecuteTime": {
     "end_time": "2024-04-23T08:55:35.671805174Z",
     "start_time": "2024-04-23T08:55:35.667081929Z"
    }
   },
   "id": "c3f494455bd7f446",
   "execution_count": 116
  },
  {
   "cell_type": "code",
   "outputs": [
    {
     "ename": "KeyboardInterrupt",
     "evalue": "",
     "output_type": "error",
     "traceback": [
      "\u001B[0;31m---------------------------------------------------------------------------\u001B[0m",
      "\u001B[0;31mKeyboardInterrupt\u001B[0m                         Traceback (most recent call last)",
      "Cell \u001B[0;32mIn[127], line 21\u001B[0m\n\u001B[1;32m     18\u001B[0m ethical_np \u001B[38;5;241m=\u001B[39m ethical\u001B[38;5;241m.\u001B[39mto_numpy()\u001B[38;5;241m.\u001B[39mreshape(\u001B[38;5;241m-\u001B[39m\u001B[38;5;241m1\u001B[39m, \u001B[38;5;241m500\u001B[39m, \u001B[38;5;241m5\u001B[39m, \u001B[38;5;241m2\u001B[39m)\u001B[38;5;241m.\u001B[39mmean(axis\u001B[38;5;241m=\u001B[39m\u001B[38;5;241m1\u001B[39m)\n\u001B[1;32m     20\u001B[0m wes \u001B[38;5;241m=\u001B[39m []\n\u001B[0;32m---> 21\u001B[0m \u001B[38;5;28;01mfor\u001B[39;00m i \u001B[38;5;129;01min\u001B[39;00m \u001B[38;5;28mrange\u001B[39m(unethical_np\u001B[38;5;241m.\u001B[39mshape[\u001B[38;5;241m0\u001B[39m]):\n\u001B[1;32m     22\u001B[0m     wag \u001B[38;5;241m=\u001B[39m []\n\u001B[1;32m     23\u001B[0m     \u001B[38;5;28;01mfor\u001B[39;00m ag \u001B[38;5;129;01min\u001B[39;00m \u001B[38;5;28mrange\u001B[39m(\u001B[38;5;241m5\u001B[39m):\n",
      "File \u001B[0;32m/opt/pycharm-professional/plugins/python/helpers/pydev/_pydevd_bundle/pydevd_cython.pyx:1187\u001B[0m, in \u001B[0;36m_pydevd_bundle.pydevd_cython.SafeCallWrapper.__call__\u001B[0;34m()\u001B[0m\n",
      "File \u001B[0;32m/opt/pycharm-professional/plugins/python/helpers/pydev/_pydevd_bundle/pydevd_cython.pyx:627\u001B[0m, in \u001B[0;36m_pydevd_bundle.pydevd_cython.PyDBFrame.trace_dispatch\u001B[0;34m()\u001B[0m\n",
      "File \u001B[0;32m/opt/pycharm-professional/plugins/python/helpers/pydev/_pydevd_bundle/pydevd_cython.pyx:937\u001B[0m, in \u001B[0;36m_pydevd_bundle.pydevd_cython.PyDBFrame.trace_dispatch\u001B[0;34m()\u001B[0m\n",
      "File \u001B[0;32m/opt/pycharm-professional/plugins/python/helpers/pydev/_pydevd_bundle/pydevd_cython.pyx:928\u001B[0m, in \u001B[0;36m_pydevd_bundle.pydevd_cython.PyDBFrame.trace_dispatch\u001B[0;34m()\u001B[0m\n",
      "File \u001B[0;32m/opt/pycharm-professional/plugins/python/helpers/pydev/_pydevd_bundle/pydevd_cython.pyx:585\u001B[0m, in \u001B[0;36m_pydevd_bundle.pydevd_cython.PyDBFrame.do_wait_suspend\u001B[0;34m()\u001B[0m\n",
      "File \u001B[0;32m/opt/pycharm-professional/plugins/python/helpers/pydev/pydevd.py:1184\u001B[0m, in \u001B[0;36mPyDB.do_wait_suspend\u001B[0;34m(self, thread, frame, event, arg, send_suspend_message, is_unhandled_exception)\u001B[0m\n\u001B[1;32m   1181\u001B[0m         from_this_thread\u001B[38;5;241m.\u001B[39mappend(frame_id)\n\u001B[1;32m   1183\u001B[0m \u001B[38;5;28;01mwith\u001B[39;00m \u001B[38;5;28mself\u001B[39m\u001B[38;5;241m.\u001B[39m_threads_suspended_single_notification\u001B[38;5;241m.\u001B[39mnotify_thread_suspended(thread_id, stop_reason):\n\u001B[0;32m-> 1184\u001B[0m     \u001B[38;5;28;43mself\u001B[39;49m\u001B[38;5;241;43m.\u001B[39;49m\u001B[43m_do_wait_suspend\u001B[49m\u001B[43m(\u001B[49m\u001B[43mthread\u001B[49m\u001B[43m,\u001B[49m\u001B[43m \u001B[49m\u001B[43mframe\u001B[49m\u001B[43m,\u001B[49m\u001B[43m \u001B[49m\u001B[43mevent\u001B[49m\u001B[43m,\u001B[49m\u001B[43m \u001B[49m\u001B[43marg\u001B[49m\u001B[43m,\u001B[49m\u001B[43m \u001B[49m\u001B[43msuspend_type\u001B[49m\u001B[43m,\u001B[49m\u001B[43m \u001B[49m\u001B[43mfrom_this_thread\u001B[49m\u001B[43m)\u001B[49m\n",
      "File \u001B[0;32m/opt/pycharm-professional/plugins/python/helpers/pydev/pydevd.py:1199\u001B[0m, in \u001B[0;36mPyDB._do_wait_suspend\u001B[0;34m(self, thread, frame, event, arg, suspend_type, from_this_thread)\u001B[0m\n\u001B[1;32m   1196\u001B[0m             \u001B[38;5;28mself\u001B[39m\u001B[38;5;241m.\u001B[39m_call_mpl_hook()\n\u001B[1;32m   1198\u001B[0m         \u001B[38;5;28mself\u001B[39m\u001B[38;5;241m.\u001B[39mprocess_internal_commands()\n\u001B[0;32m-> 1199\u001B[0m         time\u001B[38;5;241m.\u001B[39msleep(\u001B[38;5;241m0.01\u001B[39m)\n\u001B[1;32m   1201\u001B[0m \u001B[38;5;28mself\u001B[39m\u001B[38;5;241m.\u001B[39mcancel_async_evaluation(get_current_thread_id(thread), \u001B[38;5;28mstr\u001B[39m(\u001B[38;5;28mid\u001B[39m(frame)))\n\u001B[1;32m   1203\u001B[0m \u001B[38;5;66;03m# process any stepping instructions\u001B[39;00m\n",
      "\u001B[0;31mKeyboardInterrupt\u001B[0m: "
     ]
    }
   ],
   "source": [
    "eff_rates = [0, 0.2, 0.6, 1]\n",
    "dbs = [0, 1, 10, 100]\n",
    "\n",
    "we = np.zeros((len(eff_rates), len(dbs), 10))\n",
    "we_std = np.zeros((len(eff_rates), len(dbs)))\n",
    "we_median = np.zeros((len(eff_rates), len(dbs)))\n",
    "\n",
    "for eff_rate in eff_rates:\n",
    "    for db in dbs:\n",
    "        if eff_rate == 0:\n",
    "            continue\n",
    "        if eff_rate == 1:\n",
    "            unethical = pd.read_csv(path + folder(0, eff_rate, 10)*2  + \"/mo_rewards.csv\")\n",
    "        else:\n",
    "            unethical = pd.read_csv(path + folder(0, eff_rate, 0)*2  + \"/mo_rewards.csv\")\n",
    "        unethical_np = unethical.to_numpy().reshape(-1, 500, 5, 2).mean(axis=1)\n",
    "        ethical = pd.read_csv(path + folder(db, eff_rate, 10)*2  + \"/mo_rewards.csv\")\n",
    "        ethical_np = ethical.to_numpy().reshape(-1, 500, 5, 2).mean(axis=1)\n",
    "\n",
    "        wes = []\n",
    "        for i in range(unethical_np.shape[0]):\n",
    "            wag = []\n",
    "            for ag in range(5):\n",
    "                w = get_intersection(unethical_np[i, ag, 0], unethical_np[i, ag, 1], ethical_np[i, ag, 0], ethical_np[i, ag, 1])\n",
    "                if not np.isnan(w).all():\n",
    "                    wag.append(w)\n",
    "            if np.isnan(wag).all():\n",
    "                continue\n",
    "            wes.append(np.mean(wag))\n",
    "        if len(wes) == 0:\n",
    "            continue\n",
    "        we[eff_rates.index(eff_rate), dbs.index(db)] = np.array(wes)\n",
    "        \"\"\"we[eff_rates.index(eff_rate), dbs.index(db)] = np.array(wes).mean(axis=0).squeeze()\n",
    "        we_std[eff_rates.index(eff_rate), dbs.index(db)] = np.array(wes).std(axis=0).squeeze()\n",
    "        we_median[eff_rates.index(eff_rate), dbs.index(db)] = np.median(np.array(wes), axis=0).squeeze()\"\"\"\n",
    "we[eff_rates.index(1), 1:].mean(axis=1)"
   ],
   "metadata": {
    "collapsed": false,
    "ExecuteTime": {
     "end_time": "2024-04-23T09:46:26.316717782Z",
     "start_time": "2024-04-23T09:35:59.944486832Z"
    }
   },
   "id": "f6e06d9e6346c5b9",
   "execution_count": 133
  },
  {
   "cell_type": "code",
   "outputs": [
    {
     "data": {
      "text/plain": "array([0.   , 4.617, 6.597])"
     },
     "execution_count": 118,
     "metadata": {},
     "output_type": "execute_result"
    }
   ],
   "source": [
    "we[eff_rates.index(1), 1:].mean(axis=1)"
   ],
   "metadata": {
    "collapsed": false,
    "ExecuteTime": {
     "end_time": "2024-04-23T08:55:35.823823681Z",
     "start_time": "2024-04-23T08:55:35.782940866Z"
    }
   },
   "id": "f329389e676e96e5",
   "execution_count": 118
  },
  {
   "cell_type": "code",
   "outputs": [
    {
     "name": "stdout",
     "output_type": "stream",
     "text": [
      "0.0\n",
      "1.7559999999999998\n",
      "1.585\n",
      "1.9810000000000003\n"
     ]
    }
   ],
   "source": [
    "for db in dbs:\n",
    "    print(we[eff_rates.index(0.2), dbs.index(db)].mean())"
   ],
   "metadata": {
    "collapsed": false,
    "ExecuteTime": {
     "end_time": "2024-04-23T08:55:35.824483035Z",
     "start_time": "2024-04-23T08:55:35.823605055Z"
    }
   },
   "id": "26016f63083af703",
   "execution_count": 119
  },
  {
   "cell_type": "code",
   "outputs": [
    {
     "data": {
      "text/plain": "F_onewayResult(statistic=23.327105874107495, pvalue=1.306903150069376e-06)"
     },
     "execution_count": 120,
     "metadata": {},
     "output_type": "execute_result"
    }
   ],
   "source": [
    "from scipy.stats import f_oneway\n",
    " \n",
    "# Conduct the one-way ANOVA\n",
    "f_oneway(we[eff_rates.index(0.2), dbs.index(1)], we[eff_rates.index(0.2), dbs.index(10)], we[eff_rates.index(0.2), dbs.index(100)])"
   ],
   "metadata": {
    "collapsed": false,
    "ExecuteTime": {
     "end_time": "2024-04-23T08:55:36.271385279Z",
     "start_time": "2024-04-23T08:55:35.823731159Z"
    }
   },
   "id": "f8e7124b41399cf4",
   "execution_count": 120
  }
 ],
 "metadata": {
  "kernelspec": {
   "display_name": "Python 3",
   "language": "python",
   "name": "python3"
  },
  "language_info": {
   "codemirror_mode": {
    "name": "ipython",
    "version": 2
   },
   "file_extension": ".py",
   "mimetype": "text/x-python",
   "name": "python",
   "nbconvert_exporter": "python",
   "pygments_lexer": "ipython2",
   "version": "2.7.6"
  }
 },
 "nbformat": 4,
 "nbformat_minor": 5
}
