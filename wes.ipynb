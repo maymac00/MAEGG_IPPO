{
 "cells": [
  {
   "cell_type": "code",
   "id": "initial_id",
   "metadata": {
    "collapsed": true,
    "ExecuteTime": {
     "end_time": "2024-06-05T07:44:09.720554Z",
     "start_time": "2024-06-05T07:44:09.710988Z"
    }
   },
   "source": [
    "import pandas as pd\n",
    "import numpy as np\n",
    "path = \"beegfs/ECAI\"\n",
    "\n",
    "def get_intersection(v01, ve1, v02, ve2, max_weight=10):\n",
    "    # handle division by zero masking out the positions where the denominator is zero\n",
    "    denominator = ve2 - ve1\n",
    "    if isinstance(denominator, np.ndarray):\n",
    "        denominator[denominator == 0] = np.nan\n",
    "    else:\n",
    "        if denominator == 0:\n",
    "            return np.nan\n",
    "    wes = (v01 - v02) / denominator\n",
    "    return np.round(wes[(wes >= 0) & (wes <= max_weight)], 2)\n"
   ],
   "outputs": [],
   "execution_count": 13
  },
  {
   "cell_type": "code",
   "source": [
    "# New method\n",
    "folder = lambda db, eff, we : f\"/db{db}_effrate{eff}_we{we}_ECAI\"\n",
    "unethical = pd.read_csv(path + folder(0, 0.2, 0)*2  + \"/mo_rewards.csv\")\n",
    "unethical_np = unethical.to_numpy().reshape(-1, 5, 2)\n",
    "ethical = pd.read_csv(path + folder(1, 0.2, 10)*2  + \"/mo_rewards.csv\")\n",
    "ethical_np = ethical.to_numpy().reshape(-1, 5, 2)\n",
    "\n",
    "# wes  = get_intersection(ethical_np[:, 0, 0], ethical_np[:, 0, 1], unethical_np[:, 0, 1], unethical_np[:, 0, 1])\n",
    "wes = get_intersection(unethical_np[:, 0, 0], unethical_np[:, 0, 1], ethical_np[:, 0, 0], ethical_np[:, 0, 1])\n",
    "wes.mean(), wes.std(), np.median(wes)"
   ],
   "metadata": {
    "collapsed": false,
    "ExecuteTime": {
     "end_time": "2024-06-05T07:44:09.805093Z",
     "start_time": "2024-06-05T07:44:09.757711Z"
    }
   },
   "id": "6eb156954f09a1a6",
   "outputs": [
    {
     "data": {
      "text/plain": [
       "(2.4719976019184653, 1.6991766139698001, 2.18)"
      ]
     },
     "execution_count": 14,
     "metadata": {},
     "output_type": "execute_result"
    }
   ],
   "execution_count": 14
  },
  {
   "cell_type": "code",
   "source": [
    "# Old method\n",
    "folder = lambda db, eff, we : f\"/db{db}_effrate{eff}_we{we}_ECAI\"\n",
    "unethical = pd.read_csv(path + folder(0, 0.2, 0)*2  + \"/mo_rewards.csv\")\n",
    "unethical_np = unethical.to_numpy().reshape(-1, 5, 2).mean(axis=0)\n",
    "ethical = pd.read_csv(path + folder(1, 0.2, 10)*2  + \"/mo_rewards.csv\")\n",
    "ethical_np = ethical.to_numpy().reshape(-1, 5, 2).mean(axis=0)\n",
    "\n",
    "wes  = get_intersection(unethical_np[0, 0], unethical_np[0, 1], ethical_np[0, 0], ethical_np[0, 1])\n",
    "wes.mean(), wes.std()"
   ],
   "metadata": {
    "collapsed": false,
    "ExecuteTime": {
     "end_time": "2024-06-05T07:44:09.841314Z",
     "start_time": "2024-06-05T07:44:09.805093Z"
    }
   },
   "id": "31dca464b575976a",
   "outputs": [
    {
     "data": {
      "text/plain": [
       "(1.75, 0.0)"
      ]
     },
     "execution_count": 15,
     "metadata": {},
     "output_type": "execute_result"
    }
   ],
   "execution_count": 15
  },
  {
   "cell_type": "code",
   "source": [
    "# New By groups of 500\n",
    "\n",
    "unethical = pd.read_csv(path + folder(0, 0.2, 0)*2  + \"/mo_rewards.csv\")\n",
    "unethical_np = unethical.to_numpy().reshape(-1, 5, 2)\n",
    "ethical = pd.read_csv(path + folder(1, 0.2, 10)*2  + \"/mo_rewards.csv\")\n",
    "ethical_np = ethical.to_numpy().reshape(-1, 5, 2)\n",
    "unethical_np = unethical_np.reshape(-1, 500, 5, 2)\n",
    "ethical_np = ethical_np.reshape(-1, 500, 5, 2)\n",
    "\n",
    "wes = []\n",
    "for i in range(unethical_np.shape[0]):\n",
    "    wes.append(get_intersection(unethical_np[i, :, 0, 0], unethical_np[i, :, 0, 1], ethical_np[i, :, 0, 0], ethical_np[i, :, 0, 1]))\n",
    "    \n",
    "for we in wes:\n",
    "    print(we.mean().round(2), \"+-\", we.std().round(2), \"Median\" ,np.median(we))"
   ],
   "metadata": {
    "collapsed": false,
    "ExecuteTime": {
     "end_time": "2024-06-05T07:44:09.868842Z",
     "start_time": "2024-06-05T07:44:09.841314Z"
    }
   },
   "id": "ce1ba3512497a6b3",
   "outputs": [
    {
     "name": "stdout",
     "output_type": "stream",
     "text": [
      "2.37 +- 1.73 Median 2.08\n",
      "2.53 +- 1.73 Median 2.23\n",
      "2.48 +- 1.65 Median 2.2\n",
      "2.49 +- 1.74 Median 2.09\n",
      "2.42 +- 1.72 Median 2.09\n",
      "2.34 +- 1.57 Median 2.12\n",
      "2.52 +- 1.74 Median 2.15\n",
      "2.59 +- 1.81 Median 2.34\n",
      "2.47 +- 1.66 Median 2.2\n",
      "2.5 +- 1.6 Median 2.31\n"
     ]
    }
   ],
   "execution_count": 16
  },
  {
   "cell_type": "code",
   "source": [
    "# Old By groups of 500\n",
    "\n",
    "unethical = pd.read_csv(path + folder(0, 0.2, 0)*2  + \"/mo_rewards.csv\")\n",
    "unethical_np = unethical.to_numpy().reshape(-1, 500, 5, 2).mean(axis=1)\n",
    "ethical = pd.read_csv(path + folder(1, 0.2, 10)*2  + \"/mo_rewards.csv\")\n",
    "ethical_np = ethical.to_numpy().reshape(-1, 500, 5, 2).mean(axis=1)\n",
    "\n",
    "wes = []\n",
    "for i in range(unethical_np.shape[0]):\n",
    "    wes.append(get_intersection(unethical_np[i, 0, 0], unethical_np[i, 0, 1], ethical_np[i,0, 0], ethical_np[i, 0, 1]))\n",
    "    \n",
    "we = np.array(wes)\n",
    "we.mean(axis=0), we.std(axis=0), np.median(we, axis=0)"
   ],
   "metadata": {
    "collapsed": false,
    "ExecuteTime": {
     "end_time": "2024-06-05T07:44:09.899496Z",
     "start_time": "2024-06-05T07:44:09.868842Z"
    }
   },
   "id": "c3f494455bd7f446",
   "outputs": [
    {
     "data": {
      "text/plain": [
       "(array([1.756]), array([0.13821722]), array([1.74]))"
      ]
     },
     "execution_count": 17,
     "metadata": {},
     "output_type": "execute_result"
    }
   ],
   "execution_count": 17
  },
  {
   "cell_type": "code",
   "source": [
    "eff_rates = [0, 0.2, 0.6, 1]\n",
    "dbs = [0, 1, 10, 100]\n",
    "\n",
    "we = np.zeros((len(eff_rates), len(dbs), 10))\n",
    "we_std = np.zeros((len(eff_rates), len(dbs)))\n",
    "we_median = np.zeros((len(eff_rates), len(dbs)))\n",
    "\n",
    "for eff_rate in eff_rates:\n",
    "    for db in dbs:\n",
    "        if eff_rate == 0:\n",
    "            continue\n",
    "        \n",
    "        unethical = pd.read_csv(path + folder(0, eff_rate, 0)*2  + \"/mo_rewards.csv\")\n",
    "        unethical_np = unethical.to_numpy().reshape(-1, 500, 5, 2).mean(axis=1)\n",
    "        \n",
    "        if eff_rate == 1 and db == 1:   \n",
    "            ethical = pd.read_csv(path + folder(db, eff_rate, 20)*2  + \"/mo_rewards.csv\")\n",
    "        else:\n",
    "            ethical = pd.read_csv(path + folder(db, eff_rate, 10)*2  + \"/mo_rewards.csv\")\n",
    "        ethical_np = ethical.to_numpy().reshape(-1, 500, 5, 2).mean(axis=1)\n",
    "\n",
    "        wes = []\n",
    "        for i in range(unethical_np.shape[0]):\n",
    "            wag = []\n",
    "            for ag in range(5):\n",
    "                max_weight = 20 if db == 1 and eff_rate == 1 else 10\n",
    "                w = get_intersection(unethical_np[i, ag, 0], unethical_np[i, ag, 1], ethical_np[i, ag, 0], ethical_np[i, ag, 1], max_weight=max_weight)\n",
    "                if not np.isnan(w).all():\n",
    "                    wag.append(w)\n",
    "            if np.isnan(wag).all():\n",
    "                continue\n",
    "            wes.append(np.mean(wag))\n",
    "        if len(wes) == 0:\n",
    "            continue\n",
    "        we[eff_rates.index(eff_rate), dbs.index(db)] = np.array(wes)\n",
    "        \"\"\"we[eff_rates.index(eff_rate), dbs.index(db)] = np.array(wes).mean(axis=0).squeeze()\n",
    "        we_std[eff_rates.index(eff_rate), dbs.index(db)] = np.array(wes).std(axis=0).squeeze()\n",
    "        we_median[eff_rates.index(eff_rate), dbs.index(db)] = np.median(np.array(wes), axis=0).squeeze()\"\"\"\n",
    "we[eff_rates.index(1), 1:].mean(axis=1)"
   ],
   "metadata": {
    "collapsed": false,
    "ExecuteTime": {
     "end_time": "2024-06-05T07:44:10.199710Z",
     "start_time": "2024-06-05T07:44:09.899496Z"
    }
   },
   "id": "f6e06d9e6346c5b9",
   "outputs": [
    {
     "data": {
      "text/plain": [
       "array([7.262, 5.841, 1.989])"
      ]
     },
     "execution_count": 18,
     "metadata": {},
     "output_type": "execute_result"
    }
   ],
   "execution_count": 18
  },
  {
   "cell_type": "code",
   "source": "we[eff_rates.index(1), 1:].std(axis=1)",
   "metadata": {
    "collapsed": false,
    "ExecuteTime": {
     "end_time": "2024-06-05T07:44:10.212078Z",
     "start_time": "2024-06-05T07:44:10.199710Z"
    }
   },
   "id": "f329389e676e96e5",
   "outputs": [
    {
     "data": {
      "text/plain": [
       "array([1.19477446, 0.32344689, 0.14346358])"
      ]
     },
     "execution_count": 19,
     "metadata": {},
     "output_type": "execute_result"
    }
   ],
   "execution_count": 19
  },
  {
   "metadata": {
    "ExecuteTime": {
     "end_time": "2024-06-05T07:44:10.227482Z",
     "start_time": "2024-06-05T07:44:10.214588Z"
    }
   },
   "cell_type": "code",
   "source": "np.median(we[eff_rates.index(1), 1:], axis=1)",
   "id": "93939d8e0b2ea718",
   "outputs": [
    {
     "data": {
      "text/plain": [
       "array([7.3975    , 5.85666667, 2.03      ])"
      ]
     },
     "execution_count": 20,
     "metadata": {},
     "output_type": "execute_result"
    }
   ],
   "execution_count": 20
  },
  {
   "metadata": {
    "ExecuteTime": {
     "end_time": "2024-06-05T07:44:10.243560Z",
     "start_time": "2024-06-05T07:44:10.227482Z"
    }
   },
   "cell_type": "code",
   "source": [
    "# Print as latex row for table with standard deviation\n",
    "for eff_rate in [0.2, 0.6, 1]:\n",
    "    print(f\"{int(eff_rate*100)}\\% & \", end=\"\")\n",
    "    for db in [0, 1, 10, 100]:\n",
    "        mean = we[eff_rates.index(eff_rate), dbs.index(db)].mean().round(2)\n",
    "        std = we[eff_rates.index(eff_rate), dbs.index(db)].std().round(2)\n",
    "        if db == 100:\n",
    "            print(f\"{mean} \\\\pm {std} \", end=\"\")\n",
    "        else:\n",
    "            print(f\"{mean} \\\\pm {std} & \", end=\"\")\n",
    "    print(\"\\\\\\\\\")"
   ],
   "id": "9f04cc86a8c169dc",
   "outputs": [
    {
     "name": "stdout",
     "output_type": "stream",
     "text": [
      "20\\% & 0.0 \\pm 0.0 & 1.76 \\pm 0.14 & 1.58 \\pm 0.12 & 1.32 \\pm 0.08 \\\\\n",
      "60\\% & 0.0 \\pm 0.0 & 4.4 \\pm 1.78 & 2.21 \\pm 0.24 & 1.82 \\pm 0.09 \\\\\n",
      "100\\% & 0.0 \\pm 0.0 & 7.26 \\pm 1.19 & 5.84 \\pm 0.32 & 1.99 \\pm 0.14 \\\\\n"
     ]
    }
   ],
   "execution_count": 21
  },
  {
   "cell_type": "code",
   "source": [
    "for db in dbs:\n",
    "    print(we[eff_rates.index(0.2), dbs.index(db)].mean())"
   ],
   "metadata": {
    "collapsed": false,
    "ExecuteTime": {
     "end_time": "2024-06-05T07:44:10.270909Z",
     "start_time": "2024-06-05T07:44:10.246602Z"
    }
   },
   "id": "26016f63083af703",
   "outputs": [
    {
     "name": "stdout",
     "output_type": "stream",
     "text": [
      "0.0\n",
      "1.7559999999999998\n",
      "1.585\n",
      "1.319\n"
     ]
    }
   ],
   "execution_count": 22
  },
  {
   "cell_type": "code",
   "source": [
    "# Plot values as function of weight w that scales the reward\n",
    "import matplotlib.pyplot as plt\n",
    "import  matplotlib\n",
    "# matplotlib.use(\"Qt5Agg\")\n",
    "ref = pd.read_csv(path + folder(1, 1, 20)*2  + \"/mo_rewards.csv\").to_numpy().reshape(-1, 500, 5, 2).mean(axis=1)[0]\n",
    "middle = pd.read_csv(path + folder(1, 1, 10)*2  + \"/mo_rewards.csv\").to_numpy().reshape(-1, 500, 5, 2).mean(axis=1)[0]\n",
    "unet = pd.read_csv(path + folder(0, 1, 0)*2  + \"/mo_rewards.csv\").to_numpy().reshape(-1, 500, 5, 2).mean(axis=1)[0]\n",
    "\n",
    "#ref = np.array([[-2.91336e+02, -5.10000e-02], [-254.629, 0.447], [-100.569, 19.0925], [-217.956, 0.], [-110.72, 17.7443]])\n",
    "#unet = np.array([[-498.81, 0. ], [-499.496, 0. ], [-50.38, -0.594], [-498.619, 0. ], [-84.982, -0.364]])\n",
    "fig, axs = plt.subplots(1, 5, figsize=(25, 5)) \n",
    "step = 0.1\n",
    "# for ag in mo_value_w10:\n",
    "max_weight = 20\n",
    "# Subplot for each agent\n",
    "x = np.arange(0, max_weight, step)\n",
    "w = np.array([np.ones(int(max_weight/step)), np.arange(0, max_weight, step)])\n",
    "for i, ag in enumerate(range(5)):\n",
    "    axs[i].set_title(\"MO Value Function\")\n",
    "    print(np.round(unet[ag], 1))\n",
    "    #axs[i].plot(x, np.dot(unet[ag], w), c=\"blue\")\n",
    "    axs[i].plot(x, np.dot(ref[ag], w), c=\"green\")\n",
    "    if middle is not None:\n",
    "        axs[i].plot(x, np.dot(middle[ag], w), c=\"orange\")\n",
    "    \n",
    "wes = []\n",
    "for ag in range(5):\n",
    "    # Print intersecctions\n",
    "    inter = get_intersection(unet[ag, 0], unet[ag, 1], ref[ag, 0], ref[ag, 1], max_weight=max_weight)\n",
    "    print(inter)\n",
    "    wes.append(inter)\n",
    "plt.show()"
   ],
   "metadata": {
    "collapsed": false,
    "ExecuteTime": {
     "end_time": "2024-06-05T07:57:45.444150Z",
     "start_time": "2024-06-05T07:57:44.775246Z"
    }
   },
   "id": "7b218596e0d38c16",
   "outputs": [
    {
     "name": "stdout",
     "output_type": "stream",
     "text": [
      "[-183.2   -0.2]\n",
      "[-102.7   -0.2]\n",
      "[-1.806e+02 -1.000e-01]\n",
      "[-1.648e+02 -1.000e-01]\n",
      "[-154.5   -0. ]\n",
      "[4.97]\n",
      "[]\n",
      "[]\n",
      "[]\n",
      "[4.83]\n"
     ]
    },
    {
     "data": {
      "text/plain": [
       "<Figure size 2500x500 with 5 Axes>"
      ],
      "image/png": "[encoded data removed]"
     },
     "metadata": {},
     "output_type": "display_data"
    }
   ],
   "execution_count": 28
  },
  {
   "metadata": {
    "ExecuteTime": {
     "end_time": "2024-06-05T07:44:12.434258Z",
     "start_time": "2024-06-05T07:44:12.431103Z"
    }
   },
   "cell_type": "code",
   "source": "",
   "id": "b21bd5812430f405",
   "outputs": [],
   "execution_count": 23
  }
 ],
 "metadata": {
  "kernelspec": {
   "display_name": "Python 3",
   "language": "python",
   "name": "python3"
  },
  "language_info": {
   "codemirror_mode": {
    "name": "ipython",
    "version": 2
   },
   "file_extension": ".py",
   "mimetype": "text/x-python",
   "name": "python",
   "nbconvert_exporter": "python",
   "pygments_lexer": "ipython2",
   "version": "2.7.6"
  }
 },
 "nbformat": 4,
 "nbformat_minor": 5
}
