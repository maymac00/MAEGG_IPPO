{
 "cells": [
  {
   "cell_type": "code",
   "execution_count": 97,
   "id": "initial_id",
   "metadata": {
    "collapsed": true,
    "ExecuteTime": {
     "end_time": "2024-04-22T14:48:00.460605944Z",
     "start_time": "2024-04-22T14:48:00.408948013Z"
    }
   },
   "outputs": [],
   "source": [
    "import pandas as pd\n",
    "import numpy as np\n",
    "path = \"ECAI\"\n",
    "\n",
    "def get_intersection(v01, ve1, v02, ve2):\n",
    "    # handle division by zero masking out the positions where the denominator is zero\n",
    "    denominator = ve2 - ve1\n",
    "    if isinstance(denominator, np.ndarray):\n",
    "        denominator[denominator == 0] = np.nan\n",
    "    else:\n",
    "        if denominator == 0:\n",
    "            return np.nan\n",
    "    wes = (v01 - v02) / denominator\n",
    "    return np.round(wes[(wes >= 0) & (wes <= 10)], 2)"
   ]
  },
  {
   "cell_type": "code",
   "outputs": [
    {
     "data": {
      "text/plain": "(2.4503655660377355, 1.7335857520635367, 2.15)"
     },
     "execution_count": 98,
     "metadata": {},
     "output_type": "execute_result"
    }
   ],
   "source": [
    "# New method\n",
    "folder = lambda db, eff, we : f\"/db{db}_effrate{eff}_we{we}_ECAI\"\n",
    "unethical = pd.read_csv(path + folder(0, 0.2, 0)*2  + \"/mo_rewards.csv\")\n",
    "unethical_np = unethical.to_numpy().reshape(-1, 5, 2)\n",
    "ethical = pd.read_csv(path + folder(1, 0.2, 10)*2  + \"/mo_rewards.csv\")\n",
    "ethical_np = ethical.to_numpy().reshape(-1, 5, 2)\n",
    "\n",
    "# wes  = get_intersection(ethical_np[:, 0, 0], ethical_np[:, 0, 1], unethical_np[:, 0, 1], unethical_np[:, 0, 1])\n",
    "wes = get_intersection(unethical_np[:, 0, 0], unethical_np[:, 0, 1], ethical_np[:, 0, 0], ethical_np[:, 0, 1])\n",
    "wes.mean(), wes.std(), np.median(wes)"
   ],
   "metadata": {
    "collapsed": false,
    "ExecuteTime": {
     "end_time": "2024-04-22T14:48:01.603939779Z",
     "start_time": "2024-04-22T14:48:01.550686224Z"
    }
   },
   "id": "6eb156954f09a1a6",
   "execution_count": 98
  },
  {
   "cell_type": "code",
   "outputs": [
    {
     "data": {
      "text/plain": "(1.81, 0.0)"
     },
     "execution_count": 99,
     "metadata": {},
     "output_type": "execute_result"
    }
   ],
   "source": [
    "# Old method\n",
    "folder = lambda db, eff, we : f\"/db{db}_effrate{eff}_we{we}_ECAI\"\n",
    "unethical = pd.read_csv(path + folder(0, 0.2, 0)*2  + \"/mo_rewards.csv\")\n",
    "unethical_np = unethical.to_numpy().reshape(-1, 5, 2).mean(axis=0)\n",
    "ethical = pd.read_csv(path + folder(1, 0.2, 10)*2  + \"/mo_rewards.csv\")\n",
    "ethical_np = ethical.to_numpy().reshape(-1, 5, 2).mean(axis=0)\n",
    "\n",
    "wes  = get_intersection(unethical_np[0, 0], unethical_np[0, 1], ethical_np[0, 0], ethical_np[0, 1])\n",
    "wes.mean(), wes.std()"
   ],
   "metadata": {
    "collapsed": false,
    "ExecuteTime": {
     "end_time": "2024-04-22T14:48:04.730126596Z",
     "start_time": "2024-04-22T14:48:04.676983234Z"
    }
   },
   "id": "31dca464b575976a",
   "execution_count": 99
  }
 ],
 "metadata": {
  "kernelspec": {
   "display_name": "Python 3",
   "language": "python",
   "name": "python3"
  },
  "language_info": {
   "codemirror_mode": {
    "name": "ipython",
    "version": 2
   },
   "file_extension": ".py",
   "mimetype": "text/x-python",
   "name": "python",
   "nbconvert_exporter": "python",
   "pygments_lexer": "ipython2",
   "version": "2.7.6"
  }
 },
 "nbformat": 4,
 "nbformat_minor": 5
}
