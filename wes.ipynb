{
 "cells": [
  {
   "cell_type": "code",
   "execution_count": 2,
   "id": "initial_id",
   "metadata": {
    "collapsed": true,
    "ExecuteTime": {
     "end_time": "2024-04-26T16:26:51.073602066Z",
     "start_time": "2024-04-26T16:26:50.869768364Z"
    }
   },
   "outputs": [],
   "source": [
    "import pandas as pd\n",
    "import numpy as np\n",
    "path = \"ECAI\"\n",
    "\n",
    "def get_intersection(v01, ve1, v02, ve2):\n",
    "    # handle division by zero masking out the positions where the denominator is zero\n",
    "    denominator = ve2 - ve1\n",
    "    if isinstance(denominator, np.ndarray):\n",
    "        denominator[denominator == 0] = np.nan\n",
    "    else:\n",
    "        if denominator == 0:\n",
    "            return np.nan\n",
    "    wes = (v01 - v02) / denominator\n",
    "    return np.round(wes[(wes >= 0) & (wes <= 10)], 2)\n"
   ]
  },
  {
   "cell_type": "code",
   "outputs": [
    {
     "data": {
      "text/plain": "(2.4719976019184653, 1.6991766139698001, 2.18)"
     },
     "execution_count": 3,
     "metadata": {},
     "output_type": "execute_result"
    }
   ],
   "source": [
    "# New method\n",
    "folder = lambda db, eff, we : f\"/db{db}_effrate{eff}_we{we}_ECAI\"\n",
    "unethical = pd.read_csv(path + folder(0, 0.2, 0)*2  + \"/mo_rewards.csv\")\n",
    "unethical_np = unethical.to_numpy().reshape(-1, 5, 2)\n",
    "ethical = pd.read_csv(path + folder(1, 0.2, 10)*2  + \"/mo_rewards.csv\")\n",
    "ethical_np = ethical.to_numpy().reshape(-1, 5, 2)\n",
    "\n",
    "# wes  = get_intersection(ethical_np[:, 0, 0], ethical_np[:, 0, 1], unethical_np[:, 0, 1], unethical_np[:, 0, 1])\n",
    "wes = get_intersection(unethical_np[:, 0, 0], unethical_np[:, 0, 1], ethical_np[:, 0, 0], ethical_np[:, 0, 1])\n",
    "wes.mean(), wes.std(), np.median(wes)"
   ],
   "metadata": {
    "collapsed": false,
    "ExecuteTime": {
     "end_time": "2024-04-26T16:26:51.116383579Z",
     "start_time": "2024-04-26T16:26:51.115565691Z"
    }
   },
   "id": "6eb156954f09a1a6",
   "execution_count": 3
  },
  {
   "cell_type": "code",
   "outputs": [
    {
     "data": {
      "text/plain": "(1.75, 0.0)"
     },
     "execution_count": 4,
     "metadata": {},
     "output_type": "execute_result"
    }
   ],
   "source": [
    "# Old method\n",
    "folder = lambda db, eff, we : f\"/db{db}_effrate{eff}_we{we}_ECAI\"\n",
    "unethical = pd.read_csv(path + folder(0, 0.2, 0)*2  + \"/mo_rewards.csv\")\n",
    "unethical_np = unethical.to_numpy().reshape(-1, 5, 2).mean(axis=0)\n",
    "ethical = pd.read_csv(path + folder(1, 0.2, 10)*2  + \"/mo_rewards.csv\")\n",
    "ethical_np = ethical.to_numpy().reshape(-1, 5, 2).mean(axis=0)\n",
    "\n",
    "wes  = get_intersection(unethical_np[0, 0], unethical_np[0, 1], ethical_np[0, 0], ethical_np[0, 1])\n",
    "wes.mean(), wes.std()"
   ],
   "metadata": {
    "collapsed": false,
    "ExecuteTime": {
     "end_time": "2024-04-26T16:26:51.117150622Z",
     "start_time": "2024-04-26T16:26:51.115824465Z"
    }
   },
   "id": "31dca464b575976a",
   "execution_count": 4
  },
  {
   "cell_type": "code",
   "outputs": [
    {
     "name": "stdout",
     "output_type": "stream",
     "text": [
      "2.37 +- 1.73 Median 2.08\n",
      "2.53 +- 1.73 Median 2.23\n",
      "2.48 +- 1.65 Median 2.2\n",
      "2.49 +- 1.74 Median 2.09\n",
      "2.42 +- 1.72 Median 2.09\n",
      "2.34 +- 1.57 Median 2.12\n",
      "2.52 +- 1.74 Median 2.15\n",
      "2.59 +- 1.81 Median 2.34\n",
      "2.47 +- 1.66 Median 2.2\n",
      "2.5 +- 1.6 Median 2.31\n"
     ]
    }
   ],
   "source": [
    "# New By groups of 500\n",
    "\n",
    "unethical = pd.read_csv(path + folder(0, 0.2, 0)*2  + \"/mo_rewards.csv\")\n",
    "unethical_np = unethical.to_numpy().reshape(-1, 5, 2)\n",
    "ethical = pd.read_csv(path + folder(1, 0.2, 10)*2  + \"/mo_rewards.csv\")\n",
    "ethical_np = ethical.to_numpy().reshape(-1, 5, 2)\n",
    "unethical_np = unethical_np.reshape(-1, 500, 5, 2)\n",
    "ethical_np = ethical_np.reshape(-1, 500, 5, 2)\n",
    "\n",
    "wes = []\n",
    "for i in range(unethical_np.shape[0]):\n",
    "    wes.append(get_intersection(unethical_np[i, :, 0, 0], unethical_np[i, :, 0, 1], ethical_np[i, :, 0, 0], ethical_np[i, :, 0, 1]))\n",
    "    \n",
    "for we in wes:\n",
    "    print(we.mean().round(2), \"+-\", we.std().round(2), \"Median\" ,np.median(we))"
   ],
   "metadata": {
    "collapsed": false,
    "ExecuteTime": {
     "end_time": "2024-04-26T16:26:51.122045698Z",
     "start_time": "2024-04-26T16:26:51.116012026Z"
    }
   },
   "id": "ce1ba3512497a6b3",
   "execution_count": 5
  },
  {
   "cell_type": "code",
   "outputs": [
    {
     "data": {
      "text/plain": "(array([1.756]), array([0.13821722]), array([1.74]))"
     },
     "execution_count": 6,
     "metadata": {},
     "output_type": "execute_result"
    }
   ],
   "source": [
    "# Old By groups of 500\n",
    "\n",
    "unethical = pd.read_csv(path + folder(0, 0.2, 0)*2  + \"/mo_rewards.csv\")\n",
    "unethical_np = unethical.to_numpy().reshape(-1, 500, 5, 2).mean(axis=1)\n",
    "ethical = pd.read_csv(path + folder(1, 0.2, 10)*2  + \"/mo_rewards.csv\")\n",
    "ethical_np = ethical.to_numpy().reshape(-1, 500, 5, 2).mean(axis=1)\n",
    "\n",
    "wes = []\n",
    "for i in range(unethical_np.shape[0]):\n",
    "    wes.append(get_intersection(unethical_np[i, 0, 0], unethical_np[i, 0, 1], ethical_np[i,0, 0], ethical_np[i, 0, 1]))\n",
    "    \n",
    "we = np.array(wes)\n",
    "we.mean(axis=0), we.std(axis=0), np.median(we, axis=0)"
   ],
   "metadata": {
    "collapsed": false,
    "ExecuteTime": {
     "end_time": "2024-04-26T16:26:51.168809251Z",
     "start_time": "2024-04-26T16:26:51.125285786Z"
    }
   },
   "id": "c3f494455bd7f446",
   "execution_count": 6
  },
  {
   "cell_type": "code",
   "outputs": [
    {
     "data": {
      "text/plain": "array([0.   , 4.617, 6.597])"
     },
     "execution_count": 7,
     "metadata": {},
     "output_type": "execute_result"
    }
   ],
   "source": [
    "eff_rates = [0, 0.2, 0.6, 1]\n",
    "dbs = [0, 1, 10, 100]\n",
    "\n",
    "we = np.zeros((len(eff_rates), len(dbs), 10))\n",
    "we_std = np.zeros((len(eff_rates), len(dbs)))\n",
    "we_median = np.zeros((len(eff_rates), len(dbs)))\n",
    "\n",
    "for eff_rate in eff_rates:\n",
    "    for db in dbs:\n",
    "        if eff_rate == 0:\n",
    "            continue\n",
    "        if eff_rate == 1:\n",
    "            unethical = pd.read_csv(path + folder(0, eff_rate, 10)*2  + \"/mo_rewards.csv\")\n",
    "        else:\n",
    "            unethical = pd.read_csv(path + folder(0, eff_rate, 0)*2  + \"/mo_rewards.csv\")\n",
    "        unethical_np = unethical.to_numpy().reshape(-1, 500, 5, 2).mean(axis=1)\n",
    "        ethical = pd.read_csv(path + folder(db, eff_rate, 10)*2  + \"/mo_rewards.csv\")\n",
    "        ethical_np = ethical.to_numpy().reshape(-1, 500, 5, 2).mean(axis=1)\n",
    "\n",
    "        wes = []\n",
    "        for i in range(unethical_np.shape[0]):\n",
    "            wag = []\n",
    "            for ag in range(5):\n",
    "                w = get_intersection(unethical_np[i, ag, 0], unethical_np[i, ag, 1], ethical_np[i, ag, 0], ethical_np[i, ag, 1])\n",
    "                if not np.isnan(w).all():\n",
    "                    wag.append(w)\n",
    "            if np.isnan(wag).all():\n",
    "                continue\n",
    "            wes.append(np.mean(wag))\n",
    "        if len(wes) == 0:\n",
    "            continue\n",
    "        we[eff_rates.index(eff_rate), dbs.index(db)] = np.array(wes)\n",
    "        \"\"\"we[eff_rates.index(eff_rate), dbs.index(db)] = np.array(wes).mean(axis=0).squeeze()\n",
    "        we_std[eff_rates.index(eff_rate), dbs.index(db)] = np.array(wes).std(axis=0).squeeze()\n",
    "        we_median[eff_rates.index(eff_rate), dbs.index(db)] = np.median(np.array(wes), axis=0).squeeze()\"\"\"\n",
    "we[eff_rates.index(1), 1:].mean(axis=1)"
   ],
   "metadata": {
    "collapsed": false,
    "ExecuteTime": {
     "end_time": "2024-04-26T16:26:51.272423342Z",
     "start_time": "2024-04-26T16:26:51.143375581Z"
    }
   },
   "id": "f6e06d9e6346c5b9",
   "execution_count": 7
  },
  {
   "cell_type": "code",
   "outputs": [
    {
     "data": {
      "text/plain": "array([0.   , 4.617, 6.597])"
     },
     "execution_count": 8,
     "metadata": {},
     "output_type": "execute_result"
    }
   ],
   "source": [
    "we[eff_rates.index(1), 1:].mean(axis=1)"
   ],
   "metadata": {
    "collapsed": false,
    "ExecuteTime": {
     "end_time": "2024-04-26T16:26:51.277445539Z",
     "start_time": "2024-04-26T16:26:51.271322211Z"
    }
   },
   "id": "f329389e676e96e5",
   "execution_count": 8
  },
  {
   "cell_type": "code",
   "outputs": [
    {
     "name": "stdout",
     "output_type": "stream",
     "text": [
      "0.0\n",
      "1.7559999999999998\n",
      "1.585\n",
      "1.9810000000000003\n"
     ]
    }
   ],
   "source": [
    "for db in dbs:\n",
    "    print(we[eff_rates.index(0.2), dbs.index(db)].mean())"
   ],
   "metadata": {
    "collapsed": false,
    "ExecuteTime": {
     "end_time": "2024-04-26T16:26:51.280988841Z",
     "start_time": "2024-04-26T16:26:51.276536050Z"
    }
   },
   "id": "26016f63083af703",
   "execution_count": 9
  },
  {
   "cell_type": "code",
   "outputs": [
    {
     "data": {
      "text/plain": "F_onewayResult(statistic=23.327105874107495, pvalue=1.306903150069376e-06)"
     },
     "execution_count": 10,
     "metadata": {},
     "output_type": "execute_result"
    }
   ],
   "source": [
    "from scipy.stats import f_oneway\n",
    " \n",
    "# Conduct the one-way ANOVA\n",
    "f_oneway(we[eff_rates.index(0.2), dbs.index(1)], we[eff_rates.index(0.2), dbs.index(10)], we[eff_rates.index(0.2), dbs.index(100)])"
   ],
   "metadata": {
    "collapsed": false,
    "ExecuteTime": {
     "end_time": "2024-04-26T16:26:51.503613757Z",
     "start_time": "2024-04-26T16:26:51.280332681Z"
    }
   },
   "id": "f8e7124b41399cf4",
   "execution_count": 10
  },
  {
   "cell_type": "code",
   "outputs": [
    {
     "data": {
      "text/plain": "array([], dtype=float64)"
     },
     "execution_count": 11,
     "metadata": {},
     "output_type": "execute_result"
    }
   ],
   "source": [
    "# Validation \n",
    "we1_75 = pd.read_csv(path + folder(10, 0.2, 1.66)*2  + \"/mo_rewards.csv\").to_numpy().reshape(-1, 500, 5, 2).mean(axis=1)\n",
    "ethical = pd.read_csv(path + folder(10, 0.2, 10)*2  + \"/mo_rewards.csv\")\n",
    "ethical = ethical.to_numpy().reshape(-1, 500, 5, 2).mean(axis=1)\n",
    "\n",
    "# intersect\n",
    "get_intersection(we1_75[0, :, 0], we1_75[0, :, 1], ethical[0, :, 0], ethical[0, :, 1])"
   ],
   "metadata": {
    "collapsed": false,
    "ExecuteTime": {
     "end_time": "2024-04-26T16:26:51.519335531Z",
     "start_time": "2024-04-26T16:26:51.504541311Z"
    }
   },
   "id": "5aaa4ce4a75ee406",
   "execution_count": 11
  },
  {
   "cell_type": "code",
   "outputs": [
    {
     "name": "stdout",
     "output_type": "stream",
     "text": [
      "[]\n",
      "[]\n",
      "[2.55]\n",
      "nan\n",
      "[1.42]\n"
     ]
    },
    {
     "data": {
      "text/plain": "<Figure size 2500x500 with 5 Axes>",
      "image/png": "[encoded data removed]"
     },
     "metadata": {},
     "output_type": "display_data"
    }
   ],
   "source": [
    "# Plot values as function of weight w that scales the reward\n",
    "import matplotlib.pyplot as plt\n",
    "\n",
    "# ref = we1_75[0]\n",
    "# unet = pd.read_csv(path + folder(1, 0.2, 10)*2  + \"/mo_rewards.csv\").to_numpy().reshape(-1, 500, 5, 2).mean(axis=1)[0]\n",
    "\n",
    "ref = np.array([[-2.91336e+02, -5.10000e-02], [-254.629, 0.447], [-100.569, 19.0925], [-217.956, 0.], [-110.72, 17.7443]])\n",
    "unet = np.array([[-498.81, 0. ], [-499.496, 0. ], [-50.38, -0.594], [-498.619, 0. ], [-84.982, -0.364]])\n",
    "fig, axs = plt.subplots(1, 5, figsize=(25, 5)) \n",
    "step = 0.1\n",
    "# for ag in mo_value_w10:\n",
    "max_weight = 10\n",
    "# Subplot for each agent\n",
    "x = np.arange(0, max_weight, step)\n",
    "w = np.array([np.ones(int(max_weight/step)), np.arange(0, max_weight, step)])\n",
    "for ag in range(5):\n",
    "    axs[ag].set_title(\"MO Value Function\")\n",
    "\n",
    "    axs[ag].plot(x, np.dot(unet[ag], w), c=\"blue\")\n",
    "    axs[ag].plot(x, np.dot(ref[ag], w), c=\"green\")\n",
    "    \n",
    "wes = []\n",
    "for ag in range(5):\n",
    "    # Print intersecctions\n",
    "    inter = get_intersection(unet[ag, 0], unet[ag, 1], ref[ag, 0], ref[ag, 1])\n",
    "    print(inter)\n",
    "    wes.append(inter)\n",
    "plt.show()"
   ],
   "metadata": {
    "collapsed": false,
    "ExecuteTime": {
     "end_time": "2024-04-26T16:27:44.855338857Z",
     "start_time": "2024-04-26T16:27:44.382854466Z"
    }
   },
   "id": "7b218596e0d38c16",
   "execution_count": 13
  }
 ],
 "metadata": {
  "kernelspec": {
   "display_name": "Python 3",
   "language": "python",
   "name": "python3"
  },
  "language_info": {
   "codemirror_mode": {
    "name": "ipython",
    "version": 2
   },
   "file_extension": ".py",
   "mimetype": "text/x-python",
   "name": "python",
   "nbconvert_exporter": "python",
   "pygments_lexer": "ipython2",
   "version": "2.7.6"
  }
 },
 "nbformat": 4,
 "nbformat_minor": 5
}
