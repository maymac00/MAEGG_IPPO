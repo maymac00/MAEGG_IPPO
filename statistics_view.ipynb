{
 "cells": [
  {
   "metadata": {
    "ExecuteTime": {
     "end_time": "2024-07-11T08:49:34.639630Z",
     "start_time": "2024-07-11T08:49:34.635888Z"
    }
   },
   "cell_type": "code",
   "source": [
    "import os\n",
    "import pandas as pd\n",
    "import numpy as np\n",
    "\n",
    "root = \"/home/arnau/PycharmProjects/MAEGG_IPPO/\"\n",
    "\n",
    "w_e = {\n",
    "    0.2: {\n",
    "        1: 2.139,\n",
    "        10: 2.674,\n",
    "        1000: 2.656\n",
    "    },\n",
    "    0.4: {\n",
    "        1: 2.505,\n",
    "        10: 1.98,\n",
    "        1000: 10\n",
    "    },\n",
    "    0.6: {\n",
    "        1: 7.842,\n",
    "        10: 6.472,\n",
    "        1000: 6.76\n",
    "    },\n",
    "    0.8: {\n",
    "        1: 8.982,\n",
    "        10: 6.678,\n",
    "        1000: 2.556\n",
    "    }\n",
    "}"
   ],
   "id": "3d824c0ea8a2a3c6",
   "outputs": [],
   "execution_count": 53
  },
  {
   "cell_type": "code",
   "id": "initial_id",
   "metadata": {
    "collapsed": true,
    "ExecuteTime": {
     "end_time": "2024-07-11T08:49:34.656310Z",
     "start_time": "2024-07-11T08:49:34.640927Z"
    }
   },
   "source": [
    "# build the whole statistics db\n",
    "\n",
    "eff_rates = [0.2, 0.4, 0.6, 0.8]\n",
    "dbs = [0, 1, 10, 1000]\n",
    "header = None\n",
    "data = {}\n",
    "\n",
    "for eff_rate in eff_rates:\n",
    "    for db in dbs:\n",
    "        try:\n",
    "            os.chdir(root)\n",
    "            os.chdir(f\"EGG_DATA/db{db}_effrate{eff_rate}_we{w_e[eff_rate][db]}_ECAI_new/db{db}_effrate{eff_rate}_we{w_e[eff_rate][db]}_ECAI_new\")\n",
    "            df = pd.read_csv(\"stats.csv\")\n",
    "            if header is None:\n",
    "                header = list(df.columns)\n",
    "            data[(eff_rate, db, w_e[eff_rate][db])] = df.to_numpy()\n",
    "        except Exception as e:\n",
    "            continue\n",
    "            "
   ],
   "outputs": [],
   "execution_count": 54
  },
  {
   "metadata": {
    "ExecuteTime": {
     "end_time": "2024-07-11T08:49:34.663140Z",
     "start_time": "2024-07-11T08:49:34.657388Z"
    }
   },
   "cell_type": "code",
   "source": "header",
   "id": "cbe215f55a738114",
   "outputs": [
    {
     "data": {
      "text/plain": [
       "['Agent',\n",
       " 'Apples Stepped',\n",
       " 'Apples Stepped Ratio',\n",
       " 'Apples gathered',\n",
       " 'Apples dropped',\n",
       " 'Apples from box']"
      ]
     },
     "execution_count": 55,
     "metadata": {},
     "output_type": "execute_result"
    }
   ],
   "execution_count": 55
  },
  {
   "metadata": {
    "ExecuteTime": {
     "end_time": "2024-07-11T08:49:34.673121Z",
     "start_time": "2024-07-11T08:49:34.664461Z"
    }
   },
   "cell_type": "code",
   "source": [
    "# View one register\n",
    "get = lambda eff_rate, db : data[(eff_rate, db, w_e[eff_rate][db])]\n",
    "get(0.2, 1)"
   ],
   "id": "f7d4cd6fee90c5f8",
   "outputs": [
    {
     "data": {
      "text/plain": [
       "array([[0.000e+00, 9.728e+01, 3.200e-01, 8.260e+01, 1.468e+01, 0.000e+00],\n",
       "       [1.000e+00, 2.796e+01, 9.000e-02, 5.810e+00, 2.215e+01, 1.117e+01],\n",
       "       [2.000e+00, 3.623e+01, 1.200e-01, 7.100e+00, 2.913e+01, 1.069e+01],\n",
       "       [3.000e+00, 3.403e+01, 1.100e-01, 6.760e+00, 2.727e+01, 1.084e+01],\n",
       "       [4.000e+00, 2.223e+01, 7.000e-02, 4.680e+00, 1.755e+01, 1.181e+01]])"
      ]
     },
     "execution_count": 56,
     "metadata": {},
     "output_type": "execute_result"
    }
   ],
   "execution_count": 56
  },
  {
   "metadata": {
    "ExecuteTime": {
     "end_time": "2024-07-11T10:21:35.430147Z",
     "start_time": "2024-07-11T10:21:35.425547Z"
    }
   },
   "cell_type": "code",
   "source": [
    "# View of fixed db size, change eff rate and barplot the number of dropped apples for each eff rate\n",
    "import matplotlib.pyplot as plt\n",
    "\n",
    "def get_some_data(eff_rate):\n",
    "    dbs = [1, 10, 1000]\n",
    "    \n",
    "    dropped_apples = []\n",
    "    gathered_apples = []\n",
    "    stepped_apples = []\n",
    "    competition = []\n",
    "    ineff_stepped = []\n",
    "    eff_stepped = []\n",
    "    generated_apples = []\n",
    "    leftover_apples = []\n",
    "    for db in dbs:\n",
    "        dropped = get(eff_rate,db)[:, header.index('Apples dropped')]\n",
    "        gathered = get(eff_rate,db)[:, header.index('Apples gathered')]\n",
    "        stepped = get(eff_rate,db)[:, header.index('Apples Stepped')].sum()\n",
    "        \n",
    "        stepped_inefficients = get(eff_rate,db)[int(eff_rate*5):, header.index('Apples Stepped')].mean()\n",
    "        stepped_efficients = get(eff_rate,db)[:int(eff_rate*5), header.index('Apples Stepped')].mean()\n",
    "        competition.append(stepped_efficients / stepped_inefficients)\n",
    "        ineff_stepped.append(stepped_inefficients)\n",
    "        eff_stepped.append(stepped_efficients)\n",
    "        \n",
    "        gen = stepped /  get(eff_rate,db)[:, header.index('Apples Stepped Ratio')].sum()\n",
    "        generated_apples.append(gen)\n",
    "        leftover_apples.append((1-get(eff_rate,db)[:, header.index('Apples Stepped Ratio')].sum()) * gen)\n",
    "        \n",
    "        dropped_apples.append(dropped.sum())\n",
    "        gathered_apples.append(gathered.sum())\n",
    "        stepped_apples.append(dropped.sum() + gathered.sum())\n",
    "    \n",
    "    return dropped_apples, gathered_apples, stepped_apples, competition, ineff_stepped, eff_stepped, generated_apples, leftover_apples\n"
   ],
   "id": "9453bfeabbf60d7a",
   "execution_count": 222,
   "outputs": []
  },
  {
   "metadata": {
    "ExecuteTime": {
     "end_time": "2024-07-11T13:48:43.218426Z",
     "start_time": "2024-07-11T13:48:43.208512Z"
    }
   },
   "cell_type": "code",
   "source": [
    "eff_rates = [0.2, 0.4, 0.6, 0.8]\n",
    "ineff_stepped_arr = np.zeros((len(eff_rates), 3))\n",
    "eff_stepped_arr = np.zeros((len(eff_rates), 3))\n",
    "competition_arr = np.zeros((len(eff_rates), 3))\n",
    "generated_apples_arr = np.zeros((len(eff_rates), 3))\n",
    "leftover_apples_arr = np.zeros((len(eff_rates), 3))\n",
    "stepped_apples_arr = np.zeros((len(eff_rates), 3))\n",
    "gathered_apples_arr = np.zeros((len(eff_rates), 3))\n",
    "for i, eff_rate in enumerate(eff_rates):\n",
    "    dropped_apples, gathered_apples, stepped_apples, competition, ineff_stepped, eff_stepped, generated_apples, leftover_apples = get_some_data(eff_rate)\n",
    "    ineff_stepped_arr[i] = np.array(ineff_stepped)\n",
    "    eff_stepped_arr[i] = np.array(eff_stepped)\n",
    "    competition_arr[i] = np.array(competition)\n",
    "    generated_apples_arr[i] = np.array(generated_apples)\n",
    "    leftover_apples_arr[i] = np.array(leftover_apples)\n",
    "    stepped_apples_arr[i] = np.array(stepped_apples)\n",
    "    gathered_apples_arr[i] = np.array(gathered_apples)\n",
    "pd.DataFrame(stepped_apples_arr, columns=['db1', 'db10', 'db1000'], index=eff_rates)"
   ],
   "id": "83aff34aaaa6fb8b",
   "outputs": [
    {
     "data": {
      "text/plain": [
       "        db1    db10  db1000\n",
       "0.2  217.73  181.97  181.27\n",
       "0.4  249.25  186.15  244.39\n",
       "0.6  219.60  224.26  266.53\n",
       "0.8  266.86  233.45  268.00"
      ],
      "text/html": [
       "<div>\n",
       "<style scoped>\n",
       "    .dataframe tbody tr th:only-of-type {\n",
       "        vertical-align: middle;\n",
       "    }\n",
       "\n",
       "    .dataframe tbody tr th {\n",
       "        vertical-align: top;\n",
       "    }\n",
       "\n",
       "    .dataframe thead th {\n",
       "        text-align: right;\n",
       "    }\n",
       "</style>\n",
       "<table border=\"1\" class=\"dataframe\">\n",
       "  <thead>\n",
       "    <tr style=\"text-align: right;\">\n",
       "      <th></th>\n",
       "      <th>db1</th>\n",
       "      <th>db10</th>\n",
       "      <th>db1000</th>\n",
       "    </tr>\n",
       "  </thead>\n",
       "  <tbody>\n",
       "    <tr>\n",
       "      <th>0.2</th>\n",
       "      <td>217.73</td>\n",
       "      <td>181.97</td>\n",
       "      <td>181.27</td>\n",
       "    </tr>\n",
       "    <tr>\n",
       "      <th>0.4</th>\n",
       "      <td>249.25</td>\n",
       "      <td>186.15</td>\n",
       "      <td>244.39</td>\n",
       "    </tr>\n",
       "    <tr>\n",
       "      <th>0.6</th>\n",
       "      <td>219.60</td>\n",
       "      <td>224.26</td>\n",
       "      <td>266.53</td>\n",
       "    </tr>\n",
       "    <tr>\n",
       "      <th>0.8</th>\n",
       "      <td>266.86</td>\n",
       "      <td>233.45</td>\n",
       "      <td>268.00</td>\n",
       "    </tr>\n",
       "  </tbody>\n",
       "</table>\n",
       "</div>"
      ]
     },
     "execution_count": 230,
     "metadata": {},
     "output_type": "execute_result"
    }
   ],
   "execution_count": 230
  }
 ],
 "metadata": {
  "kernelspec": {
   "display_name": "Python 3",
   "language": "python",
   "name": "python3"
  },
  "language_info": {
   "codemirror_mode": {
    "name": "ipython",
    "version": 2
   },
   "file_extension": ".py",
   "mimetype": "text/x-python",
   "name": "python",
   "nbconvert_exporter": "python",
   "pygments_lexer": "ipython2",
   "version": "2.7.6"
  }
 },
 "nbformat": 4,
 "nbformat_minor": 5
}
